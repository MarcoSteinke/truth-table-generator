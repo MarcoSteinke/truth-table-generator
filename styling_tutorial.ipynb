{
 "cells": [
  {
   "cell_type": "code",
   "execution_count": 1,
   "metadata": {
    "ExecuteTime": {
     "end_time": "2020-05-04T14:49:13.079174Z",
     "start_time": "2020-05-04T14:49:12.923639Z"
    }
   },
   "outputs": [],
   "source": [
    "import ttg\n"
   ]
  },
  {
   "cell_type": "markdown",
   "metadata": {},
   "source": [
    "Functions to be applied. You can create your own functions as shown [here](https://pandas.pydata.org/pandas-docs/stable/user_guide/style.html)."
   ]
  },
  {
   "cell_type": "code",
   "execution_count": 2,
   "metadata": {
    "ExecuteTime": {
     "end_time": "2020-05-04T14:49:14.377957Z",
     "start_time": "2020-05-04T14:49:14.361927Z"
    }
   },
   "outputs": [],
   "source": [
    "def color_false_red(val):\n",
    "    \"\"\"Color red False (0) and green True (1) values\"\"\"\n",
    "    color = 'red' if (val == False) else 'green'\n",
    "    return 'color: %s' % color\n",
    "\n",
    "\n",
    "def df_style(logic, hl_rows=[], hl_cols=[]):\n",
    "    \"\"\"Applies style to logical expression (logic) pandas truth table. \n",
    "    Text: center. Table: no index column. Highlight yellow rows and columns in \n",
    "    lists (hl_rows and hl_cols). At the end applies color_false_red function\"\"\"\n",
    "    d = logic.as_pandas.style.set_table_styles([{\n",
    "        'selector':\n",
    "        'th',\n",
    "        'props': [('font-size', '12pt')]\n",
    "    }]).set_properties(**{\n",
    "        'text-align': 'center',\n",
    "        'font-size': '115%'\n",
    "    }).apply(\n",
    "        lambda x:\n",
    "        ['background: lightyellow' if x.name in hl_rows else '' for i in x],\n",
    "        axis=1).apply(lambda x: [\n",
    "            'background: lightyellow' if x.name in hl_cols else '' for i in x\n",
    "        ],\n",
    "                      axis=0).hide(axis=\"index\")\n",
    "    d = d.applymap(color_false_red)\n",
    "    return d\n"
   ]
  },
  {
   "cell_type": "code",
   "execution_count": 3,
   "metadata": {
    "ExecuteTime": {
     "end_time": "2020-05-04T14:49:15.506316Z",
     "start_time": "2020-05-04T14:49:15.503400Z"
    }
   },
   "outputs": [],
   "source": [
    "# creating a table\n",
    "table = ttg.Truths(['p', 'q'],\n",
    "                   ['p => q', 'q => p', '(p => q) and (q => p)', 'p = q'],\n",
    "                   ints=False)\n"
   ]
  },
  {
   "cell_type": "code",
   "execution_count": 4,
   "metadata": {
    "ExecuteTime": {
     "end_time": "2020-05-04T14:49:17.208345Z",
     "start_time": "2020-05-04T14:49:16.446482Z"
    }
   },
   "outputs": [
    {
     "data": {
      "text/html": [
       "<style type=\"text/css\">\n",
       "#T_d1252 th {\n",
       "  font-size: 12pt;\n",
       "}\n",
       "#T_d1252_row0_col0, #T_d1252_row0_col1, #T_d1252_row0_col2, #T_d1252_row0_col3, #T_d1252_row0_col4, #T_d1252_row0_col5, #T_d1252_row1_col0, #T_d1252_row1_col3, #T_d1252_row2_col1, #T_d1252_row2_col2, #T_d1252_row3_col2, #T_d1252_row3_col3, #T_d1252_row3_col4, #T_d1252_row3_col5 {\n",
       "  text-align: center;\n",
       "  font-size: 115%;\n",
       "  color: green;\n",
       "}\n",
       "#T_d1252_row1_col1, #T_d1252_row1_col2, #T_d1252_row1_col4, #T_d1252_row1_col5, #T_d1252_row2_col0, #T_d1252_row2_col3, #T_d1252_row2_col4, #T_d1252_row2_col5, #T_d1252_row3_col0, #T_d1252_row3_col1 {\n",
       "  text-align: center;\n",
       "  font-size: 115%;\n",
       "  color: red;\n",
       "}\n",
       "</style>\n",
       "<table id=\"T_d1252\">\n",
       "  <thead>\n",
       "    <tr>\n",
       "      <th id=\"T_d1252_level0_col0\" class=\"col_heading level0 col0\" >p</th>\n",
       "      <th id=\"T_d1252_level0_col1\" class=\"col_heading level0 col1\" >q</th>\n",
       "      <th id=\"T_d1252_level0_col2\" class=\"col_heading level0 col2\" >p => q</th>\n",
       "      <th id=\"T_d1252_level0_col3\" class=\"col_heading level0 col3\" >q => p</th>\n",
       "      <th id=\"T_d1252_level0_col4\" class=\"col_heading level0 col4\" >(p => q) and (q => p)</th>\n",
       "      <th id=\"T_d1252_level0_col5\" class=\"col_heading level0 col5\" >p = q</th>\n",
       "    </tr>\n",
       "  </thead>\n",
       "  <tbody>\n",
       "    <tr>\n",
       "      <td id=\"T_d1252_row0_col0\" class=\"data row0 col0\" >True</td>\n",
       "      <td id=\"T_d1252_row0_col1\" class=\"data row0 col1\" >True</td>\n",
       "      <td id=\"T_d1252_row0_col2\" class=\"data row0 col2\" >True</td>\n",
       "      <td id=\"T_d1252_row0_col3\" class=\"data row0 col3\" >True</td>\n",
       "      <td id=\"T_d1252_row0_col4\" class=\"data row0 col4\" >True</td>\n",
       "      <td id=\"T_d1252_row0_col5\" class=\"data row0 col5\" >True</td>\n",
       "    </tr>\n",
       "    <tr>\n",
       "      <td id=\"T_d1252_row1_col0\" class=\"data row1 col0\" >True</td>\n",
       "      <td id=\"T_d1252_row1_col1\" class=\"data row1 col1\" >False</td>\n",
       "      <td id=\"T_d1252_row1_col2\" class=\"data row1 col2\" >False</td>\n",
       "      <td id=\"T_d1252_row1_col3\" class=\"data row1 col3\" >True</td>\n",
       "      <td id=\"T_d1252_row1_col4\" class=\"data row1 col4\" >False</td>\n",
       "      <td id=\"T_d1252_row1_col5\" class=\"data row1 col5\" >False</td>\n",
       "    </tr>\n",
       "    <tr>\n",
       "      <td id=\"T_d1252_row2_col0\" class=\"data row2 col0\" >False</td>\n",
       "      <td id=\"T_d1252_row2_col1\" class=\"data row2 col1\" >True</td>\n",
       "      <td id=\"T_d1252_row2_col2\" class=\"data row2 col2\" >True</td>\n",
       "      <td id=\"T_d1252_row2_col3\" class=\"data row2 col3\" >False</td>\n",
       "      <td id=\"T_d1252_row2_col4\" class=\"data row2 col4\" >False</td>\n",
       "      <td id=\"T_d1252_row2_col5\" class=\"data row2 col5\" >False</td>\n",
       "    </tr>\n",
       "    <tr>\n",
       "      <td id=\"T_d1252_row3_col0\" class=\"data row3 col0\" >False</td>\n",
       "      <td id=\"T_d1252_row3_col1\" class=\"data row3 col1\" >False</td>\n",
       "      <td id=\"T_d1252_row3_col2\" class=\"data row3 col2\" >True</td>\n",
       "      <td id=\"T_d1252_row3_col3\" class=\"data row3 col3\" >True</td>\n",
       "      <td id=\"T_d1252_row3_col4\" class=\"data row3 col4\" >True</td>\n",
       "      <td id=\"T_d1252_row3_col5\" class=\"data row3 col5\" >True</td>\n",
       "    </tr>\n",
       "  </tbody>\n",
       "</table>\n"
      ],
      "text/plain": [
       "<pandas.io.formats.style.Styler at 0x7f17e067a950>"
      ]
     },
     "execution_count": 4,
     "metadata": {},
     "output_type": "execute_result"
    }
   ],
   "source": [
    "# applying style. Without lists of rows and columns to highlight.\n",
    "df_style(table)\n"
   ]
  },
  {
   "cell_type": "code",
   "execution_count": 5,
   "metadata": {
    "ExecuteTime": {
     "end_time": "2020-05-04T14:49:19.598051Z",
     "start_time": "2020-05-04T14:49:19.552370Z"
    }
   },
   "outputs": [
    {
     "data": {
      "text/html": [
       "<style type=\"text/css\">\n",
       "#T_e89e6 th {\n",
       "  font-size: 12pt;\n",
       "}\n",
       "#T_e89e6_row0_col0, #T_e89e6_row0_col1, #T_e89e6_row0_col2, #T_e89e6_row0_col3, #T_e89e6_row0_col4, #T_e89e6_row0_col5, #T_e89e6_row2_col1, #T_e89e6_row2_col2 {\n",
       "  text-align: center;\n",
       "  font-size: 115%;\n",
       "  color: green;\n",
       "}\n",
       "#T_e89e6_row1_col0, #T_e89e6_row1_col3, #T_e89e6_row3_col2, #T_e89e6_row3_col3, #T_e89e6_row3_col4, #T_e89e6_row3_col5 {\n",
       "  text-align: center;\n",
       "  font-size: 115%;\n",
       "  background: lightyellow;\n",
       "  color: green;\n",
       "}\n",
       "#T_e89e6_row1_col1, #T_e89e6_row1_col2, #T_e89e6_row1_col4, #T_e89e6_row1_col5, #T_e89e6_row3_col0, #T_e89e6_row3_col1 {\n",
       "  text-align: center;\n",
       "  font-size: 115%;\n",
       "  background: lightyellow;\n",
       "  color: red;\n",
       "}\n",
       "#T_e89e6_row2_col0, #T_e89e6_row2_col3, #T_e89e6_row2_col4, #T_e89e6_row2_col5 {\n",
       "  text-align: center;\n",
       "  font-size: 115%;\n",
       "  color: red;\n",
       "}\n",
       "</style>\n",
       "<table id=\"T_e89e6\">\n",
       "  <thead>\n",
       "    <tr>\n",
       "      <th id=\"T_e89e6_level0_col0\" class=\"col_heading level0 col0\" >p</th>\n",
       "      <th id=\"T_e89e6_level0_col1\" class=\"col_heading level0 col1\" >q</th>\n",
       "      <th id=\"T_e89e6_level0_col2\" class=\"col_heading level0 col2\" >p => q</th>\n",
       "      <th id=\"T_e89e6_level0_col3\" class=\"col_heading level0 col3\" >q => p</th>\n",
       "      <th id=\"T_e89e6_level0_col4\" class=\"col_heading level0 col4\" >(p => q) and (q => p)</th>\n",
       "      <th id=\"T_e89e6_level0_col5\" class=\"col_heading level0 col5\" >p = q</th>\n",
       "    </tr>\n",
       "  </thead>\n",
       "  <tbody>\n",
       "    <tr>\n",
       "      <td id=\"T_e89e6_row0_col0\" class=\"data row0 col0\" >True</td>\n",
       "      <td id=\"T_e89e6_row0_col1\" class=\"data row0 col1\" >True</td>\n",
       "      <td id=\"T_e89e6_row0_col2\" class=\"data row0 col2\" >True</td>\n",
       "      <td id=\"T_e89e6_row0_col3\" class=\"data row0 col3\" >True</td>\n",
       "      <td id=\"T_e89e6_row0_col4\" class=\"data row0 col4\" >True</td>\n",
       "      <td id=\"T_e89e6_row0_col5\" class=\"data row0 col5\" >True</td>\n",
       "    </tr>\n",
       "    <tr>\n",
       "      <td id=\"T_e89e6_row1_col0\" class=\"data row1 col0\" >True</td>\n",
       "      <td id=\"T_e89e6_row1_col1\" class=\"data row1 col1\" >False</td>\n",
       "      <td id=\"T_e89e6_row1_col2\" class=\"data row1 col2\" >False</td>\n",
       "      <td id=\"T_e89e6_row1_col3\" class=\"data row1 col3\" >True</td>\n",
       "      <td id=\"T_e89e6_row1_col4\" class=\"data row1 col4\" >False</td>\n",
       "      <td id=\"T_e89e6_row1_col5\" class=\"data row1 col5\" >False</td>\n",
       "    </tr>\n",
       "    <tr>\n",
       "      <td id=\"T_e89e6_row2_col0\" class=\"data row2 col0\" >False</td>\n",
       "      <td id=\"T_e89e6_row2_col1\" class=\"data row2 col1\" >True</td>\n",
       "      <td id=\"T_e89e6_row2_col2\" class=\"data row2 col2\" >True</td>\n",
       "      <td id=\"T_e89e6_row2_col3\" class=\"data row2 col3\" >False</td>\n",
       "      <td id=\"T_e89e6_row2_col4\" class=\"data row2 col4\" >False</td>\n",
       "      <td id=\"T_e89e6_row2_col5\" class=\"data row2 col5\" >False</td>\n",
       "    </tr>\n",
       "    <tr>\n",
       "      <td id=\"T_e89e6_row3_col0\" class=\"data row3 col0\" >False</td>\n",
       "      <td id=\"T_e89e6_row3_col1\" class=\"data row3 col1\" >False</td>\n",
       "      <td id=\"T_e89e6_row3_col2\" class=\"data row3 col2\" >True</td>\n",
       "      <td id=\"T_e89e6_row3_col3\" class=\"data row3 col3\" >True</td>\n",
       "      <td id=\"T_e89e6_row3_col4\" class=\"data row3 col4\" >True</td>\n",
       "      <td id=\"T_e89e6_row3_col5\" class=\"data row3 col5\" >True</td>\n",
       "    </tr>\n",
       "  </tbody>\n",
       "</table>\n"
      ],
      "text/plain": [
       "<pandas.io.formats.style.Styler at 0x7f179e117750>"
      ]
     },
     "execution_count": 5,
     "metadata": {},
     "output_type": "execute_result"
    }
   ],
   "source": [
    "# highlighting rows 2 and 4\n",
    "df_style(table, hl_rows=[2, 4])\n"
   ]
  },
  {
   "cell_type": "code",
   "execution_count": 6,
   "metadata": {
    "ExecuteTime": {
     "end_time": "2020-05-04T14:49:22.703718Z",
     "start_time": "2020-05-04T14:49:22.657043Z"
    }
   },
   "outputs": [
    {
     "data": {
      "text/html": [
       "<style type=\"text/css\">\n",
       "#T_2c0e8 th {\n",
       "  font-size: 12pt;\n",
       "}\n",
       "#T_2c0e8_row0_col0, #T_2c0e8_row0_col5, #T_2c0e8_row1_col0, #T_2c0e8_row3_col5 {\n",
       "  text-align: center;\n",
       "  font-size: 115%;\n",
       "  background: lightyellow;\n",
       "  color: green;\n",
       "}\n",
       "#T_2c0e8_row0_col1, #T_2c0e8_row0_col2, #T_2c0e8_row0_col3, #T_2c0e8_row0_col4, #T_2c0e8_row1_col3, #T_2c0e8_row2_col1, #T_2c0e8_row2_col2, #T_2c0e8_row3_col2, #T_2c0e8_row3_col3, #T_2c0e8_row3_col4 {\n",
       "  text-align: center;\n",
       "  font-size: 115%;\n",
       "  color: green;\n",
       "}\n",
       "#T_2c0e8_row1_col1, #T_2c0e8_row1_col2, #T_2c0e8_row1_col4, #T_2c0e8_row2_col3, #T_2c0e8_row2_col4, #T_2c0e8_row3_col1 {\n",
       "  text-align: center;\n",
       "  font-size: 115%;\n",
       "  color: red;\n",
       "}\n",
       "#T_2c0e8_row1_col5, #T_2c0e8_row2_col0, #T_2c0e8_row2_col5, #T_2c0e8_row3_col0 {\n",
       "  text-align: center;\n",
       "  font-size: 115%;\n",
       "  background: lightyellow;\n",
       "  color: red;\n",
       "}\n",
       "</style>\n",
       "<table id=\"T_2c0e8\">\n",
       "  <thead>\n",
       "    <tr>\n",
       "      <th id=\"T_2c0e8_level0_col0\" class=\"col_heading level0 col0\" >p</th>\n",
       "      <th id=\"T_2c0e8_level0_col1\" class=\"col_heading level0 col1\" >q</th>\n",
       "      <th id=\"T_2c0e8_level0_col2\" class=\"col_heading level0 col2\" >p => q</th>\n",
       "      <th id=\"T_2c0e8_level0_col3\" class=\"col_heading level0 col3\" >q => p</th>\n",
       "      <th id=\"T_2c0e8_level0_col4\" class=\"col_heading level0 col4\" >(p => q) and (q => p)</th>\n",
       "      <th id=\"T_2c0e8_level0_col5\" class=\"col_heading level0 col5\" >p = q</th>\n",
       "    </tr>\n",
       "  </thead>\n",
       "  <tbody>\n",
       "    <tr>\n",
       "      <td id=\"T_2c0e8_row0_col0\" class=\"data row0 col0\" >True</td>\n",
       "      <td id=\"T_2c0e8_row0_col1\" class=\"data row0 col1\" >True</td>\n",
       "      <td id=\"T_2c0e8_row0_col2\" class=\"data row0 col2\" >True</td>\n",
       "      <td id=\"T_2c0e8_row0_col3\" class=\"data row0 col3\" >True</td>\n",
       "      <td id=\"T_2c0e8_row0_col4\" class=\"data row0 col4\" >True</td>\n",
       "      <td id=\"T_2c0e8_row0_col5\" class=\"data row0 col5\" >True</td>\n",
       "    </tr>\n",
       "    <tr>\n",
       "      <td id=\"T_2c0e8_row1_col0\" class=\"data row1 col0\" >True</td>\n",
       "      <td id=\"T_2c0e8_row1_col1\" class=\"data row1 col1\" >False</td>\n",
       "      <td id=\"T_2c0e8_row1_col2\" class=\"data row1 col2\" >False</td>\n",
       "      <td id=\"T_2c0e8_row1_col3\" class=\"data row1 col3\" >True</td>\n",
       "      <td id=\"T_2c0e8_row1_col4\" class=\"data row1 col4\" >False</td>\n",
       "      <td id=\"T_2c0e8_row1_col5\" class=\"data row1 col5\" >False</td>\n",
       "    </tr>\n",
       "    <tr>\n",
       "      <td id=\"T_2c0e8_row2_col0\" class=\"data row2 col0\" >False</td>\n",
       "      <td id=\"T_2c0e8_row2_col1\" class=\"data row2 col1\" >True</td>\n",
       "      <td id=\"T_2c0e8_row2_col2\" class=\"data row2 col2\" >True</td>\n",
       "      <td id=\"T_2c0e8_row2_col3\" class=\"data row2 col3\" >False</td>\n",
       "      <td id=\"T_2c0e8_row2_col4\" class=\"data row2 col4\" >False</td>\n",
       "      <td id=\"T_2c0e8_row2_col5\" class=\"data row2 col5\" >False</td>\n",
       "    </tr>\n",
       "    <tr>\n",
       "      <td id=\"T_2c0e8_row3_col0\" class=\"data row3 col0\" >False</td>\n",
       "      <td id=\"T_2c0e8_row3_col1\" class=\"data row3 col1\" >False</td>\n",
       "      <td id=\"T_2c0e8_row3_col2\" class=\"data row3 col2\" >True</td>\n",
       "      <td id=\"T_2c0e8_row3_col3\" class=\"data row3 col3\" >True</td>\n",
       "      <td id=\"T_2c0e8_row3_col4\" class=\"data row3 col4\" >True</td>\n",
       "      <td id=\"T_2c0e8_row3_col5\" class=\"data row3 col5\" >True</td>\n",
       "    </tr>\n",
       "  </tbody>\n",
       "</table>\n"
      ],
      "text/plain": [
       "<pandas.io.formats.style.Styler at 0x7f179c7ef150>"
      ]
     },
     "execution_count": 6,
     "metadata": {},
     "output_type": "execute_result"
    }
   ],
   "source": [
    "# highlighting columns named 'p' and 'p = q'\n",
    "df_style(table, hl_cols=['p', 'p = q'])\n"
   ]
  },
  {
   "cell_type": "code",
   "execution_count": 7,
   "metadata": {
    "ExecuteTime": {
     "end_time": "2020-05-04T14:49:23.627714Z",
     "start_time": "2020-05-04T14:49:23.569356Z"
    }
   },
   "outputs": [
    {
     "data": {
      "text/html": [
       "<style type=\"text/css\">\n",
       "#T_438e1 th {\n",
       "  font-size: 12pt;\n",
       "}\n",
       "#T_438e1_row0_col0, #T_438e1_row0_col5, #T_438e1_row1_col3, #T_438e1_row3_col2, #T_438e1_row3_col3, #T_438e1_row3_col4 {\n",
       "  text-align: center;\n",
       "  font-size: 115%;\n",
       "  background: lightyellow;\n",
       "  color: green;\n",
       "}\n",
       "#T_438e1_row0_col1, #T_438e1_row0_col2, #T_438e1_row0_col3, #T_438e1_row0_col4, #T_438e1_row2_col1, #T_438e1_row2_col2 {\n",
       "  text-align: center;\n",
       "  font-size: 115%;\n",
       "  color: green;\n",
       "}\n",
       "#T_438e1_row1_col0, #T_438e1_row3_col5 {\n",
       "  text-align: center;\n",
       "  font-size: 115%;\n",
       "  background: lightyellow;\n",
       "  background: lightyellow;\n",
       "  color: green;\n",
       "}\n",
       "#T_438e1_row1_col1, #T_438e1_row1_col2, #T_438e1_row1_col4, #T_438e1_row2_col0, #T_438e1_row2_col5, #T_438e1_row3_col1 {\n",
       "  text-align: center;\n",
       "  font-size: 115%;\n",
       "  background: lightyellow;\n",
       "  color: red;\n",
       "}\n",
       "#T_438e1_row1_col5, #T_438e1_row3_col0 {\n",
       "  text-align: center;\n",
       "  font-size: 115%;\n",
       "  background: lightyellow;\n",
       "  background: lightyellow;\n",
       "  color: red;\n",
       "}\n",
       "#T_438e1_row2_col3, #T_438e1_row2_col4 {\n",
       "  text-align: center;\n",
       "  font-size: 115%;\n",
       "  color: red;\n",
       "}\n",
       "</style>\n",
       "<table id=\"T_438e1\">\n",
       "  <thead>\n",
       "    <tr>\n",
       "      <th id=\"T_438e1_level0_col0\" class=\"col_heading level0 col0\" >p</th>\n",
       "      <th id=\"T_438e1_level0_col1\" class=\"col_heading level0 col1\" >q</th>\n",
       "      <th id=\"T_438e1_level0_col2\" class=\"col_heading level0 col2\" >p => q</th>\n",
       "      <th id=\"T_438e1_level0_col3\" class=\"col_heading level0 col3\" >q => p</th>\n",
       "      <th id=\"T_438e1_level0_col4\" class=\"col_heading level0 col4\" >(p => q) and (q => p)</th>\n",
       "      <th id=\"T_438e1_level0_col5\" class=\"col_heading level0 col5\" >p = q</th>\n",
       "    </tr>\n",
       "  </thead>\n",
       "  <tbody>\n",
       "    <tr>\n",
       "      <td id=\"T_438e1_row0_col0\" class=\"data row0 col0\" >True</td>\n",
       "      <td id=\"T_438e1_row0_col1\" class=\"data row0 col1\" >True</td>\n",
       "      <td id=\"T_438e1_row0_col2\" class=\"data row0 col2\" >True</td>\n",
       "      <td id=\"T_438e1_row0_col3\" class=\"data row0 col3\" >True</td>\n",
       "      <td id=\"T_438e1_row0_col4\" class=\"data row0 col4\" >True</td>\n",
       "      <td id=\"T_438e1_row0_col5\" class=\"data row0 col5\" >True</td>\n",
       "    </tr>\n",
       "    <tr>\n",
       "      <td id=\"T_438e1_row1_col0\" class=\"data row1 col0\" >True</td>\n",
       "      <td id=\"T_438e1_row1_col1\" class=\"data row1 col1\" >False</td>\n",
       "      <td id=\"T_438e1_row1_col2\" class=\"data row1 col2\" >False</td>\n",
       "      <td id=\"T_438e1_row1_col3\" class=\"data row1 col3\" >True</td>\n",
       "      <td id=\"T_438e1_row1_col4\" class=\"data row1 col4\" >False</td>\n",
       "      <td id=\"T_438e1_row1_col5\" class=\"data row1 col5\" >False</td>\n",
       "    </tr>\n",
       "    <tr>\n",
       "      <td id=\"T_438e1_row2_col0\" class=\"data row2 col0\" >False</td>\n",
       "      <td id=\"T_438e1_row2_col1\" class=\"data row2 col1\" >True</td>\n",
       "      <td id=\"T_438e1_row2_col2\" class=\"data row2 col2\" >True</td>\n",
       "      <td id=\"T_438e1_row2_col3\" class=\"data row2 col3\" >False</td>\n",
       "      <td id=\"T_438e1_row2_col4\" class=\"data row2 col4\" >False</td>\n",
       "      <td id=\"T_438e1_row2_col5\" class=\"data row2 col5\" >False</td>\n",
       "    </tr>\n",
       "    <tr>\n",
       "      <td id=\"T_438e1_row3_col0\" class=\"data row3 col0\" >False</td>\n",
       "      <td id=\"T_438e1_row3_col1\" class=\"data row3 col1\" >False</td>\n",
       "      <td id=\"T_438e1_row3_col2\" class=\"data row3 col2\" >True</td>\n",
       "      <td id=\"T_438e1_row3_col3\" class=\"data row3 col3\" >True</td>\n",
       "      <td id=\"T_438e1_row3_col4\" class=\"data row3 col4\" >True</td>\n",
       "      <td id=\"T_438e1_row3_col5\" class=\"data row3 col5\" >True</td>\n",
       "    </tr>\n",
       "  </tbody>\n",
       "</table>\n"
      ],
      "text/plain": [
       "<pandas.io.formats.style.Styler at 0x7f17e06751d0>"
      ]
     },
     "execution_count": 7,
     "metadata": {},
     "output_type": "execute_result"
    }
   ],
   "source": [
    "# highlighting rowns and columns\n",
    "df_style(table, hl_rows = [2, 4], hl_cols=['p', 'p = q'])\n"
   ]
  },
  {
   "cell_type": "code",
   "execution_count": null,
   "metadata": {},
   "outputs": [],
   "source": []
  }
 ],
 "metadata": {
  "hide_input": false,
  "kernelspec": {
   "display_name": "ttg",
   "language": "python",
   "name": "python3"
  },
  "language_info": {
   "codemirror_mode": {
    "name": "ipython",
    "version": 3
   },
   "file_extension": ".py",
   "mimetype": "text/x-python",
   "name": "python",
   "nbconvert_exporter": "python",
   "pygments_lexer": "ipython3",
   "version": "3.11.1"
  },
  "toc": {
   "base_numbering": 1,
   "nav_menu": {},
   "number_sections": true,
   "sideBar": true,
   "skip_h1_title": false,
   "title_cell": "Table of Contents",
   "title_sidebar": "Contents",
   "toc_cell": false,
   "toc_position": {},
   "toc_section_display": true,
   "toc_window_display": false
  },
  "varInspector": {
   "cols": {
    "lenName": 16,
    "lenType": 16,
    "lenVar": 40
   },
   "kernels_config": {
    "python": {
     "delete_cmd_postfix": "",
     "delete_cmd_prefix": "del ",
     "library": "var_list.py",
     "varRefreshCmd": "print(var_dic_list())"
    },
    "r": {
     "delete_cmd_postfix": ") ",
     "delete_cmd_prefix": "rm(",
     "library": "var_list.r",
     "varRefreshCmd": "cat(var_dic_list()) "
    }
   },
   "types_to_exclude": [
    "module",
    "function",
    "builtin_function_or_method",
    "instance",
    "_Feature"
   ],
   "window_display": false
  }
 },
 "nbformat": 4,
 "nbformat_minor": 2
}
