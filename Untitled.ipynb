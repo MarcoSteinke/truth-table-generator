{
 "cells": [
  {
   "cell_type": "code",
   "execution_count": 8,
   "metadata": {
    "ExecuteTime": {
     "end_time": "2019-10-13T00:18:51.516152Z",
     "start_time": "2019-10-13T00:18:51.513591Z"
    }
   },
   "outputs": [],
   "source": [
    "import truths"
   ]
  },
  {
   "cell_type": "code",
   "execution_count": 9,
   "metadata": {
    "ExecuteTime": {
     "end_time": "2019-10-13T00:19:17.441861Z",
     "start_time": "2019-10-13T00:19:17.433530Z"
    }
   },
   "outputs": [
    {
     "name": "stdout",
     "output_type": "stream",
     "text": [
      "+---+---+---+\n",
      "| a | b | x |\n",
      "+---+---+---+\n",
      "| 0 | 0 | 0 |\n",
      "| 0 | 0 | 1 |\n",
      "| 0 | 1 | 0 |\n",
      "| 0 | 1 | 1 |\n",
      "| 1 | 0 | 0 |\n",
      "| 1 | 0 | 1 |\n",
      "| 1 | 1 | 0 |\n",
      "| 1 | 1 | 1 |\n",
      "+---+---+---+\n"
     ]
    }
   ],
   "source": [
    "print(truths.Truths(['a', 'b', 'x']))"
   ]
  },
  {
   "cell_type": "code",
   "execution_count": 10,
   "metadata": {
    "ExecuteTime": {
     "end_time": "2019-10-13T00:19:39.055935Z",
     "start_time": "2019-10-13T00:19:39.031026Z"
    }
   },
   "outputs": [
    {
     "name": "stdout",
     "output_type": "stream",
     "text": [
      "+---+---+--------+-------------+\n",
      "| a | b | a => b | a implies b |\n",
      "+---+---+--------+-------------+\n",
      "| 0 | 0 |   1    |      1      |\n",
      "| 0 | 1 |   1    |      1      |\n",
      "| 1 | 0 |   0    |      0      |\n",
      "| 1 | 1 |   1    |      1      |\n",
      "+---+---+--------+-------------+\n"
     ]
    }
   ],
   "source": [
    "print(truths.Truths(['a', 'b'], ['a => b', 'a implies b']))"
   ]
  },
  {
   "cell_type": "code",
   "execution_count": 11,
   "metadata": {
    "ExecuteTime": {
     "end_time": "2019-10-13T00:20:01.364417Z",
     "start_time": "2019-10-13T00:20:01.356588Z"
    }
   },
   "outputs": [
    {
     "name": "stdout",
     "output_type": "stream",
     "text": [
      "+---+---+-----------------+\n",
      "| p | q | (p and ~q) => q |\n",
      "+---+---+-----------------+\n",
      "| 0 | 0 |        1        |\n",
      "| 0 | 1 |        1        |\n",
      "| 1 | 0 |        1        |\n",
      "| 1 | 1 |        1        |\n",
      "+---+---+-----------------+\n"
     ]
    }
   ],
   "source": [
    "print(truths.Truths(['p', 'q'], ['(p and ~q) => q']))"
   ]
  },
  {
   "cell_type": "code",
   "execution_count": 12,
   "metadata": {
    "ExecuteTime": {
     "end_time": "2019-10-13T00:20:18.739423Z",
     "start_time": "2019-10-13T00:20:18.734573Z"
    }
   },
   "outputs": [
    {
     "name": "stdout",
     "output_type": "stream",
     "text": [
      "+---+---+-------------------+\n",
      "| p | q | (p and (~q)) => q |\n",
      "+---+---+-------------------+\n",
      "| 0 | 0 |         1         |\n",
      "| 0 | 1 |         1         |\n",
      "| 1 | 0 |         0         |\n",
      "| 1 | 1 |         1         |\n",
      "+---+---+-------------------+\n"
     ]
    }
   ],
   "source": [
    "print(truths.Truths(['p', 'q'], ['(p and (~q)) => q']))"
   ]
  },
  {
   "cell_type": "code",
   "execution_count": 13,
   "metadata": {
    "ExecuteTime": {
     "end_time": "2019-10-13T00:20:40.030550Z",
     "start_time": "2019-10-13T00:20:40.019797Z"
    }
   },
   "outputs": [
    {
     "ename": "KeyError",
     "evalue": "False",
     "output_type": "error",
     "traceback": [
      "\u001b[0;31m---------------------------------------------------------------------------\u001b[0m",
      "\u001b[0;31mKeyError\u001b[0m                                  Traceback (most recent call last)",
      "\u001b[0;32m<ipython-input-13-29be606f2819>\u001b[0m in \u001b[0;36m<module>\u001b[0;34m\u001b[0m\n\u001b[0;32m----> 1\u001b[0;31m \u001b[0mprint\u001b[0m\u001b[0;34m(\u001b[0m\u001b[0mtruths\u001b[0m\u001b[0;34m.\u001b[0m\u001b[0mTruths\u001b[0m\u001b[0;34m(\u001b[0m\u001b[0;34m[\u001b[0m\u001b[0;34m'p'\u001b[0m\u001b[0;34m,\u001b[0m \u001b[0;34m'q'\u001b[0m\u001b[0;34m]\u001b[0m\u001b[0;34m,\u001b[0m \u001b[0;34m[\u001b[0m\u001b[0;34m'(~q and p) => q'\u001b[0m\u001b[0;34m]\u001b[0m\u001b[0;34m)\u001b[0m\u001b[0;34m)\u001b[0m\u001b[0;34m\u001b[0m\u001b[0;34m\u001b[0m\u001b[0m\n\u001b[0m",
      "\u001b[0;32m~/Dropbox/technology/python/projects/forks/truth-table-generator/truths/truths.py\u001b[0m in \u001b[0;36m__str__\u001b[0;34m(self)\u001b[0m\n\u001b[1;32m    171\u001b[0m         \u001b[0mt\u001b[0m \u001b[0;34m=\u001b[0m \u001b[0mPrettyTable\u001b[0m\u001b[0;34m(\u001b[0m\u001b[0mself\u001b[0m\u001b[0;34m.\u001b[0m\u001b[0mbases\u001b[0m \u001b[0;34m+\u001b[0m \u001b[0mself\u001b[0m\u001b[0;34m.\u001b[0m\u001b[0mphrases\u001b[0m\u001b[0;34m)\u001b[0m\u001b[0;34m\u001b[0m\u001b[0;34m\u001b[0m\u001b[0m\n\u001b[1;32m    172\u001b[0m         \u001b[0;32mfor\u001b[0m \u001b[0mconditions_set\u001b[0m \u001b[0;32min\u001b[0m \u001b[0mself\u001b[0m\u001b[0;34m.\u001b[0m\u001b[0mbase_conditions\u001b[0m\u001b[0;34m:\u001b[0m\u001b[0;34m\u001b[0m\u001b[0;34m\u001b[0m\u001b[0m\n\u001b[0;32m--> 173\u001b[0;31m             \u001b[0mt\u001b[0m\u001b[0;34m.\u001b[0m\u001b[0madd_row\u001b[0m\u001b[0;34m(\u001b[0m\u001b[0mself\u001b[0m\u001b[0;34m.\u001b[0m\u001b[0mcalculate\u001b[0m\u001b[0;34m(\u001b[0m\u001b[0;34m*\u001b[0m\u001b[0mconditions_set\u001b[0m\u001b[0;34m)\u001b[0m\u001b[0;34m)\u001b[0m\u001b[0;34m\u001b[0m\u001b[0;34m\u001b[0m\u001b[0m\n\u001b[0m\u001b[1;32m    174\u001b[0m         \u001b[0;32mreturn\u001b[0m \u001b[0mstr\u001b[0m\u001b[0;34m(\u001b[0m\u001b[0mt\u001b[0m\u001b[0;34m)\u001b[0m\u001b[0;34m\u001b[0m\u001b[0;34m\u001b[0m\u001b[0m\n",
      "\u001b[0;32m~/Dropbox/technology/python/projects/forks/truth-table-generator/truths/truths.py\u001b[0m in \u001b[0;36mcalculate\u001b[0;34m(self, *args)\u001b[0m\n\u001b[1;32m    153\u001b[0m             \u001b[0minterpreted\u001b[0m \u001b[0;34m=\u001b[0m \u001b[0mgroup_operations\u001b[0m\u001b[0;34m(\u001b[0m\u001b[0minterpreted\u001b[0m\u001b[0;34m)\u001b[0m\u001b[0;34m\u001b[0m\u001b[0;34m\u001b[0m\u001b[0m\n\u001b[1;32m    154\u001b[0m             \u001b[0;31m# evaluate the phrase\u001b[0m\u001b[0;34m\u001b[0m\u001b[0;34m\u001b[0m\u001b[0;34m\u001b[0m\u001b[0m\n\u001b[0;32m--> 155\u001b[0;31m             \u001b[0meval_phrases\u001b[0m\u001b[0;34m.\u001b[0m\u001b[0mappend\u001b[0m\u001b[0;34m(\u001b[0m\u001b[0msolve_phrase\u001b[0m\u001b[0;34m(\u001b[0m\u001b[0minterpreted\u001b[0m\u001b[0;34m)\u001b[0m\u001b[0;34m)\u001b[0m\u001b[0;34m\u001b[0m\u001b[0;34m\u001b[0m\u001b[0m\n\u001b[0m\u001b[1;32m    156\u001b[0m \u001b[0;34m\u001b[0m\u001b[0m\n\u001b[1;32m    157\u001b[0m         \u001b[0;31m# add the bases and evaluated phrases to create a single row\u001b[0m\u001b[0;34m\u001b[0m\u001b[0;34m\u001b[0m\u001b[0;34m\u001b[0m\u001b[0m\n",
      "\u001b[0;32m~/Dropbox/technology/python/projects/forks/truth-table-generator/truths/truths.py\u001b[0m in \u001b[0;36msolve_phrase\u001b[0;34m(p)\u001b[0m\n\u001b[1;32m     77\u001b[0m         \u001b[0;31m# double operand operation\u001b[0m\u001b[0;34m\u001b[0m\u001b[0;34m\u001b[0m\u001b[0;34m\u001b[0m\u001b[0m\n\u001b[1;32m     78\u001b[0m         \u001b[0;32melse\u001b[0m\u001b[0;34m:\u001b[0m\u001b[0;34m\u001b[0m\u001b[0;34m\u001b[0m\u001b[0m\n\u001b[0;32m---> 79\u001b[0;31m             \u001b[0;32mreturn\u001b[0m \u001b[0moperations\u001b[0m\u001b[0;34m[\u001b[0m\u001b[0mp\u001b[0m\u001b[0;34m[\u001b[0m\u001b[0;36m1\u001b[0m\u001b[0;34m]\u001b[0m\u001b[0;34m]\u001b[0m\u001b[0;34m(\u001b[0m\u001b[0msolve_phrase\u001b[0m\u001b[0;34m(\u001b[0m\u001b[0mp\u001b[0m\u001b[0;34m[\u001b[0m\u001b[0;36m0\u001b[0m\u001b[0;34m]\u001b[0m\u001b[0;34m)\u001b[0m\u001b[0;34m,\u001b[0m \u001b[0msolve_phrase\u001b[0m\u001b[0;34m(\u001b[0m\u001b[0;34m[\u001b[0m\u001b[0mp\u001b[0m\u001b[0;34m[\u001b[0m\u001b[0;36m2\u001b[0m\u001b[0;34m]\u001b[0m\u001b[0;34m]\u001b[0m\u001b[0;34m)\u001b[0m\u001b[0;34m)\u001b[0m\u001b[0;34m\u001b[0m\u001b[0;34m\u001b[0m\u001b[0m\n\u001b[0m\u001b[1;32m     80\u001b[0m \u001b[0;34m\u001b[0m\u001b[0m\n\u001b[1;32m     81\u001b[0m \u001b[0;34m\u001b[0m\u001b[0m\n",
      "\u001b[0;32m~/Dropbox/technology/python/projects/forks/truth-table-generator/truths/truths.py\u001b[0m in \u001b[0;36msolve_phrase\u001b[0;34m(p)\u001b[0m\n\u001b[1;32m     77\u001b[0m         \u001b[0;31m# double operand operation\u001b[0m\u001b[0;34m\u001b[0m\u001b[0;34m\u001b[0m\u001b[0;34m\u001b[0m\u001b[0m\n\u001b[1;32m     78\u001b[0m         \u001b[0;32melse\u001b[0m\u001b[0;34m:\u001b[0m\u001b[0;34m\u001b[0m\u001b[0;34m\u001b[0m\u001b[0m\n\u001b[0;32m---> 79\u001b[0;31m             \u001b[0;32mreturn\u001b[0m \u001b[0moperations\u001b[0m\u001b[0;34m[\u001b[0m\u001b[0mp\u001b[0m\u001b[0;34m[\u001b[0m\u001b[0;36m1\u001b[0m\u001b[0;34m]\u001b[0m\u001b[0;34m]\u001b[0m\u001b[0;34m(\u001b[0m\u001b[0msolve_phrase\u001b[0m\u001b[0;34m(\u001b[0m\u001b[0mp\u001b[0m\u001b[0;34m[\u001b[0m\u001b[0;36m0\u001b[0m\u001b[0;34m]\u001b[0m\u001b[0;34m)\u001b[0m\u001b[0;34m,\u001b[0m \u001b[0msolve_phrase\u001b[0m\u001b[0;34m(\u001b[0m\u001b[0;34m[\u001b[0m\u001b[0mp\u001b[0m\u001b[0;34m[\u001b[0m\u001b[0;36m2\u001b[0m\u001b[0;34m]\u001b[0m\u001b[0;34m]\u001b[0m\u001b[0;34m)\u001b[0m\u001b[0;34m)\u001b[0m\u001b[0;34m\u001b[0m\u001b[0;34m\u001b[0m\u001b[0m\n\u001b[0m\u001b[1;32m     80\u001b[0m \u001b[0;34m\u001b[0m\u001b[0m\n\u001b[1;32m     81\u001b[0m \u001b[0;34m\u001b[0m\u001b[0m\n",
      "\u001b[0;31mKeyError\u001b[0m: False"
     ]
    }
   ],
   "source": [
    "print(truths.Truths(['p', 'q'], ['(~q and p) => q']))"
   ]
  },
  {
   "cell_type": "code",
   "execution_count": 14,
   "metadata": {
    "ExecuteTime": {
     "end_time": "2019-10-13T00:20:59.120317Z",
     "start_time": "2019-10-13T00:20:59.109817Z"
    }
   },
   "outputs": [
    {
     "name": "stdout",
     "output_type": "stream",
     "text": [
      "+---+---+----------------+---------------+-----------------------+-----------------------------+\n",
      "| p | q | (p and q) => p | p => (p or q) | (p and (p => q)) => q | ((p => q) and (~q)) => (~p) |\n",
      "+---+---+----------------+---------------+-----------------------+-----------------------------+\n",
      "| 0 | 0 |       1        |       1       |           1           |              1              |\n",
      "| 0 | 1 |       1        |       1       |           1           |              1              |\n",
      "| 1 | 0 |       1        |       1       |           1           |              1              |\n",
      "| 1 | 1 |       1        |       1       |           1           |              1              |\n",
      "+---+---+----------------+---------------+-----------------------+-----------------------------+\n"
     ]
    }
   ],
   "source": [
    "print(truths.Truths(['p', 'q'], ['(p and q) => p', 'p => (p or q)',\n",
    "                                 '(p and (p => q)) => q',\n",
    "                                '((p => q) and (~q)) => (~p)']))"
   ]
  },
  {
   "cell_type": "code",
   "execution_count": 15,
   "metadata": {
    "ExecuteTime": {
     "end_time": "2019-10-13T00:21:27.458959Z",
     "start_time": "2019-10-13T00:21:27.451335Z"
    }
   },
   "outputs": [
    {
     "name": "stdout",
     "output_type": "stream",
     "text": [
      "+---+---+--------+--------+-----------------------+-------+\n",
      "| p | q | p => q | q => p | (p => q) and (q => p) | p = q |\n",
      "+---+---+--------+--------+-----------------------+-------+\n",
      "| 0 | 0 |   1    |   1    |           1           |   1   |\n",
      "| 0 | 1 |   1    |   0    |           0           |   0   |\n",
      "| 1 | 0 |   0    |   1    |           0           |   0   |\n",
      "| 1 | 1 |   1    |   1    |           1           |   1   |\n",
      "+---+---+--------+--------+-----------------------+-------+\n"
     ]
    }
   ],
   "source": [
    "print(truths.Truths(['p', 'q'], ['p => q', 'q => p', '(p => q) and (q => p)', 'p = q']))"
   ]
  },
  {
   "cell_type": "code",
   "execution_count": null,
   "metadata": {},
   "outputs": [],
   "source": []
  }
 ],
 "metadata": {
  "hide_input": false,
  "kernelspec": {
   "display_name": "Python [conda env:truths]",
   "language": "python",
   "name": "conda-env-truths-py"
  },
  "language_info": {
   "codemirror_mode": {
    "name": "ipython",
    "version": 3
   },
   "file_extension": ".py",
   "mimetype": "text/x-python",
   "name": "python",
   "nbconvert_exporter": "python",
   "pygments_lexer": "ipython3",
   "version": "3.7.4"
  },
  "toc": {
   "base_numbering": 1,
   "nav_menu": {},
   "number_sections": true,
   "sideBar": true,
   "skip_h1_title": false,
   "title_cell": "Table of Contents",
   "title_sidebar": "Contents",
   "toc_cell": false,
   "toc_position": {},
   "toc_section_display": true,
   "toc_window_display": false
  },
  "varInspector": {
   "cols": {
    "lenName": 16,
    "lenType": 16,
    "lenVar": 40
   },
   "kernels_config": {
    "python": {
     "delete_cmd_postfix": "",
     "delete_cmd_prefix": "del ",
     "library": "var_list.py",
     "varRefreshCmd": "print(var_dic_list())"
    },
    "r": {
     "delete_cmd_postfix": ") ",
     "delete_cmd_prefix": "rm(",
     "library": "var_list.r",
     "varRefreshCmd": "cat(var_dic_list()) "
    }
   },
   "types_to_exclude": [
    "module",
    "function",
    "builtin_function_or_method",
    "instance",
    "_Feature"
   ],
   "window_display": false
  }
 },
 "nbformat": 4,
 "nbformat_minor": 2
}
