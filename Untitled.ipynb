{
 "cells": [
  {
   "cell_type": "code",
   "execution_count": 1,
   "metadata": {
    "ExecuteTime": {
     "end_time": "2019-10-13T01:08:35.687713Z",
     "start_time": "2019-10-13T01:08:35.557193Z"
    }
   },
   "outputs": [],
   "source": [
    "import truths"
   ]
  },
  {
   "cell_type": "code",
   "execution_count": 2,
   "metadata": {
    "ExecuteTime": {
     "end_time": "2019-10-13T00:56:27.161837Z",
     "start_time": "2019-10-13T00:56:27.158087Z"
    }
   },
   "outputs": [
    {
     "name": "stdout",
     "output_type": "stream",
     "text": [
      "+---+---+---+\n",
      "| a | b | x |\n",
      "+---+---+---+\n",
      "| 1 | 1 | 1 |\n",
      "| 1 | 1 | 0 |\n",
      "| 1 | 0 | 1 |\n",
      "| 1 | 0 | 0 |\n",
      "| 0 | 1 | 1 |\n",
      "| 0 | 1 | 0 |\n",
      "| 0 | 0 | 1 |\n",
      "| 0 | 0 | 0 |\n",
      "+---+---+---+\n"
     ]
    }
   ],
   "source": [
    "print(truths.Truths(['a', 'b', 'x']))"
   ]
  },
  {
   "cell_type": "code",
   "execution_count": 3,
   "metadata": {
    "ExecuteTime": {
     "end_time": "2019-10-13T00:34:53.119699Z",
     "start_time": "2019-10-13T00:34:53.112746Z"
    }
   },
   "outputs": [
    {
     "name": "stdout",
     "output_type": "stream",
     "text": [
      "+---+---+--------+-------------+\n",
      "| a | b | a => b | a implies b |\n",
      "+---+---+--------+-------------+\n",
      "| 1 | 1 |   1    |      1      |\n",
      "| 1 | 0 |   0    |      0      |\n",
      "| 0 | 1 |   1    |      1      |\n",
      "| 0 | 0 |   1    |      1      |\n",
      "+---+---+--------+-------------+\n"
     ]
    }
   ],
   "source": [
    "print(truths.Truths(['a', 'b'], ['a => b', 'a implies b']))"
   ]
  },
  {
   "cell_type": "code",
   "execution_count": 4,
   "metadata": {
    "ExecuteTime": {
     "end_time": "2019-10-13T00:34:55.225545Z",
     "start_time": "2019-10-13T00:34:55.220999Z"
    }
   },
   "outputs": [
    {
     "name": "stdout",
     "output_type": "stream",
     "text": [
      "+---+---+-----------------+\n",
      "| p | q | (p and ~q) => q |\n",
      "+---+---+-----------------+\n",
      "| 1 | 1 |        1        |\n",
      "| 1 | 0 |        1        |\n",
      "| 0 | 1 |        1        |\n",
      "| 0 | 0 |        1        |\n",
      "+---+---+-----------------+\n"
     ]
    }
   ],
   "source": [
    "print(truths.Truths(['p', 'q'], ['(p and ~q) => q']))"
   ]
  },
  {
   "cell_type": "code",
   "execution_count": 5,
   "metadata": {
    "ExecuteTime": {
     "end_time": "2019-10-13T00:35:00.889153Z",
     "start_time": "2019-10-13T00:35:00.884613Z"
    }
   },
   "outputs": [
    {
     "name": "stdout",
     "output_type": "stream",
     "text": [
      "+---+---+-------------------+\n",
      "| p | q | (p and (~q)) => q |\n",
      "+---+---+-------------------+\n",
      "| 1 | 1 |         1         |\n",
      "| 1 | 0 |         0         |\n",
      "| 0 | 1 |         1         |\n",
      "| 0 | 0 |         1         |\n",
      "+---+---+-------------------+\n"
     ]
    }
   ],
   "source": [
    "print(truths.Truths(['p', 'q'], ['(p and (~q)) => q']))"
   ]
  },
  {
   "cell_type": "code",
   "execution_count": 6,
   "metadata": {
    "ExecuteTime": {
     "end_time": "2019-10-13T00:35:03.936326Z",
     "start_time": "2019-10-13T00:35:03.893010Z"
    }
   },
   "outputs": [
    {
     "ename": "KeyError",
     "evalue": "True",
     "output_type": "error",
     "traceback": [
      "\u001b[0;31m---------------------------------------------------------------------------\u001b[0m",
      "\u001b[0;31mKeyError\u001b[0m                                  Traceback (most recent call last)",
      "\u001b[0;32m<ipython-input-6-29be606f2819>\u001b[0m in \u001b[0;36m<module>\u001b[0;34m\u001b[0m\n\u001b[0;32m----> 1\u001b[0;31m \u001b[0mprint\u001b[0m\u001b[0;34m(\u001b[0m\u001b[0mtruths\u001b[0m\u001b[0;34m.\u001b[0m\u001b[0mTruths\u001b[0m\u001b[0;34m(\u001b[0m\u001b[0;34m[\u001b[0m\u001b[0;34m'p'\u001b[0m\u001b[0;34m,\u001b[0m \u001b[0;34m'q'\u001b[0m\u001b[0;34m]\u001b[0m\u001b[0;34m,\u001b[0m \u001b[0;34m[\u001b[0m\u001b[0;34m'(~q and p) => q'\u001b[0m\u001b[0;34m]\u001b[0m\u001b[0;34m)\u001b[0m\u001b[0;34m)\u001b[0m\u001b[0;34m\u001b[0m\u001b[0;34m\u001b[0m\u001b[0m\n\u001b[0m",
      "\u001b[0;32m~/Dropbox/technology/python/projects/forks/truth-table-generator/truths/truths.py\u001b[0m in \u001b[0;36m__str__\u001b[0;34m(self)\u001b[0m\n\u001b[1;32m    171\u001b[0m         \u001b[0mt\u001b[0m \u001b[0;34m=\u001b[0m \u001b[0mPrettyTable\u001b[0m\u001b[0;34m(\u001b[0m\u001b[0mself\u001b[0m\u001b[0;34m.\u001b[0m\u001b[0mbases\u001b[0m \u001b[0;34m+\u001b[0m \u001b[0mself\u001b[0m\u001b[0;34m.\u001b[0m\u001b[0mphrases\u001b[0m\u001b[0;34m)\u001b[0m\u001b[0;34m\u001b[0m\u001b[0;34m\u001b[0m\u001b[0m\n\u001b[1;32m    172\u001b[0m         \u001b[0;32mfor\u001b[0m \u001b[0mconditions_set\u001b[0m \u001b[0;32min\u001b[0m \u001b[0mself\u001b[0m\u001b[0;34m.\u001b[0m\u001b[0mbase_conditions\u001b[0m\u001b[0;34m:\u001b[0m\u001b[0;34m\u001b[0m\u001b[0;34m\u001b[0m\u001b[0m\n\u001b[0;32m--> 173\u001b[0;31m             \u001b[0mt\u001b[0m\u001b[0;34m.\u001b[0m\u001b[0madd_row\u001b[0m\u001b[0;34m(\u001b[0m\u001b[0mself\u001b[0m\u001b[0;34m.\u001b[0m\u001b[0mcalculate\u001b[0m\u001b[0;34m(\u001b[0m\u001b[0;34m*\u001b[0m\u001b[0mconditions_set\u001b[0m\u001b[0;34m)\u001b[0m\u001b[0;34m)\u001b[0m\u001b[0;34m\u001b[0m\u001b[0;34m\u001b[0m\u001b[0m\n\u001b[0m\u001b[1;32m    174\u001b[0m         \u001b[0;32mreturn\u001b[0m \u001b[0mstr\u001b[0m\u001b[0;34m(\u001b[0m\u001b[0mt\u001b[0m\u001b[0;34m)\u001b[0m\u001b[0;34m\u001b[0m\u001b[0;34m\u001b[0m\u001b[0m\n",
      "\u001b[0;32m~/Dropbox/technology/python/projects/forks/truth-table-generator/truths/truths.py\u001b[0m in \u001b[0;36mcalculate\u001b[0;34m(self, *args)\u001b[0m\n\u001b[1;32m    153\u001b[0m             \u001b[0minterpreted\u001b[0m \u001b[0;34m=\u001b[0m \u001b[0mgroup_operations\u001b[0m\u001b[0;34m(\u001b[0m\u001b[0minterpreted\u001b[0m\u001b[0;34m)\u001b[0m\u001b[0;34m\u001b[0m\u001b[0;34m\u001b[0m\u001b[0m\n\u001b[1;32m    154\u001b[0m             \u001b[0;31m# evaluate the phrase\u001b[0m\u001b[0;34m\u001b[0m\u001b[0;34m\u001b[0m\u001b[0;34m\u001b[0m\u001b[0m\n\u001b[0;32m--> 155\u001b[0;31m             \u001b[0meval_phrases\u001b[0m\u001b[0;34m.\u001b[0m\u001b[0mappend\u001b[0m\u001b[0;34m(\u001b[0m\u001b[0msolve_phrase\u001b[0m\u001b[0;34m(\u001b[0m\u001b[0minterpreted\u001b[0m\u001b[0;34m)\u001b[0m\u001b[0;34m)\u001b[0m\u001b[0;34m\u001b[0m\u001b[0;34m\u001b[0m\u001b[0m\n\u001b[0m\u001b[1;32m    156\u001b[0m \u001b[0;34m\u001b[0m\u001b[0m\n\u001b[1;32m    157\u001b[0m         \u001b[0;31m# add the bases and evaluated phrases to create a single row\u001b[0m\u001b[0;34m\u001b[0m\u001b[0;34m\u001b[0m\u001b[0;34m\u001b[0m\u001b[0m\n",
      "\u001b[0;32m~/Dropbox/technology/python/projects/forks/truth-table-generator/truths/truths.py\u001b[0m in \u001b[0;36msolve_phrase\u001b[0;34m(p)\u001b[0m\n\u001b[1;32m     77\u001b[0m         \u001b[0;31m# double operand operation\u001b[0m\u001b[0;34m\u001b[0m\u001b[0;34m\u001b[0m\u001b[0;34m\u001b[0m\u001b[0m\n\u001b[1;32m     78\u001b[0m         \u001b[0;32melse\u001b[0m\u001b[0;34m:\u001b[0m\u001b[0;34m\u001b[0m\u001b[0;34m\u001b[0m\u001b[0m\n\u001b[0;32m---> 79\u001b[0;31m             \u001b[0;32mreturn\u001b[0m \u001b[0moperations\u001b[0m\u001b[0;34m[\u001b[0m\u001b[0mp\u001b[0m\u001b[0;34m[\u001b[0m\u001b[0;36m1\u001b[0m\u001b[0;34m]\u001b[0m\u001b[0;34m]\u001b[0m\u001b[0;34m(\u001b[0m\u001b[0msolve_phrase\u001b[0m\u001b[0;34m(\u001b[0m\u001b[0mp\u001b[0m\u001b[0;34m[\u001b[0m\u001b[0;36m0\u001b[0m\u001b[0;34m]\u001b[0m\u001b[0;34m)\u001b[0m\u001b[0;34m,\u001b[0m \u001b[0msolve_phrase\u001b[0m\u001b[0;34m(\u001b[0m\u001b[0;34m[\u001b[0m\u001b[0mp\u001b[0m\u001b[0;34m[\u001b[0m\u001b[0;36m2\u001b[0m\u001b[0;34m]\u001b[0m\u001b[0;34m]\u001b[0m\u001b[0;34m)\u001b[0m\u001b[0;34m)\u001b[0m\u001b[0;34m\u001b[0m\u001b[0;34m\u001b[0m\u001b[0m\n\u001b[0m\u001b[1;32m     80\u001b[0m \u001b[0;34m\u001b[0m\u001b[0m\n\u001b[1;32m     81\u001b[0m \u001b[0;34m\u001b[0m\u001b[0m\n",
      "\u001b[0;32m~/Dropbox/technology/python/projects/forks/truth-table-generator/truths/truths.py\u001b[0m in \u001b[0;36msolve_phrase\u001b[0;34m(p)\u001b[0m\n\u001b[1;32m     77\u001b[0m         \u001b[0;31m# double operand operation\u001b[0m\u001b[0;34m\u001b[0m\u001b[0;34m\u001b[0m\u001b[0;34m\u001b[0m\u001b[0m\n\u001b[1;32m     78\u001b[0m         \u001b[0;32melse\u001b[0m\u001b[0;34m:\u001b[0m\u001b[0;34m\u001b[0m\u001b[0;34m\u001b[0m\u001b[0m\n\u001b[0;32m---> 79\u001b[0;31m             \u001b[0;32mreturn\u001b[0m \u001b[0moperations\u001b[0m\u001b[0;34m[\u001b[0m\u001b[0mp\u001b[0m\u001b[0;34m[\u001b[0m\u001b[0;36m1\u001b[0m\u001b[0;34m]\u001b[0m\u001b[0;34m]\u001b[0m\u001b[0;34m(\u001b[0m\u001b[0msolve_phrase\u001b[0m\u001b[0;34m(\u001b[0m\u001b[0mp\u001b[0m\u001b[0;34m[\u001b[0m\u001b[0;36m0\u001b[0m\u001b[0;34m]\u001b[0m\u001b[0;34m)\u001b[0m\u001b[0;34m,\u001b[0m \u001b[0msolve_phrase\u001b[0m\u001b[0;34m(\u001b[0m\u001b[0;34m[\u001b[0m\u001b[0mp\u001b[0m\u001b[0;34m[\u001b[0m\u001b[0;36m2\u001b[0m\u001b[0;34m]\u001b[0m\u001b[0;34m]\u001b[0m\u001b[0;34m)\u001b[0m\u001b[0;34m)\u001b[0m\u001b[0;34m\u001b[0m\u001b[0;34m\u001b[0m\u001b[0m\n\u001b[0m\u001b[1;32m     80\u001b[0m \u001b[0;34m\u001b[0m\u001b[0m\n\u001b[1;32m     81\u001b[0m \u001b[0;34m\u001b[0m\u001b[0m\n",
      "\u001b[0;31mKeyError\u001b[0m: True"
     ]
    }
   ],
   "source": [
    "print(truths.Truths(['p', 'q'], ['(~q and p) => q']))"
   ]
  },
  {
   "cell_type": "code",
   "execution_count": 7,
   "metadata": {
    "ExecuteTime": {
     "end_time": "2019-10-13T00:35:07.967389Z",
     "start_time": "2019-10-13T00:35:07.956765Z"
    }
   },
   "outputs": [
    {
     "name": "stdout",
     "output_type": "stream",
     "text": [
      "+---+---+----------------+---------------+-----------------------+-----------------------------+\n",
      "| p | q | (p and q) => p | p => (p or q) | (p and (p => q)) => q | ((p => q) and (~q)) => (~p) |\n",
      "+---+---+----------------+---------------+-----------------------+-----------------------------+\n",
      "| 1 | 1 |       1        |       1       |           1           |              1              |\n",
      "| 1 | 0 |       1        |       1       |           1           |              1              |\n",
      "| 0 | 1 |       1        |       1       |           1           |              1              |\n",
      "| 0 | 0 |       1        |       1       |           1           |              1              |\n",
      "+---+---+----------------+---------------+-----------------------+-----------------------------+\n"
     ]
    }
   ],
   "source": [
    "print(truths.Truths(['p', 'q'], ['(p and q) => p', 'p => (p or q)',\n",
    "                                 '(p and (p => q)) => q',\n",
    "                                '((p => q) and (~q)) => (~p)']))"
   ]
  },
  {
   "cell_type": "code",
   "execution_count": 8,
   "metadata": {
    "ExecuteTime": {
     "end_time": "2019-10-13T00:35:11.004731Z",
     "start_time": "2019-10-13T00:35:10.997600Z"
    }
   },
   "outputs": [
    {
     "name": "stdout",
     "output_type": "stream",
     "text": [
      "+---+---+--------+--------+-----------------------+-------+\n",
      "| p | q | p => q | q => p | (p => q) and (q => p) | p = q |\n",
      "+---+---+--------+--------+-----------------------+-------+\n",
      "| 1 | 1 |   1    |   1    |           1           |   1   |\n",
      "| 1 | 0 |   0    |   1    |           0           |   0   |\n",
      "| 0 | 1 |   1    |   0    |           0           |   0   |\n",
      "| 0 | 0 |   1    |   1    |           1           |   1   |\n",
      "+---+---+--------+--------+-----------------------+-------+\n"
     ]
    }
   ],
   "source": [
    "print(truths.Truths(['p', 'q'], ['p => q', 'q => p', '(p => q) and (q => p)', 'p = q']))"
   ]
  },
  {
   "cell_type": "code",
   "execution_count": 2,
   "metadata": {
    "ExecuteTime": {
     "end_time": "2019-10-13T01:08:39.757796Z",
     "start_time": "2019-10-13T01:08:39.754985Z"
    }
   },
   "outputs": [],
   "source": [
    "d = truths.Truths(['p', 'q'], ['p => q', 'q => p', '(p => q) and (q => p)', 'p = q'])"
   ]
  },
  {
   "cell_type": "code",
   "execution_count": 3,
   "metadata": {
    "ExecuteTime": {
     "end_time": "2019-10-13T01:08:41.997101Z",
     "start_time": "2019-10-13T01:08:41.972838Z"
    }
   },
   "outputs": [
    {
     "data": {
      "text/html": [
       "<div>\n",
       "<style scoped>\n",
       "    .dataframe tbody tr th:only-of-type {\n",
       "        vertical-align: middle;\n",
       "    }\n",
       "\n",
       "    .dataframe tbody tr th {\n",
       "        vertical-align: top;\n",
       "    }\n",
       "\n",
       "    .dataframe thead th {\n",
       "        text-align: right;\n",
       "    }\n",
       "</style>\n",
       "<table border=\"1\" class=\"dataframe\">\n",
       "  <thead>\n",
       "    <tr style=\"text-align: right;\">\n",
       "      <th></th>\n",
       "      <th>p</th>\n",
       "      <th>q</th>\n",
       "      <th>p =&gt; q</th>\n",
       "      <th>q =&gt; p</th>\n",
       "      <th>(p =&gt; q) and (q =&gt; p)</th>\n",
       "      <th>p = q</th>\n",
       "    </tr>\n",
       "  </thead>\n",
       "  <tbody>\n",
       "    <tr>\n",
       "      <td>1</td>\n",
       "      <td>1</td>\n",
       "      <td>1</td>\n",
       "      <td>1</td>\n",
       "      <td>1</td>\n",
       "      <td>1</td>\n",
       "      <td>1</td>\n",
       "    </tr>\n",
       "    <tr>\n",
       "      <td>2</td>\n",
       "      <td>1</td>\n",
       "      <td>0</td>\n",
       "      <td>0</td>\n",
       "      <td>1</td>\n",
       "      <td>0</td>\n",
       "      <td>0</td>\n",
       "    </tr>\n",
       "    <tr>\n",
       "      <td>3</td>\n",
       "      <td>0</td>\n",
       "      <td>1</td>\n",
       "      <td>1</td>\n",
       "      <td>0</td>\n",
       "      <td>0</td>\n",
       "      <td>0</td>\n",
       "    </tr>\n",
       "    <tr>\n",
       "      <td>4</td>\n",
       "      <td>0</td>\n",
       "      <td>0</td>\n",
       "      <td>1</td>\n",
       "      <td>1</td>\n",
       "      <td>1</td>\n",
       "      <td>1</td>\n",
       "    </tr>\n",
       "  </tbody>\n",
       "</table>\n",
       "</div>"
      ],
      "text/plain": [
       "   p  q p => q q => p (p => q) and (q => p) p = q\n",
       "1  1  1      1      1                     1     1\n",
       "2  1  0      0      1                     0     0\n",
       "3  0  1      1      0                     0     0\n",
       "4  0  0      1      1                     1     1"
      ]
     },
     "execution_count": 3,
     "metadata": {},
     "output_type": "execute_result"
    }
   ],
   "source": [
    "d.asPandas()"
   ]
  },
  {
   "cell_type": "code",
   "execution_count": 4,
   "metadata": {
    "ExecuteTime": {
     "end_time": "2019-10-13T01:08:44.590753Z",
     "start_time": "2019-10-13T01:08:44.499602Z"
    }
   },
   "outputs": [
    {
     "data": {
      "text/html": [
       "<style  type=\"text/css\" >\n",
       "</style><table id=\"T_00ad1f9a_ed56_11e9_bee2_0c96e6ec4f2f\" ><thead>    <tr>        <th class=\"col_heading level0 col0\" >p</th>        <th class=\"col_heading level0 col1\" >q</th>        <th class=\"col_heading level0 col2\" >p => q</th>        <th class=\"col_heading level0 col3\" >q => p</th>        <th class=\"col_heading level0 col4\" >(p => q) and (q => p)</th>        <th class=\"col_heading level0 col5\" >p = q</th>    </tr></thead><tbody>\n",
       "                <tr>\n",
       "                                <td id=\"T_00ad1f9a_ed56_11e9_bee2_0c96e6ec4f2frow0_col0\" class=\"data row0 col0\" >1</td>\n",
       "                        <td id=\"T_00ad1f9a_ed56_11e9_bee2_0c96e6ec4f2frow0_col1\" class=\"data row0 col1\" >1</td>\n",
       "                        <td id=\"T_00ad1f9a_ed56_11e9_bee2_0c96e6ec4f2frow0_col2\" class=\"data row0 col2\" >1</td>\n",
       "                        <td id=\"T_00ad1f9a_ed56_11e9_bee2_0c96e6ec4f2frow0_col3\" class=\"data row0 col3\" >1</td>\n",
       "                        <td id=\"T_00ad1f9a_ed56_11e9_bee2_0c96e6ec4f2frow0_col4\" class=\"data row0 col4\" >1</td>\n",
       "                        <td id=\"T_00ad1f9a_ed56_11e9_bee2_0c96e6ec4f2frow0_col5\" class=\"data row0 col5\" >1</td>\n",
       "            </tr>\n",
       "            <tr>\n",
       "                                <td id=\"T_00ad1f9a_ed56_11e9_bee2_0c96e6ec4f2frow1_col0\" class=\"data row1 col0\" >1</td>\n",
       "                        <td id=\"T_00ad1f9a_ed56_11e9_bee2_0c96e6ec4f2frow1_col1\" class=\"data row1 col1\" >0</td>\n",
       "                        <td id=\"T_00ad1f9a_ed56_11e9_bee2_0c96e6ec4f2frow1_col2\" class=\"data row1 col2\" >0</td>\n",
       "                        <td id=\"T_00ad1f9a_ed56_11e9_bee2_0c96e6ec4f2frow1_col3\" class=\"data row1 col3\" >1</td>\n",
       "                        <td id=\"T_00ad1f9a_ed56_11e9_bee2_0c96e6ec4f2frow1_col4\" class=\"data row1 col4\" >0</td>\n",
       "                        <td id=\"T_00ad1f9a_ed56_11e9_bee2_0c96e6ec4f2frow1_col5\" class=\"data row1 col5\" >0</td>\n",
       "            </tr>\n",
       "            <tr>\n",
       "                                <td id=\"T_00ad1f9a_ed56_11e9_bee2_0c96e6ec4f2frow2_col0\" class=\"data row2 col0\" >0</td>\n",
       "                        <td id=\"T_00ad1f9a_ed56_11e9_bee2_0c96e6ec4f2frow2_col1\" class=\"data row2 col1\" >1</td>\n",
       "                        <td id=\"T_00ad1f9a_ed56_11e9_bee2_0c96e6ec4f2frow2_col2\" class=\"data row2 col2\" >1</td>\n",
       "                        <td id=\"T_00ad1f9a_ed56_11e9_bee2_0c96e6ec4f2frow2_col3\" class=\"data row2 col3\" >0</td>\n",
       "                        <td id=\"T_00ad1f9a_ed56_11e9_bee2_0c96e6ec4f2frow2_col4\" class=\"data row2 col4\" >0</td>\n",
       "                        <td id=\"T_00ad1f9a_ed56_11e9_bee2_0c96e6ec4f2frow2_col5\" class=\"data row2 col5\" >0</td>\n",
       "            </tr>\n",
       "            <tr>\n",
       "                                <td id=\"T_00ad1f9a_ed56_11e9_bee2_0c96e6ec4f2frow3_col0\" class=\"data row3 col0\" >0</td>\n",
       "                        <td id=\"T_00ad1f9a_ed56_11e9_bee2_0c96e6ec4f2frow3_col1\" class=\"data row3 col1\" >0</td>\n",
       "                        <td id=\"T_00ad1f9a_ed56_11e9_bee2_0c96e6ec4f2frow3_col2\" class=\"data row3 col2\" >1</td>\n",
       "                        <td id=\"T_00ad1f9a_ed56_11e9_bee2_0c96e6ec4f2frow3_col3\" class=\"data row3 col3\" >1</td>\n",
       "                        <td id=\"T_00ad1f9a_ed56_11e9_bee2_0c96e6ec4f2frow3_col4\" class=\"data row3 col4\" >1</td>\n",
       "                        <td id=\"T_00ad1f9a_ed56_11e9_bee2_0c96e6ec4f2frow3_col5\" class=\"data row3 col5\" >1</td>\n",
       "            </tr>\n",
       "    </tbody></table>"
      ],
      "text/plain": [
       "<pandas.io.formats.style.Styler at 0x7fcb4428f9d0>"
      ]
     },
     "execution_count": 4,
     "metadata": {},
     "output_type": "execute_result"
    }
   ],
   "source": [
    "d.asPandas().style.hide_index()"
   ]
  },
  {
   "cell_type": "code",
   "execution_count": null,
   "metadata": {},
   "outputs": [],
   "source": []
  }
 ],
 "metadata": {
  "hide_input": false,
  "kernelspec": {
   "display_name": "Python [conda env:truths]",
   "language": "python",
   "name": "conda-env-truths-py"
  },
  "language_info": {
   "codemirror_mode": {
    "name": "ipython",
    "version": 3
   },
   "file_extension": ".py",
   "mimetype": "text/x-python",
   "name": "python",
   "nbconvert_exporter": "python",
   "pygments_lexer": "ipython3",
   "version": "3.7.4"
  },
  "toc": {
   "base_numbering": 1,
   "nav_menu": {},
   "number_sections": true,
   "sideBar": true,
   "skip_h1_title": false,
   "title_cell": "Table of Contents",
   "title_sidebar": "Contents",
   "toc_cell": false,
   "toc_position": {},
   "toc_section_display": true,
   "toc_window_display": false
  },
  "varInspector": {
   "cols": {
    "lenName": 16,
    "lenType": 16,
    "lenVar": 40
   },
   "kernels_config": {
    "python": {
     "delete_cmd_postfix": "",
     "delete_cmd_prefix": "del ",
     "library": "var_list.py",
     "varRefreshCmd": "print(var_dic_list())"
    },
    "r": {
     "delete_cmd_postfix": ") ",
     "delete_cmd_prefix": "rm(",
     "library": "var_list.r",
     "varRefreshCmd": "cat(var_dic_list()) "
    }
   },
   "types_to_exclude": [
    "module",
    "function",
    "builtin_function_or_method",
    "instance",
    "_Feature"
   ],
   "window_display": false
  }
 },
 "nbformat": 4,
 "nbformat_minor": 2
}
