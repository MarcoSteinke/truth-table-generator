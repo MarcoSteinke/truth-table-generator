{
 "cells": [
  {
   "cell_type": "code",
   "execution_count": 1,
   "metadata": {
    "ExecuteTime": {
     "end_time": "2019-10-13T04:56:23.513180Z",
     "start_time": "2019-10-13T04:56:23.341276Z"
    }
   },
   "outputs": [],
   "source": [
    "import truths"
   ]
  },
  {
   "cell_type": "code",
   "execution_count": 26,
   "metadata": {
    "ExecuteTime": {
     "end_time": "2019-10-13T05:02:35.688896Z",
     "start_time": "2019-10-13T05:02:35.667197Z"
    }
   },
   "outputs": [
    {
     "name": "stdout",
     "output_type": "stream",
     "text": [
      "+-----+-----+-----+\n",
      "|  a  |  b  |  x  |\n",
      "|-----+-----+-----|\n",
      "|  1  |  1  |  1  |\n",
      "|  1  |  1  |  0  |\n",
      "|  1  |  0  |  1  |\n",
      "|  1  |  0  |  0  |\n",
      "|  0  |  1  |  1  |\n",
      "|  0  |  1  |  0  |\n",
      "|  0  |  0  |  1  |\n",
      "|  0  |  0  |  0  |\n",
      "+-----+-----+-----+\n"
     ]
    }
   ],
   "source": [
    "print(truths.Truths(['a', 'b', 'x']))"
   ]
  },
  {
   "cell_type": "code",
   "execution_count": 3,
   "metadata": {
    "ExecuteTime": {
     "end_time": "2019-10-13T02:23:08.422687Z",
     "start_time": "2019-10-13T02:23:08.403908Z"
    }
   },
   "outputs": [
    {
     "name": "stdout",
     "output_type": "stream",
     "text": [
      "+-----+-----+----------+---------------+\n",
      "|  a  |  b  |  a => b  |  a implies b  |\n",
      "|-----+-----+----------+---------------|\n",
      "|  1  |  1  |    1     |       1       |\n",
      "|  1  |  0  |    0     |       0       |\n",
      "|  0  |  1  |    1     |       1       |\n",
      "|  0  |  0  |    1     |       1       |\n",
      "+-----+-----+----------+---------------+\n"
     ]
    }
   ],
   "source": [
    "print(truths.Truths(['a', 'b'], ['a => b', 'a implies b']))"
   ]
  },
  {
   "cell_type": "code",
   "execution_count": 4,
   "metadata": {
    "ExecuteTime": {
     "end_time": "2019-10-13T02:23:16.297340Z",
     "start_time": "2019-10-13T02:23:16.278164Z"
    }
   },
   "outputs": [
    {
     "name": "stdout",
     "output_type": "stream",
     "text": [
      "+-----+-----+-------------------+\n",
      "|  p  |  q  |  (p and ~q) => q  |\n",
      "|-----+-----+-------------------|\n",
      "|  1  |  1  |         1         |\n",
      "|  1  |  0  |         1         |\n",
      "|  0  |  1  |         1         |\n",
      "|  0  |  0  |         1         |\n",
      "+-----+-----+-------------------+\n"
     ]
    }
   ],
   "source": [
    "print(truths.Truths(['p', 'q'], ['(p and ~q) => q']))"
   ]
  },
  {
   "cell_type": "code",
   "execution_count": 5,
   "metadata": {
    "ExecuteTime": {
     "end_time": "2019-10-13T02:23:17.675005Z",
     "start_time": "2019-10-13T02:23:17.654700Z"
    }
   },
   "outputs": [
    {
     "name": "stdout",
     "output_type": "stream",
     "text": [
      "+-----+-----+---------------------+\n",
      "|  p  |  q  |  (p and (~q)) => q  |\n",
      "|-----+-----+---------------------|\n",
      "|  1  |  1  |          1          |\n",
      "|  1  |  0  |          0          |\n",
      "|  0  |  1  |          1          |\n",
      "|  0  |  0  |          1          |\n",
      "+-----+-----+---------------------+\n"
     ]
    }
   ],
   "source": [
    "print(truths.Truths(['p', 'q'], ['(p and (~q)) => q']))"
   ]
  },
  {
   "cell_type": "code",
   "execution_count": 6,
   "metadata": {
    "ExecuteTime": {
     "end_time": "2019-10-13T02:23:23.287576Z",
     "start_time": "2019-10-13T02:23:23.229888Z"
    }
   },
   "outputs": [
    {
     "ename": "KeyError",
     "evalue": "True",
     "output_type": "error",
     "traceback": [
      "\u001b[0;31m---------------------------------------------------------------------------\u001b[0m",
      "\u001b[0;31mKeyError\u001b[0m                                  Traceback (most recent call last)",
      "\u001b[0;32m<ipython-input-6-29be606f2819>\u001b[0m in \u001b[0;36m<module>\u001b[0;34m\u001b[0m\n\u001b[0;32m----> 1\u001b[0;31m \u001b[0mprint\u001b[0m\u001b[0;34m(\u001b[0m\u001b[0mtruths\u001b[0m\u001b[0;34m.\u001b[0m\u001b[0mTruths\u001b[0m\u001b[0;34m(\u001b[0m\u001b[0;34m[\u001b[0m\u001b[0;34m'p'\u001b[0m\u001b[0;34m,\u001b[0m \u001b[0;34m'q'\u001b[0m\u001b[0;34m]\u001b[0m\u001b[0;34m,\u001b[0m \u001b[0;34m[\u001b[0m\u001b[0;34m'(~q and p) => q'\u001b[0m\u001b[0;34m]\u001b[0m\u001b[0;34m)\u001b[0m\u001b[0;34m)\u001b[0m\u001b[0;34m\u001b[0m\u001b[0;34m\u001b[0m\u001b[0m\n\u001b[0m",
      "\u001b[0;32m~/Dropbox/technology/python/projects/forks/truth-table-generator/truths/truths.py\u001b[0m in \u001b[0;36m__str__\u001b[0;34m(self)\u001b[0m\n\u001b[1;32m    189\u001b[0m \u001b[0;34m\u001b[0m\u001b[0m\n\u001b[1;32m    190\u001b[0m     \u001b[0;32mdef\u001b[0m \u001b[0m__str__\u001b[0m\u001b[0;34m(\u001b[0m\u001b[0mself\u001b[0m\u001b[0;34m)\u001b[0m\u001b[0;34m:\u001b[0m\u001b[0;34m\u001b[0m\u001b[0;34m\u001b[0m\u001b[0m\n\u001b[0;32m--> 191\u001b[0;31m         \u001b[0mt\u001b[0m \u001b[0;34m=\u001b[0m \u001b[0mTruths\u001b[0m\u001b[0;34m.\u001b[0m\u001b[0masTabulate\u001b[0m\u001b[0;34m(\u001b[0m\u001b[0mself\u001b[0m\u001b[0;34m,\u001b[0m \u001b[0mindex\u001b[0m\u001b[0;34m=\u001b[0m\u001b[0;32mFalse\u001b[0m\u001b[0;34m)\u001b[0m\u001b[0;34m\u001b[0m\u001b[0;34m\u001b[0m\u001b[0m\n\u001b[0m\u001b[1;32m    192\u001b[0m         \u001b[0;32mreturn\u001b[0m \u001b[0mstr\u001b[0m\u001b[0;34m(\u001b[0m\u001b[0mt\u001b[0m\u001b[0;34m)\u001b[0m\u001b[0;34m\u001b[0m\u001b[0;34m\u001b[0m\u001b[0m\n",
      "\u001b[0;32m~/Dropbox/technology/python/projects/forks/truth-table-generator/truths/truths.py\u001b[0m in \u001b[0;36masTabulate\u001b[0;34m(self, index, table_format, align)\u001b[0m\n\u001b[1;32m    180\u001b[0m \u001b[0;34m\u001b[0m\u001b[0m\n\u001b[1;32m    181\u001b[0m     \u001b[0;32mdef\u001b[0m \u001b[0masTabulate\u001b[0m\u001b[0;34m(\u001b[0m\u001b[0mself\u001b[0m\u001b[0;34m,\u001b[0m \u001b[0mindex\u001b[0m\u001b[0;34m=\u001b[0m\u001b[0;32mTrue\u001b[0m\u001b[0;34m,\u001b[0m \u001b[0mtable_format\u001b[0m\u001b[0;34m=\u001b[0m\u001b[0;34m'psql'\u001b[0m\u001b[0;34m,\u001b[0m \u001b[0malign\u001b[0m\u001b[0;34m=\u001b[0m\u001b[0;34m'center'\u001b[0m\u001b[0;34m)\u001b[0m\u001b[0;34m:\u001b[0m\u001b[0;34m\u001b[0m\u001b[0;34m\u001b[0m\u001b[0m\n\u001b[0;32m--> 182\u001b[0;31m         t = tabulate(Truths.asPandas(self),\n\u001b[0m\u001b[1;32m    183\u001b[0m                      \u001b[0mheaders\u001b[0m\u001b[0;34m=\u001b[0m\u001b[0;34m'keys'\u001b[0m\u001b[0;34m,\u001b[0m\u001b[0;34m\u001b[0m\u001b[0;34m\u001b[0m\u001b[0m\n\u001b[1;32m    184\u001b[0m                      \u001b[0mtablefmt\u001b[0m\u001b[0;34m=\u001b[0m\u001b[0mtable_format\u001b[0m\u001b[0;34m,\u001b[0m\u001b[0;34m\u001b[0m\u001b[0;34m\u001b[0m\u001b[0m\n",
      "\u001b[0;32m~/Dropbox/technology/python/projects/forks/truth-table-generator/truths/truths.py\u001b[0m in \u001b[0;36masPandas\u001b[0;34m(self)\u001b[0m\n\u001b[1;32m    175\u001b[0m         \u001b[0mdf\u001b[0m \u001b[0;34m=\u001b[0m \u001b[0mpd\u001b[0m\u001b[0;34m.\u001b[0m\u001b[0mDataFrame\u001b[0m\u001b[0;34m(\u001b[0m\u001b[0mcolumns\u001b[0m\u001b[0;34m=\u001b[0m\u001b[0mdf_columns\u001b[0m\u001b[0;34m)\u001b[0m\u001b[0;34m\u001b[0m\u001b[0;34m\u001b[0m\u001b[0m\n\u001b[1;32m    176\u001b[0m         \u001b[0;32mfor\u001b[0m \u001b[0mconditions_set\u001b[0m \u001b[0;32min\u001b[0m \u001b[0mself\u001b[0m\u001b[0;34m.\u001b[0m\u001b[0mbase_conditions\u001b[0m\u001b[0;34m:\u001b[0m\u001b[0;34m\u001b[0m\u001b[0;34m\u001b[0m\u001b[0m\n\u001b[0;32m--> 177\u001b[0;31m             \u001b[0mdf\u001b[0m\u001b[0;34m.\u001b[0m\u001b[0mloc\u001b[0m\u001b[0;34m[\u001b[0m\u001b[0mlen\u001b[0m\u001b[0;34m(\u001b[0m\u001b[0mdf\u001b[0m\u001b[0;34m)\u001b[0m\u001b[0;34m]\u001b[0m \u001b[0;34m=\u001b[0m \u001b[0mself\u001b[0m\u001b[0;34m.\u001b[0m\u001b[0mcalculate\u001b[0m\u001b[0;34m(\u001b[0m\u001b[0;34m*\u001b[0m\u001b[0mconditions_set\u001b[0m\u001b[0;34m)\u001b[0m\u001b[0;34m\u001b[0m\u001b[0;34m\u001b[0m\u001b[0m\n\u001b[0m\u001b[1;32m    178\u001b[0m         \u001b[0mdf\u001b[0m\u001b[0;34m.\u001b[0m\u001b[0mindex\u001b[0m \u001b[0;34m=\u001b[0m \u001b[0mnp\u001b[0m\u001b[0;34m.\u001b[0m\u001b[0marange\u001b[0m\u001b[0;34m(\u001b[0m\u001b[0;36m1\u001b[0m\u001b[0;34m,\u001b[0m \u001b[0mlen\u001b[0m\u001b[0;34m(\u001b[0m\u001b[0mdf\u001b[0m\u001b[0;34m)\u001b[0m \u001b[0;34m+\u001b[0m \u001b[0;36m1\u001b[0m\u001b[0;34m)\u001b[0m  \u001b[0;31m# index starting in one\u001b[0m\u001b[0;34m\u001b[0m\u001b[0;34m\u001b[0m\u001b[0m\n\u001b[1;32m    179\u001b[0m         \u001b[0;32mreturn\u001b[0m \u001b[0mdf\u001b[0m\u001b[0;34m\u001b[0m\u001b[0;34m\u001b[0m\u001b[0m\n",
      "\u001b[0;32m~/Dropbox/technology/python/projects/forks/truth-table-generator/truths/truths.py\u001b[0m in \u001b[0;36mcalculate\u001b[0;34m(self, *args)\u001b[0m\n\u001b[1;32m    156\u001b[0m             \u001b[0minterpreted\u001b[0m \u001b[0;34m=\u001b[0m \u001b[0mgroup_operations\u001b[0m\u001b[0;34m(\u001b[0m\u001b[0minterpreted\u001b[0m\u001b[0;34m)\u001b[0m\u001b[0;34m\u001b[0m\u001b[0;34m\u001b[0m\u001b[0m\n\u001b[1;32m    157\u001b[0m             \u001b[0;31m# evaluate the phrase\u001b[0m\u001b[0;34m\u001b[0m\u001b[0;34m\u001b[0m\u001b[0;34m\u001b[0m\u001b[0m\n\u001b[0;32m--> 158\u001b[0;31m             \u001b[0meval_phrases\u001b[0m\u001b[0;34m.\u001b[0m\u001b[0mappend\u001b[0m\u001b[0;34m(\u001b[0m\u001b[0msolve_phrase\u001b[0m\u001b[0;34m(\u001b[0m\u001b[0minterpreted\u001b[0m\u001b[0;34m)\u001b[0m\u001b[0;34m)\u001b[0m\u001b[0;34m\u001b[0m\u001b[0;34m\u001b[0m\u001b[0m\n\u001b[0m\u001b[1;32m    159\u001b[0m \u001b[0;34m\u001b[0m\u001b[0m\n\u001b[1;32m    160\u001b[0m         \u001b[0;31m# add the bases and evaluated phrases to create a single row\u001b[0m\u001b[0;34m\u001b[0m\u001b[0;34m\u001b[0m\u001b[0;34m\u001b[0m\u001b[0m\n",
      "\u001b[0;32m~/Dropbox/technology/python/projects/forks/truth-table-generator/truths/truths.py\u001b[0m in \u001b[0;36msolve_phrase\u001b[0;34m(p)\u001b[0m\n\u001b[1;32m     80\u001b[0m         \u001b[0;31m# double operand operation\u001b[0m\u001b[0;34m\u001b[0m\u001b[0;34m\u001b[0m\u001b[0;34m\u001b[0m\u001b[0m\n\u001b[1;32m     81\u001b[0m         \u001b[0;32melse\u001b[0m\u001b[0;34m:\u001b[0m\u001b[0;34m\u001b[0m\u001b[0;34m\u001b[0m\u001b[0m\n\u001b[0;32m---> 82\u001b[0;31m             \u001b[0;32mreturn\u001b[0m \u001b[0moperations\u001b[0m\u001b[0;34m[\u001b[0m\u001b[0mp\u001b[0m\u001b[0;34m[\u001b[0m\u001b[0;36m1\u001b[0m\u001b[0;34m]\u001b[0m\u001b[0;34m]\u001b[0m\u001b[0;34m(\u001b[0m\u001b[0msolve_phrase\u001b[0m\u001b[0;34m(\u001b[0m\u001b[0mp\u001b[0m\u001b[0;34m[\u001b[0m\u001b[0;36m0\u001b[0m\u001b[0;34m]\u001b[0m\u001b[0;34m)\u001b[0m\u001b[0;34m,\u001b[0m \u001b[0msolve_phrase\u001b[0m\u001b[0;34m(\u001b[0m\u001b[0;34m[\u001b[0m\u001b[0mp\u001b[0m\u001b[0;34m[\u001b[0m\u001b[0;36m2\u001b[0m\u001b[0;34m]\u001b[0m\u001b[0;34m]\u001b[0m\u001b[0;34m)\u001b[0m\u001b[0;34m)\u001b[0m\u001b[0;34m\u001b[0m\u001b[0;34m\u001b[0m\u001b[0m\n\u001b[0m\u001b[1;32m     83\u001b[0m \u001b[0;34m\u001b[0m\u001b[0m\n\u001b[1;32m     84\u001b[0m \u001b[0;34m\u001b[0m\u001b[0m\n",
      "\u001b[0;32m~/Dropbox/technology/python/projects/forks/truth-table-generator/truths/truths.py\u001b[0m in \u001b[0;36msolve_phrase\u001b[0;34m(p)\u001b[0m\n\u001b[1;32m     80\u001b[0m         \u001b[0;31m# double operand operation\u001b[0m\u001b[0;34m\u001b[0m\u001b[0;34m\u001b[0m\u001b[0;34m\u001b[0m\u001b[0m\n\u001b[1;32m     81\u001b[0m         \u001b[0;32melse\u001b[0m\u001b[0;34m:\u001b[0m\u001b[0;34m\u001b[0m\u001b[0;34m\u001b[0m\u001b[0m\n\u001b[0;32m---> 82\u001b[0;31m             \u001b[0;32mreturn\u001b[0m \u001b[0moperations\u001b[0m\u001b[0;34m[\u001b[0m\u001b[0mp\u001b[0m\u001b[0;34m[\u001b[0m\u001b[0;36m1\u001b[0m\u001b[0;34m]\u001b[0m\u001b[0;34m]\u001b[0m\u001b[0;34m(\u001b[0m\u001b[0msolve_phrase\u001b[0m\u001b[0;34m(\u001b[0m\u001b[0mp\u001b[0m\u001b[0;34m[\u001b[0m\u001b[0;36m0\u001b[0m\u001b[0;34m]\u001b[0m\u001b[0;34m)\u001b[0m\u001b[0;34m,\u001b[0m \u001b[0msolve_phrase\u001b[0m\u001b[0;34m(\u001b[0m\u001b[0;34m[\u001b[0m\u001b[0mp\u001b[0m\u001b[0;34m[\u001b[0m\u001b[0;36m2\u001b[0m\u001b[0;34m]\u001b[0m\u001b[0;34m]\u001b[0m\u001b[0;34m)\u001b[0m\u001b[0;34m)\u001b[0m\u001b[0;34m\u001b[0m\u001b[0;34m\u001b[0m\u001b[0m\n\u001b[0m\u001b[1;32m     83\u001b[0m \u001b[0;34m\u001b[0m\u001b[0m\n\u001b[1;32m     84\u001b[0m \u001b[0;34m\u001b[0m\u001b[0m\n",
      "\u001b[0;31mKeyError\u001b[0m: True"
     ]
    }
   ],
   "source": [
    "print(truths.Truths(['p', 'q'], ['(~q and p) => q']))"
   ]
  },
  {
   "cell_type": "code",
   "execution_count": 7,
   "metadata": {
    "ExecuteTime": {
     "end_time": "2019-10-13T02:23:34.861825Z",
     "start_time": "2019-10-13T02:23:34.829896Z"
    }
   },
   "outputs": [
    {
     "name": "stdout",
     "output_type": "stream",
     "text": [
      "+-----+-----+------------------+-----------------+-------------------------+-------------------------------+\n",
      "|  p  |  q  |  (p and q) => p  |  p => (p or q)  |  (p and (p => q)) => q  |  ((p => q) and (~q)) => (~p)  |\n",
      "|-----+-----+------------------+-----------------+-------------------------+-------------------------------|\n",
      "|  1  |  1  |        1         |        1        |            1            |               1               |\n",
      "|  1  |  0  |        1         |        1        |            1            |               1               |\n",
      "|  0  |  1  |        1         |        1        |            1            |               1               |\n",
      "|  0  |  0  |        1         |        1        |            1            |               1               |\n",
      "+-----+-----+------------------+-----------------+-------------------------+-------------------------------+\n"
     ]
    }
   ],
   "source": [
    "print(truths.Truths(['p', 'q'], ['(p and q) => p', 'p => (p or q)',\n",
    "                                 '(p and (p => q)) => q',\n",
    "                                '((p => q) and (~q)) => (~p)']))"
   ]
  },
  {
   "cell_type": "code",
   "execution_count": 8,
   "metadata": {
    "ExecuteTime": {
     "end_time": "2019-10-13T02:23:38.461842Z",
     "start_time": "2019-10-13T02:23:38.412908Z"
    }
   },
   "outputs": [
    {
     "name": "stdout",
     "output_type": "stream",
     "text": [
      "+-----+-----+----------+----------+-------------------------+---------+\n",
      "|  p  |  q  |  p => q  |  q => p  |  (p => q) and (q => p)  |  p = q  |\n",
      "|-----+-----+----------+----------+-------------------------+---------|\n",
      "|  1  |  1  |    1     |    1     |            1            |    1    |\n",
      "|  1  |  0  |    0     |    1     |            0            |    0    |\n",
      "|  0  |  1  |    1     |    0     |            0            |    0    |\n",
      "|  0  |  0  |    1     |    1     |            1            |    1    |\n",
      "+-----+-----+----------+----------+-------------------------+---------+\n"
     ]
    }
   ],
   "source": [
    "print(truths.Truths(['p', 'q'], ['p => q', 'q => p', '(p => q) and (q => p)', 'p = q']))"
   ]
  },
  {
   "cell_type": "code",
   "execution_count": 9,
   "metadata": {
    "ExecuteTime": {
     "end_time": "2019-10-13T02:23:42.592587Z",
     "start_time": "2019-10-13T02:23:42.589748Z"
    }
   },
   "outputs": [],
   "source": [
    "d = truths.Truths(['p', 'q'], ['p => q', 'q => p', '(p => q) and (q => p)', 'p = q'])"
   ]
  },
  {
   "cell_type": "code",
   "execution_count": 10,
   "metadata": {
    "ExecuteTime": {
     "end_time": "2019-10-13T02:23:43.713742Z",
     "start_time": "2019-10-13T02:23:43.691075Z"
    }
   },
   "outputs": [
    {
     "data": {
      "text/html": [
       "<div>\n",
       "<style scoped>\n",
       "    .dataframe tbody tr th:only-of-type {\n",
       "        vertical-align: middle;\n",
       "    }\n",
       "\n",
       "    .dataframe tbody tr th {\n",
       "        vertical-align: top;\n",
       "    }\n",
       "\n",
       "    .dataframe thead th {\n",
       "        text-align: right;\n",
       "    }\n",
       "</style>\n",
       "<table border=\"1\" class=\"dataframe\">\n",
       "  <thead>\n",
       "    <tr style=\"text-align: right;\">\n",
       "      <th></th>\n",
       "      <th>p</th>\n",
       "      <th>q</th>\n",
       "      <th>p =&gt; q</th>\n",
       "      <th>q =&gt; p</th>\n",
       "      <th>(p =&gt; q) and (q =&gt; p)</th>\n",
       "      <th>p = q</th>\n",
       "    </tr>\n",
       "  </thead>\n",
       "  <tbody>\n",
       "    <tr>\n",
       "      <td>1</td>\n",
       "      <td>1</td>\n",
       "      <td>1</td>\n",
       "      <td>1</td>\n",
       "      <td>1</td>\n",
       "      <td>1</td>\n",
       "      <td>1</td>\n",
       "    </tr>\n",
       "    <tr>\n",
       "      <td>2</td>\n",
       "      <td>1</td>\n",
       "      <td>0</td>\n",
       "      <td>0</td>\n",
       "      <td>1</td>\n",
       "      <td>0</td>\n",
       "      <td>0</td>\n",
       "    </tr>\n",
       "    <tr>\n",
       "      <td>3</td>\n",
       "      <td>0</td>\n",
       "      <td>1</td>\n",
       "      <td>1</td>\n",
       "      <td>0</td>\n",
       "      <td>0</td>\n",
       "      <td>0</td>\n",
       "    </tr>\n",
       "    <tr>\n",
       "      <td>4</td>\n",
       "      <td>0</td>\n",
       "      <td>0</td>\n",
       "      <td>1</td>\n",
       "      <td>1</td>\n",
       "      <td>1</td>\n",
       "      <td>1</td>\n",
       "    </tr>\n",
       "  </tbody>\n",
       "</table>\n",
       "</div>"
      ],
      "text/plain": [
       "   p  q p => q q => p (p => q) and (q => p) p = q\n",
       "1  1  1      1      1                     1     1\n",
       "2  1  0      0      1                     0     0\n",
       "3  0  1      1      0                     0     0\n",
       "4  0  0      1      1                     1     1"
      ]
     },
     "execution_count": 10,
     "metadata": {},
     "output_type": "execute_result"
    }
   ],
   "source": [
    "d.asPandas()"
   ]
  },
  {
   "cell_type": "code",
   "execution_count": 11,
   "metadata": {
    "ExecuteTime": {
     "end_time": "2019-10-13T02:23:44.580303Z",
     "start_time": "2019-10-13T02:23:44.501286Z"
    }
   },
   "outputs": [
    {
     "data": {
      "text/html": [
       "<style  type=\"text/css\" >\n",
       "</style><table id=\"T_7ae1b3fc_ed60_11e9_bee2_0c96e6ec4f2f\" ><thead>    <tr>        <th class=\"col_heading level0 col0\" >p</th>        <th class=\"col_heading level0 col1\" >q</th>        <th class=\"col_heading level0 col2\" >p => q</th>        <th class=\"col_heading level0 col3\" >q => p</th>        <th class=\"col_heading level0 col4\" >(p => q) and (q => p)</th>        <th class=\"col_heading level0 col5\" >p = q</th>    </tr></thead><tbody>\n",
       "                <tr>\n",
       "                                <td id=\"T_7ae1b3fc_ed60_11e9_bee2_0c96e6ec4f2frow0_col0\" class=\"data row0 col0\" >1</td>\n",
       "                        <td id=\"T_7ae1b3fc_ed60_11e9_bee2_0c96e6ec4f2frow0_col1\" class=\"data row0 col1\" >1</td>\n",
       "                        <td id=\"T_7ae1b3fc_ed60_11e9_bee2_0c96e6ec4f2frow0_col2\" class=\"data row0 col2\" >1</td>\n",
       "                        <td id=\"T_7ae1b3fc_ed60_11e9_bee2_0c96e6ec4f2frow0_col3\" class=\"data row0 col3\" >1</td>\n",
       "                        <td id=\"T_7ae1b3fc_ed60_11e9_bee2_0c96e6ec4f2frow0_col4\" class=\"data row0 col4\" >1</td>\n",
       "                        <td id=\"T_7ae1b3fc_ed60_11e9_bee2_0c96e6ec4f2frow0_col5\" class=\"data row0 col5\" >1</td>\n",
       "            </tr>\n",
       "            <tr>\n",
       "                                <td id=\"T_7ae1b3fc_ed60_11e9_bee2_0c96e6ec4f2frow1_col0\" class=\"data row1 col0\" >1</td>\n",
       "                        <td id=\"T_7ae1b3fc_ed60_11e9_bee2_0c96e6ec4f2frow1_col1\" class=\"data row1 col1\" >0</td>\n",
       "                        <td id=\"T_7ae1b3fc_ed60_11e9_bee2_0c96e6ec4f2frow1_col2\" class=\"data row1 col2\" >0</td>\n",
       "                        <td id=\"T_7ae1b3fc_ed60_11e9_bee2_0c96e6ec4f2frow1_col3\" class=\"data row1 col3\" >1</td>\n",
       "                        <td id=\"T_7ae1b3fc_ed60_11e9_bee2_0c96e6ec4f2frow1_col4\" class=\"data row1 col4\" >0</td>\n",
       "                        <td id=\"T_7ae1b3fc_ed60_11e9_bee2_0c96e6ec4f2frow1_col5\" class=\"data row1 col5\" >0</td>\n",
       "            </tr>\n",
       "            <tr>\n",
       "                                <td id=\"T_7ae1b3fc_ed60_11e9_bee2_0c96e6ec4f2frow2_col0\" class=\"data row2 col0\" >0</td>\n",
       "                        <td id=\"T_7ae1b3fc_ed60_11e9_bee2_0c96e6ec4f2frow2_col1\" class=\"data row2 col1\" >1</td>\n",
       "                        <td id=\"T_7ae1b3fc_ed60_11e9_bee2_0c96e6ec4f2frow2_col2\" class=\"data row2 col2\" >1</td>\n",
       "                        <td id=\"T_7ae1b3fc_ed60_11e9_bee2_0c96e6ec4f2frow2_col3\" class=\"data row2 col3\" >0</td>\n",
       "                        <td id=\"T_7ae1b3fc_ed60_11e9_bee2_0c96e6ec4f2frow2_col4\" class=\"data row2 col4\" >0</td>\n",
       "                        <td id=\"T_7ae1b3fc_ed60_11e9_bee2_0c96e6ec4f2frow2_col5\" class=\"data row2 col5\" >0</td>\n",
       "            </tr>\n",
       "            <tr>\n",
       "                                <td id=\"T_7ae1b3fc_ed60_11e9_bee2_0c96e6ec4f2frow3_col0\" class=\"data row3 col0\" >0</td>\n",
       "                        <td id=\"T_7ae1b3fc_ed60_11e9_bee2_0c96e6ec4f2frow3_col1\" class=\"data row3 col1\" >0</td>\n",
       "                        <td id=\"T_7ae1b3fc_ed60_11e9_bee2_0c96e6ec4f2frow3_col2\" class=\"data row3 col2\" >1</td>\n",
       "                        <td id=\"T_7ae1b3fc_ed60_11e9_bee2_0c96e6ec4f2frow3_col3\" class=\"data row3 col3\" >1</td>\n",
       "                        <td id=\"T_7ae1b3fc_ed60_11e9_bee2_0c96e6ec4f2frow3_col4\" class=\"data row3 col4\" >1</td>\n",
       "                        <td id=\"T_7ae1b3fc_ed60_11e9_bee2_0c96e6ec4f2frow3_col5\" class=\"data row3 col5\" >1</td>\n",
       "            </tr>\n",
       "    </tbody></table>"
      ],
      "text/plain": [
       "<pandas.io.formats.style.Styler at 0x7f1ea088c150>"
      ]
     },
     "execution_count": 11,
     "metadata": {},
     "output_type": "execute_result"
    }
   ],
   "source": [
    "d.asPandas().style.hide_index()"
   ]
  },
  {
   "cell_type": "code",
   "execution_count": 12,
   "metadata": {
    "ExecuteTime": {
     "end_time": "2019-10-13T02:23:48.057671Z",
     "start_time": "2019-10-13T02:23:48.055254Z"
    }
   },
   "outputs": [],
   "source": [
    "t = truths.Truths(['p', 'q'], ['p => q', 'q => p', '(p => q) and (q => p)', 'p = q'])"
   ]
  },
  {
   "cell_type": "code",
   "execution_count": 122,
   "metadata": {
    "ExecuteTime": {
     "end_time": "2019-10-13T04:14:09.164629Z",
     "start_time": "2019-10-13T04:14:09.154937Z"
    }
   },
   "outputs": [
    {
     "name": "stdout",
     "output_type": "stream",
     "text": [
      "+---+---+--------+--------+-----------------------+-------+\n",
      "| p | q | p => q | q => p | (p => q) and (q => p) | p = q |\n",
      "+---+---+--------+--------+-----------------------+-------+\n",
      "| 1 | 1 |   1    |   1    |           1           |   1   |\n",
      "| 1 | 0 |   0    |   1    |           0           |   0   |\n",
      "| 0 | 1 |   1    |   0    |           0           |   0   |\n",
      "| 0 | 0 |   1    |   1    |           1           |   1   |\n",
      "+---+---+--------+--------+-----------------------+-------+\n"
     ]
    }
   ],
   "source": [
    "print(t.asPrettyTable())"
   ]
  },
  {
   "cell_type": "code",
   "execution_count": 123,
   "metadata": {
    "ExecuteTime": {
     "end_time": "2019-10-13T04:14:10.163877Z",
     "start_time": "2019-10-13T04:14:10.138498Z"
    }
   },
   "outputs": [
    {
     "name": "stdout",
     "output_type": "stream",
     "text": [
      "+----+-----+-----+----------+----------+-------------------------+---------+\n",
      "|    |  p  |  q  |  p => q  |  q => p  |  (p => q) and (q => p)  |  p = q  |\n",
      "|----+-----+-----+----------+----------+-------------------------+---------|\n",
      "| 1  |  1  |  1  |    1     |    1     |            1            |    1    |\n",
      "| 2  |  1  |  0  |    0     |    1     |            0            |    0    |\n",
      "| 3  |  0  |  1  |    1     |    0     |            0            |    0    |\n",
      "| 4  |  0  |  0  |    1     |    1     |            1            |    1    |\n",
      "+----+-----+-----+----------+----------+-------------------------+---------+\n"
     ]
    }
   ],
   "source": [
    "print(t.asTabulate())"
   ]
  },
  {
   "cell_type": "code",
   "execution_count": 5,
   "metadata": {
    "ExecuteTime": {
     "end_time": "2019-10-13T02:15:36.135339Z",
     "start_time": "2019-10-13T02:15:36.111281Z"
    }
   },
   "outputs": [
    {
     "name": "stdout",
     "output_type": "stream",
     "text": [
      "\\begin{tabular}{cccccc}\n",
      "\\hline\n",
      "  p  &  q  &  p =\\ensuremath{>} q  &  q =\\ensuremath{>} p  &  (p =\\ensuremath{>} q) and (q =\\ensuremath{>} p)  &  p = q  \\\\\n",
      "\\hline\n",
      "  1  &  1  &    1     &    1     &            1            &    1    \\\\\n",
      "  1  &  0  &    0     &    1     &            0            &    0    \\\\\n",
      "  0  &  1  &    1     &    0     &            0            &    0    \\\\\n",
      "  0  &  0  &    1     &    1     &            1            &    1    \\\\\n",
      "\\hline\n",
      "\\end{tabular}\n"
     ]
    }
   ],
   "source": [
    "print(t.asTabulate(index=False, table_format='latex'))"
   ]
  },
  {
   "cell_type": "code",
   "execution_count": 6,
   "metadata": {
    "ExecuteTime": {
     "end_time": "2019-10-13T02:15:36.799608Z",
     "start_time": "2019-10-13T02:15:36.494823Z"
    }
   },
   "outputs": [
    {
     "name": "stdout",
     "output_type": "stream",
     "text": [
      "\\begin{tabular}{ccccccc}\n",
      "\\hline\n",
      "    &  p  &  q  &  p => q  &  q => p  &  (p => q) and (q => p)  &  p = q  \\\\\n",
      "\\hline\n",
      " 1  &  1  &  1  &    1     &    1     &            1            &    1    \\\\\n",
      " 2  &  1  &  0  &    0     &    1     &            0            &    0    \\\\\n",
      " 3  &  0  &  1  &    1     &    0     &            0            &    0    \\\\\n",
      " 4  &  0  &  0  &    1     &    1     &            1            &    1    \\\\\n",
      "\\hline\n",
      "\\end{tabular}\n"
     ]
    }
   ],
   "source": [
    "print(t.asTabulate(index=True, table_format='latex_raw'))"
   ]
  },
  {
   "cell_type": "code",
   "execution_count": 7,
   "metadata": {
    "ExecuteTime": {
     "end_time": "2019-10-13T02:15:37.663852Z",
     "start_time": "2019-10-13T02:15:37.638876Z"
    }
   },
   "outputs": [
    {
     "name": "stdout",
     "output_type": "stream",
     "text": [
      "\\begin{tabular}{cccccc}\n",
      "\\toprule\n",
      "  p  &  q  &  p =\\ensuremath{>} q  &  q =\\ensuremath{>} p  &  (p =\\ensuremath{>} q) and (q =\\ensuremath{>} p)  &  p = q  \\\\\n",
      "\\midrule\n",
      "  1  &  1  &    1     &    1     &            1            &    1    \\\\\n",
      "  1  &  0  &    0     &    1     &            0            &    0    \\\\\n",
      "  0  &  1  &    1     &    0     &            0            &    0    \\\\\n",
      "  0  &  0  &    1     &    1     &            1            &    1    \\\\\n",
      "\\bottomrule\n",
      "\\end{tabular}\n"
     ]
    }
   ],
   "source": [
    "print(t.asTabulate(index=False, table_format='latex_booktabs'))"
   ]
  },
  {
   "cell_type": "code",
   "execution_count": 8,
   "metadata": {
    "ExecuteTime": {
     "end_time": "2019-10-13T02:15:40.078752Z",
     "start_time": "2019-10-13T02:15:40.076146Z"
    }
   },
   "outputs": [],
   "source": [
    "t = truths.Truths(['p', 'q'], ['p => q', 'q => p', '(p => q) and (q => p)', 'p = q'], ints=False)"
   ]
  },
  {
   "cell_type": "code",
   "execution_count": 9,
   "metadata": {
    "ExecuteTime": {
     "end_time": "2019-10-13T02:15:41.499836Z",
     "start_time": "2019-10-13T02:15:41.475442Z"
    }
   },
   "outputs": [
    {
     "name": "stdout",
     "output_type": "stream",
     "text": [
      "+----+-------+-------+----------+----------+-------------------------+---------+\n",
      "|    |   p   |   q   |  p => q  |  q => p  |  (p => q) and (q => p)  |  p = q  |\n",
      "|----+-------+-------+----------+----------+-------------------------+---------|\n",
      "| 1  | True  | True  |   True   |   True   |          True           |  True   |\n",
      "| 2  | True  | False |  False   |   True   |          False          |  False  |\n",
      "| 3  | False | True  |   True   |  False   |          False          |  False  |\n",
      "| 4  | False | False |   True   |   True   |          True           |  True   |\n",
      "+----+-------+-------+----------+----------+-------------------------+---------+\n"
     ]
    }
   ],
   "source": [
    "print(t.asTabulate())"
   ]
  },
  {
   "cell_type": "code",
   "execution_count": 3,
   "metadata": {
    "ExecuteTime": {
     "end_time": "2019-10-13T04:56:35.271645Z",
     "start_time": "2019-10-13T04:56:35.269260Z"
    }
   },
   "outputs": [],
   "source": [
    "d = truths.Truths(['p', 'q'], ['p => q', 'q => p', '(p => q) and (q => p)', 'p = q'])"
   ]
  },
  {
   "cell_type": "code",
   "execution_count": 4,
   "metadata": {
    "ExecuteTime": {
     "end_time": "2019-10-13T04:56:35.813279Z",
     "start_time": "2019-10-13T04:56:35.789279Z"
    }
   },
   "outputs": [
    {
     "data": {
      "text/html": [
       "<div>\n",
       "<style scoped>\n",
       "    .dataframe tbody tr th:only-of-type {\n",
       "        vertical-align: middle;\n",
       "    }\n",
       "\n",
       "    .dataframe tbody tr th {\n",
       "        vertical-align: top;\n",
       "    }\n",
       "\n",
       "    .dataframe thead th {\n",
       "        text-align: right;\n",
       "    }\n",
       "</style>\n",
       "<table border=\"1\" class=\"dataframe\">\n",
       "  <thead>\n",
       "    <tr style=\"text-align: right;\">\n",
       "      <th></th>\n",
       "      <th>p</th>\n",
       "      <th>q</th>\n",
       "      <th>p =&gt; q</th>\n",
       "      <th>q =&gt; p</th>\n",
       "      <th>(p =&gt; q) and (q =&gt; p)</th>\n",
       "      <th>p = q</th>\n",
       "    </tr>\n",
       "  </thead>\n",
       "  <tbody>\n",
       "    <tr>\n",
       "      <td>1</td>\n",
       "      <td>1</td>\n",
       "      <td>1</td>\n",
       "      <td>1</td>\n",
       "      <td>1</td>\n",
       "      <td>1</td>\n",
       "      <td>1</td>\n",
       "    </tr>\n",
       "    <tr>\n",
       "      <td>2</td>\n",
       "      <td>1</td>\n",
       "      <td>0</td>\n",
       "      <td>0</td>\n",
       "      <td>1</td>\n",
       "      <td>0</td>\n",
       "      <td>0</td>\n",
       "    </tr>\n",
       "    <tr>\n",
       "      <td>3</td>\n",
       "      <td>0</td>\n",
       "      <td>1</td>\n",
       "      <td>1</td>\n",
       "      <td>0</td>\n",
       "      <td>0</td>\n",
       "      <td>0</td>\n",
       "    </tr>\n",
       "    <tr>\n",
       "      <td>4</td>\n",
       "      <td>0</td>\n",
       "      <td>0</td>\n",
       "      <td>1</td>\n",
       "      <td>1</td>\n",
       "      <td>1</td>\n",
       "      <td>1</td>\n",
       "    </tr>\n",
       "  </tbody>\n",
       "</table>\n",
       "</div>"
      ],
      "text/plain": [
       "   p  q p => q q => p (p => q) and (q => p) p = q\n",
       "1  1  1      1      1                     1     1\n",
       "2  1  0      0      1                     0     0\n",
       "3  0  1      1      0                     0     0\n",
       "4  0  0      1      1                     1     1"
      ]
     },
     "execution_count": 4,
     "metadata": {},
     "output_type": "execute_result"
    }
   ],
   "source": [
    "d.asPandas()"
   ]
  },
  {
   "cell_type": "code",
   "execution_count": 5,
   "metadata": {
    "ExecuteTime": {
     "end_time": "2019-10-13T04:56:36.481743Z",
     "start_time": "2019-10-13T04:56:36.389864Z"
    }
   },
   "outputs": [
    {
     "data": {
      "text/html": [
       "<style  type=\"text/css\" >\n",
       "    #T_d5c2a5aa_ed75_11e9_bee2_0c96e6ec4f2frow0_col0 {\n",
       "            text-align:  center;\n",
       "        }    #T_d5c2a5aa_ed75_11e9_bee2_0c96e6ec4f2frow0_col1 {\n",
       "            text-align:  center;\n",
       "        }    #T_d5c2a5aa_ed75_11e9_bee2_0c96e6ec4f2frow0_col2 {\n",
       "            text-align:  center;\n",
       "        }    #T_d5c2a5aa_ed75_11e9_bee2_0c96e6ec4f2frow0_col3 {\n",
       "            text-align:  center;\n",
       "        }    #T_d5c2a5aa_ed75_11e9_bee2_0c96e6ec4f2frow0_col4 {\n",
       "            text-align:  center;\n",
       "        }    #T_d5c2a5aa_ed75_11e9_bee2_0c96e6ec4f2frow0_col5 {\n",
       "            text-align:  center;\n",
       "        }    #T_d5c2a5aa_ed75_11e9_bee2_0c96e6ec4f2frow1_col0 {\n",
       "            text-align:  center;\n",
       "        }    #T_d5c2a5aa_ed75_11e9_bee2_0c96e6ec4f2frow1_col1 {\n",
       "            text-align:  center;\n",
       "        }    #T_d5c2a5aa_ed75_11e9_bee2_0c96e6ec4f2frow1_col2 {\n",
       "            text-align:  center;\n",
       "        }    #T_d5c2a5aa_ed75_11e9_bee2_0c96e6ec4f2frow1_col3 {\n",
       "            text-align:  center;\n",
       "        }    #T_d5c2a5aa_ed75_11e9_bee2_0c96e6ec4f2frow1_col4 {\n",
       "            text-align:  center;\n",
       "        }    #T_d5c2a5aa_ed75_11e9_bee2_0c96e6ec4f2frow1_col5 {\n",
       "            text-align:  center;\n",
       "        }    #T_d5c2a5aa_ed75_11e9_bee2_0c96e6ec4f2frow2_col0 {\n",
       "            text-align:  center;\n",
       "        }    #T_d5c2a5aa_ed75_11e9_bee2_0c96e6ec4f2frow2_col1 {\n",
       "            text-align:  center;\n",
       "        }    #T_d5c2a5aa_ed75_11e9_bee2_0c96e6ec4f2frow2_col2 {\n",
       "            text-align:  center;\n",
       "        }    #T_d5c2a5aa_ed75_11e9_bee2_0c96e6ec4f2frow2_col3 {\n",
       "            text-align:  center;\n",
       "        }    #T_d5c2a5aa_ed75_11e9_bee2_0c96e6ec4f2frow2_col4 {\n",
       "            text-align:  center;\n",
       "        }    #T_d5c2a5aa_ed75_11e9_bee2_0c96e6ec4f2frow2_col5 {\n",
       "            text-align:  center;\n",
       "        }    #T_d5c2a5aa_ed75_11e9_bee2_0c96e6ec4f2frow3_col0 {\n",
       "            text-align:  center;\n",
       "        }    #T_d5c2a5aa_ed75_11e9_bee2_0c96e6ec4f2frow3_col1 {\n",
       "            text-align:  center;\n",
       "        }    #T_d5c2a5aa_ed75_11e9_bee2_0c96e6ec4f2frow3_col2 {\n",
       "            text-align:  center;\n",
       "        }    #T_d5c2a5aa_ed75_11e9_bee2_0c96e6ec4f2frow3_col3 {\n",
       "            text-align:  center;\n",
       "        }    #T_d5c2a5aa_ed75_11e9_bee2_0c96e6ec4f2frow3_col4 {\n",
       "            text-align:  center;\n",
       "        }    #T_d5c2a5aa_ed75_11e9_bee2_0c96e6ec4f2frow3_col5 {\n",
       "            text-align:  center;\n",
       "        }</style><table id=\"T_d5c2a5aa_ed75_11e9_bee2_0c96e6ec4f2f\" ><thead>    <tr>        <th class=\"blank level0\" ></th>        <th class=\"col_heading level0 col0\" >p</th>        <th class=\"col_heading level0 col1\" >q</th>        <th class=\"col_heading level0 col2\" >p => q</th>        <th class=\"col_heading level0 col3\" >q => p</th>        <th class=\"col_heading level0 col4\" >(p => q) and (q => p)</th>        <th class=\"col_heading level0 col5\" >p = q</th>    </tr></thead><tbody>\n",
       "                <tr>\n",
       "                        <th id=\"T_d5c2a5aa_ed75_11e9_bee2_0c96e6ec4f2flevel0_row0\" class=\"row_heading level0 row0\" >1</th>\n",
       "                        <td id=\"T_d5c2a5aa_ed75_11e9_bee2_0c96e6ec4f2frow0_col0\" class=\"data row0 col0\" >1</td>\n",
       "                        <td id=\"T_d5c2a5aa_ed75_11e9_bee2_0c96e6ec4f2frow0_col1\" class=\"data row0 col1\" >1</td>\n",
       "                        <td id=\"T_d5c2a5aa_ed75_11e9_bee2_0c96e6ec4f2frow0_col2\" class=\"data row0 col2\" >1</td>\n",
       "                        <td id=\"T_d5c2a5aa_ed75_11e9_bee2_0c96e6ec4f2frow0_col3\" class=\"data row0 col3\" >1</td>\n",
       "                        <td id=\"T_d5c2a5aa_ed75_11e9_bee2_0c96e6ec4f2frow0_col4\" class=\"data row0 col4\" >1</td>\n",
       "                        <td id=\"T_d5c2a5aa_ed75_11e9_bee2_0c96e6ec4f2frow0_col5\" class=\"data row0 col5\" >1</td>\n",
       "            </tr>\n",
       "            <tr>\n",
       "                        <th id=\"T_d5c2a5aa_ed75_11e9_bee2_0c96e6ec4f2flevel0_row1\" class=\"row_heading level0 row1\" >2</th>\n",
       "                        <td id=\"T_d5c2a5aa_ed75_11e9_bee2_0c96e6ec4f2frow1_col0\" class=\"data row1 col0\" >1</td>\n",
       "                        <td id=\"T_d5c2a5aa_ed75_11e9_bee2_0c96e6ec4f2frow1_col1\" class=\"data row1 col1\" >0</td>\n",
       "                        <td id=\"T_d5c2a5aa_ed75_11e9_bee2_0c96e6ec4f2frow1_col2\" class=\"data row1 col2\" >0</td>\n",
       "                        <td id=\"T_d5c2a5aa_ed75_11e9_bee2_0c96e6ec4f2frow1_col3\" class=\"data row1 col3\" >1</td>\n",
       "                        <td id=\"T_d5c2a5aa_ed75_11e9_bee2_0c96e6ec4f2frow1_col4\" class=\"data row1 col4\" >0</td>\n",
       "                        <td id=\"T_d5c2a5aa_ed75_11e9_bee2_0c96e6ec4f2frow1_col5\" class=\"data row1 col5\" >0</td>\n",
       "            </tr>\n",
       "            <tr>\n",
       "                        <th id=\"T_d5c2a5aa_ed75_11e9_bee2_0c96e6ec4f2flevel0_row2\" class=\"row_heading level0 row2\" >3</th>\n",
       "                        <td id=\"T_d5c2a5aa_ed75_11e9_bee2_0c96e6ec4f2frow2_col0\" class=\"data row2 col0\" >0</td>\n",
       "                        <td id=\"T_d5c2a5aa_ed75_11e9_bee2_0c96e6ec4f2frow2_col1\" class=\"data row2 col1\" >1</td>\n",
       "                        <td id=\"T_d5c2a5aa_ed75_11e9_bee2_0c96e6ec4f2frow2_col2\" class=\"data row2 col2\" >1</td>\n",
       "                        <td id=\"T_d5c2a5aa_ed75_11e9_bee2_0c96e6ec4f2frow2_col3\" class=\"data row2 col3\" >0</td>\n",
       "                        <td id=\"T_d5c2a5aa_ed75_11e9_bee2_0c96e6ec4f2frow2_col4\" class=\"data row2 col4\" >0</td>\n",
       "                        <td id=\"T_d5c2a5aa_ed75_11e9_bee2_0c96e6ec4f2frow2_col5\" class=\"data row2 col5\" >0</td>\n",
       "            </tr>\n",
       "            <tr>\n",
       "                        <th id=\"T_d5c2a5aa_ed75_11e9_bee2_0c96e6ec4f2flevel0_row3\" class=\"row_heading level0 row3\" >4</th>\n",
       "                        <td id=\"T_d5c2a5aa_ed75_11e9_bee2_0c96e6ec4f2frow3_col0\" class=\"data row3 col0\" >0</td>\n",
       "                        <td id=\"T_d5c2a5aa_ed75_11e9_bee2_0c96e6ec4f2frow3_col1\" class=\"data row3 col1\" >0</td>\n",
       "                        <td id=\"T_d5c2a5aa_ed75_11e9_bee2_0c96e6ec4f2frow3_col2\" class=\"data row3 col2\" >1</td>\n",
       "                        <td id=\"T_d5c2a5aa_ed75_11e9_bee2_0c96e6ec4f2frow3_col3\" class=\"data row3 col3\" >1</td>\n",
       "                        <td id=\"T_d5c2a5aa_ed75_11e9_bee2_0c96e6ec4f2frow3_col4\" class=\"data row3 col4\" >1</td>\n",
       "                        <td id=\"T_d5c2a5aa_ed75_11e9_bee2_0c96e6ec4f2frow3_col5\" class=\"data row3 col5\" >1</td>\n",
       "            </tr>\n",
       "    </tbody></table>"
      ],
      "text/plain": [
       "<pandas.io.formats.style.Styler at 0x7fc87b34cb90>"
      ]
     },
     "execution_count": 5,
     "metadata": {},
     "output_type": "execute_result"
    }
   ],
   "source": [
    "d.asPandas().style.set_properties(**{'text-align': 'center'})"
   ]
  },
  {
   "cell_type": "code",
   "execution_count": 6,
   "metadata": {
    "ExecuteTime": {
     "end_time": "2019-10-13T04:56:38.678863Z",
     "start_time": "2019-10-13T04:56:38.653949Z"
    }
   },
   "outputs": [
    {
     "data": {
      "text/html": [
       "<style  type=\"text/css\" >\n",
       "    #T_d7121382_ed75_11e9_bee2_0c96e6ec4f2frow0_col0 {\n",
       "            text-align:  center;\n",
       "        }    #T_d7121382_ed75_11e9_bee2_0c96e6ec4f2frow0_col1 {\n",
       "            text-align:  center;\n",
       "        }    #T_d7121382_ed75_11e9_bee2_0c96e6ec4f2frow0_col2 {\n",
       "            text-align:  center;\n",
       "        }    #T_d7121382_ed75_11e9_bee2_0c96e6ec4f2frow0_col3 {\n",
       "            text-align:  center;\n",
       "        }    #T_d7121382_ed75_11e9_bee2_0c96e6ec4f2frow0_col4 {\n",
       "            text-align:  center;\n",
       "        }    #T_d7121382_ed75_11e9_bee2_0c96e6ec4f2frow0_col5 {\n",
       "            text-align:  center;\n",
       "        }    #T_d7121382_ed75_11e9_bee2_0c96e6ec4f2frow1_col0 {\n",
       "            text-align:  center;\n",
       "        }    #T_d7121382_ed75_11e9_bee2_0c96e6ec4f2frow1_col1 {\n",
       "            text-align:  center;\n",
       "        }    #T_d7121382_ed75_11e9_bee2_0c96e6ec4f2frow1_col2 {\n",
       "            text-align:  center;\n",
       "        }    #T_d7121382_ed75_11e9_bee2_0c96e6ec4f2frow1_col3 {\n",
       "            text-align:  center;\n",
       "        }    #T_d7121382_ed75_11e9_bee2_0c96e6ec4f2frow1_col4 {\n",
       "            text-align:  center;\n",
       "        }    #T_d7121382_ed75_11e9_bee2_0c96e6ec4f2frow1_col5 {\n",
       "            text-align:  center;\n",
       "        }    #T_d7121382_ed75_11e9_bee2_0c96e6ec4f2frow2_col0 {\n",
       "            text-align:  center;\n",
       "        }    #T_d7121382_ed75_11e9_bee2_0c96e6ec4f2frow2_col1 {\n",
       "            text-align:  center;\n",
       "        }    #T_d7121382_ed75_11e9_bee2_0c96e6ec4f2frow2_col2 {\n",
       "            text-align:  center;\n",
       "        }    #T_d7121382_ed75_11e9_bee2_0c96e6ec4f2frow2_col3 {\n",
       "            text-align:  center;\n",
       "        }    #T_d7121382_ed75_11e9_bee2_0c96e6ec4f2frow2_col4 {\n",
       "            text-align:  center;\n",
       "        }    #T_d7121382_ed75_11e9_bee2_0c96e6ec4f2frow2_col5 {\n",
       "            text-align:  center;\n",
       "        }    #T_d7121382_ed75_11e9_bee2_0c96e6ec4f2frow3_col0 {\n",
       "            text-align:  center;\n",
       "        }    #T_d7121382_ed75_11e9_bee2_0c96e6ec4f2frow3_col1 {\n",
       "            text-align:  center;\n",
       "        }    #T_d7121382_ed75_11e9_bee2_0c96e6ec4f2frow3_col2 {\n",
       "            text-align:  center;\n",
       "        }    #T_d7121382_ed75_11e9_bee2_0c96e6ec4f2frow3_col3 {\n",
       "            text-align:  center;\n",
       "        }    #T_d7121382_ed75_11e9_bee2_0c96e6ec4f2frow3_col4 {\n",
       "            text-align:  center;\n",
       "        }    #T_d7121382_ed75_11e9_bee2_0c96e6ec4f2frow3_col5 {\n",
       "            text-align:  center;\n",
       "        }</style><table id=\"T_d7121382_ed75_11e9_bee2_0c96e6ec4f2f\" ><thead>    <tr>        <th class=\"col_heading level0 col0\" >p</th>        <th class=\"col_heading level0 col1\" >q</th>        <th class=\"col_heading level0 col2\" >p => q</th>        <th class=\"col_heading level0 col3\" >q => p</th>        <th class=\"col_heading level0 col4\" >(p => q) and (q => p)</th>        <th class=\"col_heading level0 col5\" >p = q</th>    </tr></thead><tbody>\n",
       "                <tr>\n",
       "                                <td id=\"T_d7121382_ed75_11e9_bee2_0c96e6ec4f2frow0_col0\" class=\"data row0 col0\" >1</td>\n",
       "                        <td id=\"T_d7121382_ed75_11e9_bee2_0c96e6ec4f2frow0_col1\" class=\"data row0 col1\" >1</td>\n",
       "                        <td id=\"T_d7121382_ed75_11e9_bee2_0c96e6ec4f2frow0_col2\" class=\"data row0 col2\" >1</td>\n",
       "                        <td id=\"T_d7121382_ed75_11e9_bee2_0c96e6ec4f2frow0_col3\" class=\"data row0 col3\" >1</td>\n",
       "                        <td id=\"T_d7121382_ed75_11e9_bee2_0c96e6ec4f2frow0_col4\" class=\"data row0 col4\" >1</td>\n",
       "                        <td id=\"T_d7121382_ed75_11e9_bee2_0c96e6ec4f2frow0_col5\" class=\"data row0 col5\" >1</td>\n",
       "            </tr>\n",
       "            <tr>\n",
       "                                <td id=\"T_d7121382_ed75_11e9_bee2_0c96e6ec4f2frow1_col0\" class=\"data row1 col0\" >1</td>\n",
       "                        <td id=\"T_d7121382_ed75_11e9_bee2_0c96e6ec4f2frow1_col1\" class=\"data row1 col1\" >0</td>\n",
       "                        <td id=\"T_d7121382_ed75_11e9_bee2_0c96e6ec4f2frow1_col2\" class=\"data row1 col2\" >0</td>\n",
       "                        <td id=\"T_d7121382_ed75_11e9_bee2_0c96e6ec4f2frow1_col3\" class=\"data row1 col3\" >1</td>\n",
       "                        <td id=\"T_d7121382_ed75_11e9_bee2_0c96e6ec4f2frow1_col4\" class=\"data row1 col4\" >0</td>\n",
       "                        <td id=\"T_d7121382_ed75_11e9_bee2_0c96e6ec4f2frow1_col5\" class=\"data row1 col5\" >0</td>\n",
       "            </tr>\n",
       "            <tr>\n",
       "                                <td id=\"T_d7121382_ed75_11e9_bee2_0c96e6ec4f2frow2_col0\" class=\"data row2 col0\" >0</td>\n",
       "                        <td id=\"T_d7121382_ed75_11e9_bee2_0c96e6ec4f2frow2_col1\" class=\"data row2 col1\" >1</td>\n",
       "                        <td id=\"T_d7121382_ed75_11e9_bee2_0c96e6ec4f2frow2_col2\" class=\"data row2 col2\" >1</td>\n",
       "                        <td id=\"T_d7121382_ed75_11e9_bee2_0c96e6ec4f2frow2_col3\" class=\"data row2 col3\" >0</td>\n",
       "                        <td id=\"T_d7121382_ed75_11e9_bee2_0c96e6ec4f2frow2_col4\" class=\"data row2 col4\" >0</td>\n",
       "                        <td id=\"T_d7121382_ed75_11e9_bee2_0c96e6ec4f2frow2_col5\" class=\"data row2 col5\" >0</td>\n",
       "            </tr>\n",
       "            <tr>\n",
       "                                <td id=\"T_d7121382_ed75_11e9_bee2_0c96e6ec4f2frow3_col0\" class=\"data row3 col0\" >0</td>\n",
       "                        <td id=\"T_d7121382_ed75_11e9_bee2_0c96e6ec4f2frow3_col1\" class=\"data row3 col1\" >0</td>\n",
       "                        <td id=\"T_d7121382_ed75_11e9_bee2_0c96e6ec4f2frow3_col2\" class=\"data row3 col2\" >1</td>\n",
       "                        <td id=\"T_d7121382_ed75_11e9_bee2_0c96e6ec4f2frow3_col3\" class=\"data row3 col3\" >1</td>\n",
       "                        <td id=\"T_d7121382_ed75_11e9_bee2_0c96e6ec4f2frow3_col4\" class=\"data row3 col4\" >1</td>\n",
       "                        <td id=\"T_d7121382_ed75_11e9_bee2_0c96e6ec4f2frow3_col5\" class=\"data row3 col5\" >1</td>\n",
       "            </tr>\n",
       "    </tbody></table>"
      ],
      "text/plain": [
       "<pandas.io.formats.style.Styler at 0x7fc87b326510>"
      ]
     },
     "execution_count": 6,
     "metadata": {},
     "output_type": "execute_result"
    }
   ],
   "source": [
    "d.asPandas().style.set_properties(**{'text-align': 'center'}).hide_index()"
   ]
  },
  {
   "cell_type": "code",
   "execution_count": 7,
   "metadata": {
    "ExecuteTime": {
     "end_time": "2019-10-13T04:56:39.810992Z",
     "start_time": "2019-10-13T04:56:39.789271Z"
    }
   },
   "outputs": [
    {
     "name": "stdout",
     "output_type": "stream",
     "text": [
      "+-----+-----+-----+\n",
      "|  a  |  b  |  x  |\n",
      "|-----+-----+-----|\n",
      "|  1  |  1  |  1  |\n",
      "|  1  |  1  |  0  |\n",
      "|  1  |  0  |  1  |\n",
      "|  1  |  0  |  0  |\n",
      "|  0  |  1  |  1  |\n",
      "|  0  |  1  |  0  |\n",
      "|  0  |  0  |  1  |\n",
      "|  0  |  0  |  0  |\n",
      "+-----+-----+-----+\n"
     ]
    }
   ],
   "source": [
    "print(truths.Truths(['a', 'b', 'x']))"
   ]
  },
  {
   "cell_type": "code",
   "execution_count": 22,
   "metadata": {
    "ExecuteTime": {
     "end_time": "2019-10-13T02:41:22.443676Z",
     "start_time": "2019-10-13T02:41:22.429770Z"
    }
   },
   "outputs": [],
   "source": [
    "d2 = d.asPandas().style.set_properties(**{'text-align': 'center'}).hide_index()"
   ]
  },
  {
   "cell_type": "code",
   "execution_count": 23,
   "metadata": {
    "ExecuteTime": {
     "end_time": "2019-10-13T02:41:27.941160Z",
     "start_time": "2019-10-13T02:41:27.937563Z"
    }
   },
   "outputs": [
    {
     "data": {
      "text/plain": [
       "pandas.io.formats.style.Styler"
      ]
     },
     "execution_count": 23,
     "metadata": {},
     "output_type": "execute_result"
    }
   ],
   "source": [
    "type(d2)"
   ]
  },
  {
   "cell_type": "code",
   "execution_count": 8,
   "metadata": {
    "ExecuteTime": {
     "end_time": "2019-10-13T04:56:46.424032Z",
     "start_time": "2019-10-13T04:56:46.421848Z"
    }
   },
   "outputs": [],
   "source": [
    "def color_false_red(val):    \n",
    "    color = 'red' if (val == True) else 'green'\n",
    "    return 'color: %s' % color"
   ]
  },
  {
   "cell_type": "code",
   "execution_count": 9,
   "metadata": {
    "ExecuteTime": {
     "end_time": "2019-10-13T04:56:47.300685Z",
     "start_time": "2019-10-13T04:56:47.270425Z"
    }
   },
   "outputs": [
    {
     "data": {
      "text/html": [
       "<style  type=\"text/css\" >\n",
       "    #T_dc3590a0_ed75_11e9_bee2_0c96e6ec4f2frow0_col0 {\n",
       "            color:  red;\n",
       "        }    #T_dc3590a0_ed75_11e9_bee2_0c96e6ec4f2frow0_col1 {\n",
       "            color:  red;\n",
       "        }    #T_dc3590a0_ed75_11e9_bee2_0c96e6ec4f2frow0_col2 {\n",
       "            color:  red;\n",
       "        }    #T_dc3590a0_ed75_11e9_bee2_0c96e6ec4f2frow0_col3 {\n",
       "            color:  red;\n",
       "        }    #T_dc3590a0_ed75_11e9_bee2_0c96e6ec4f2frow0_col4 {\n",
       "            color:  red;\n",
       "        }    #T_dc3590a0_ed75_11e9_bee2_0c96e6ec4f2frow0_col5 {\n",
       "            color:  red;\n",
       "        }    #T_dc3590a0_ed75_11e9_bee2_0c96e6ec4f2frow1_col0 {\n",
       "            color:  red;\n",
       "        }    #T_dc3590a0_ed75_11e9_bee2_0c96e6ec4f2frow1_col1 {\n",
       "            color:  green;\n",
       "        }    #T_dc3590a0_ed75_11e9_bee2_0c96e6ec4f2frow1_col2 {\n",
       "            color:  green;\n",
       "        }    #T_dc3590a0_ed75_11e9_bee2_0c96e6ec4f2frow1_col3 {\n",
       "            color:  red;\n",
       "        }    #T_dc3590a0_ed75_11e9_bee2_0c96e6ec4f2frow1_col4 {\n",
       "            color:  green;\n",
       "        }    #T_dc3590a0_ed75_11e9_bee2_0c96e6ec4f2frow1_col5 {\n",
       "            color:  green;\n",
       "        }    #T_dc3590a0_ed75_11e9_bee2_0c96e6ec4f2frow2_col0 {\n",
       "            color:  green;\n",
       "        }    #T_dc3590a0_ed75_11e9_bee2_0c96e6ec4f2frow2_col1 {\n",
       "            color:  red;\n",
       "        }    #T_dc3590a0_ed75_11e9_bee2_0c96e6ec4f2frow2_col2 {\n",
       "            color:  red;\n",
       "        }    #T_dc3590a0_ed75_11e9_bee2_0c96e6ec4f2frow2_col3 {\n",
       "            color:  green;\n",
       "        }    #T_dc3590a0_ed75_11e9_bee2_0c96e6ec4f2frow2_col4 {\n",
       "            color:  green;\n",
       "        }    #T_dc3590a0_ed75_11e9_bee2_0c96e6ec4f2frow2_col5 {\n",
       "            color:  green;\n",
       "        }    #T_dc3590a0_ed75_11e9_bee2_0c96e6ec4f2frow3_col0 {\n",
       "            color:  green;\n",
       "        }    #T_dc3590a0_ed75_11e9_bee2_0c96e6ec4f2frow3_col1 {\n",
       "            color:  green;\n",
       "        }    #T_dc3590a0_ed75_11e9_bee2_0c96e6ec4f2frow3_col2 {\n",
       "            color:  red;\n",
       "        }    #T_dc3590a0_ed75_11e9_bee2_0c96e6ec4f2frow3_col3 {\n",
       "            color:  red;\n",
       "        }    #T_dc3590a0_ed75_11e9_bee2_0c96e6ec4f2frow3_col4 {\n",
       "            color:  red;\n",
       "        }    #T_dc3590a0_ed75_11e9_bee2_0c96e6ec4f2frow3_col5 {\n",
       "            color:  red;\n",
       "        }</style><table id=\"T_dc3590a0_ed75_11e9_bee2_0c96e6ec4f2f\" ><thead>    <tr>        <th class=\"blank level0\" ></th>        <th class=\"col_heading level0 col0\" >p</th>        <th class=\"col_heading level0 col1\" >q</th>        <th class=\"col_heading level0 col2\" >p => q</th>        <th class=\"col_heading level0 col3\" >q => p</th>        <th class=\"col_heading level0 col4\" >(p => q) and (q => p)</th>        <th class=\"col_heading level0 col5\" >p = q</th>    </tr></thead><tbody>\n",
       "                <tr>\n",
       "                        <th id=\"T_dc3590a0_ed75_11e9_bee2_0c96e6ec4f2flevel0_row0\" class=\"row_heading level0 row0\" >1</th>\n",
       "                        <td id=\"T_dc3590a0_ed75_11e9_bee2_0c96e6ec4f2frow0_col0\" class=\"data row0 col0\" >1</td>\n",
       "                        <td id=\"T_dc3590a0_ed75_11e9_bee2_0c96e6ec4f2frow0_col1\" class=\"data row0 col1\" >1</td>\n",
       "                        <td id=\"T_dc3590a0_ed75_11e9_bee2_0c96e6ec4f2frow0_col2\" class=\"data row0 col2\" >1</td>\n",
       "                        <td id=\"T_dc3590a0_ed75_11e9_bee2_0c96e6ec4f2frow0_col3\" class=\"data row0 col3\" >1</td>\n",
       "                        <td id=\"T_dc3590a0_ed75_11e9_bee2_0c96e6ec4f2frow0_col4\" class=\"data row0 col4\" >1</td>\n",
       "                        <td id=\"T_dc3590a0_ed75_11e9_bee2_0c96e6ec4f2frow0_col5\" class=\"data row0 col5\" >1</td>\n",
       "            </tr>\n",
       "            <tr>\n",
       "                        <th id=\"T_dc3590a0_ed75_11e9_bee2_0c96e6ec4f2flevel0_row1\" class=\"row_heading level0 row1\" >2</th>\n",
       "                        <td id=\"T_dc3590a0_ed75_11e9_bee2_0c96e6ec4f2frow1_col0\" class=\"data row1 col0\" >1</td>\n",
       "                        <td id=\"T_dc3590a0_ed75_11e9_bee2_0c96e6ec4f2frow1_col1\" class=\"data row1 col1\" >0</td>\n",
       "                        <td id=\"T_dc3590a0_ed75_11e9_bee2_0c96e6ec4f2frow1_col2\" class=\"data row1 col2\" >0</td>\n",
       "                        <td id=\"T_dc3590a0_ed75_11e9_bee2_0c96e6ec4f2frow1_col3\" class=\"data row1 col3\" >1</td>\n",
       "                        <td id=\"T_dc3590a0_ed75_11e9_bee2_0c96e6ec4f2frow1_col4\" class=\"data row1 col4\" >0</td>\n",
       "                        <td id=\"T_dc3590a0_ed75_11e9_bee2_0c96e6ec4f2frow1_col5\" class=\"data row1 col5\" >0</td>\n",
       "            </tr>\n",
       "            <tr>\n",
       "                        <th id=\"T_dc3590a0_ed75_11e9_bee2_0c96e6ec4f2flevel0_row2\" class=\"row_heading level0 row2\" >3</th>\n",
       "                        <td id=\"T_dc3590a0_ed75_11e9_bee2_0c96e6ec4f2frow2_col0\" class=\"data row2 col0\" >0</td>\n",
       "                        <td id=\"T_dc3590a0_ed75_11e9_bee2_0c96e6ec4f2frow2_col1\" class=\"data row2 col1\" >1</td>\n",
       "                        <td id=\"T_dc3590a0_ed75_11e9_bee2_0c96e6ec4f2frow2_col2\" class=\"data row2 col2\" >1</td>\n",
       "                        <td id=\"T_dc3590a0_ed75_11e9_bee2_0c96e6ec4f2frow2_col3\" class=\"data row2 col3\" >0</td>\n",
       "                        <td id=\"T_dc3590a0_ed75_11e9_bee2_0c96e6ec4f2frow2_col4\" class=\"data row2 col4\" >0</td>\n",
       "                        <td id=\"T_dc3590a0_ed75_11e9_bee2_0c96e6ec4f2frow2_col5\" class=\"data row2 col5\" >0</td>\n",
       "            </tr>\n",
       "            <tr>\n",
       "                        <th id=\"T_dc3590a0_ed75_11e9_bee2_0c96e6ec4f2flevel0_row3\" class=\"row_heading level0 row3\" >4</th>\n",
       "                        <td id=\"T_dc3590a0_ed75_11e9_bee2_0c96e6ec4f2frow3_col0\" class=\"data row3 col0\" >0</td>\n",
       "                        <td id=\"T_dc3590a0_ed75_11e9_bee2_0c96e6ec4f2frow3_col1\" class=\"data row3 col1\" >0</td>\n",
       "                        <td id=\"T_dc3590a0_ed75_11e9_bee2_0c96e6ec4f2frow3_col2\" class=\"data row3 col2\" >1</td>\n",
       "                        <td id=\"T_dc3590a0_ed75_11e9_bee2_0c96e6ec4f2frow3_col3\" class=\"data row3 col3\" >1</td>\n",
       "                        <td id=\"T_dc3590a0_ed75_11e9_bee2_0c96e6ec4f2frow3_col4\" class=\"data row3 col4\" >1</td>\n",
       "                        <td id=\"T_dc3590a0_ed75_11e9_bee2_0c96e6ec4f2frow3_col5\" class=\"data row3 col5\" >1</td>\n",
       "            </tr>\n",
       "    </tbody></table>"
      ],
      "text/plain": [
       "<pandas.io.formats.style.Styler at 0x7fc87ad961d0>"
      ]
     },
     "execution_count": 9,
     "metadata": {},
     "output_type": "execute_result"
    }
   ],
   "source": [
    "d.asPandas().style.applymap(color_false_red)"
   ]
  },
  {
   "cell_type": "code",
   "execution_count": 10,
   "metadata": {
    "ExecuteTime": {
     "end_time": "2019-10-13T04:56:49.712911Z",
     "start_time": "2019-10-13T04:56:49.710255Z"
    }
   },
   "outputs": [],
   "source": [
    "d = truths.Truths(['p', 'q'], ['p => q', 'q => p', '(p => q) and (q => p)', 'p = q'], ints=False)"
   ]
  },
  {
   "cell_type": "code",
   "execution_count": 11,
   "metadata": {
    "ExecuteTime": {
     "end_time": "2019-10-13T04:56:50.437887Z",
     "start_time": "2019-10-13T04:56:50.406320Z"
    }
   },
   "outputs": [
    {
     "data": {
      "text/html": [
       "<style  type=\"text/css\" >\n",
       "    #T_de144f74_ed75_11e9_bee2_0c96e6ec4f2frow0_col0 {\n",
       "            color:  red;\n",
       "        }    #T_de144f74_ed75_11e9_bee2_0c96e6ec4f2frow0_col1 {\n",
       "            color:  red;\n",
       "        }    #T_de144f74_ed75_11e9_bee2_0c96e6ec4f2frow0_col2 {\n",
       "            color:  red;\n",
       "        }    #T_de144f74_ed75_11e9_bee2_0c96e6ec4f2frow0_col3 {\n",
       "            color:  red;\n",
       "        }    #T_de144f74_ed75_11e9_bee2_0c96e6ec4f2frow0_col4 {\n",
       "            color:  red;\n",
       "        }    #T_de144f74_ed75_11e9_bee2_0c96e6ec4f2frow0_col5 {\n",
       "            color:  red;\n",
       "        }    #T_de144f74_ed75_11e9_bee2_0c96e6ec4f2frow1_col0 {\n",
       "            color:  red;\n",
       "        }    #T_de144f74_ed75_11e9_bee2_0c96e6ec4f2frow1_col1 {\n",
       "            color:  green;\n",
       "        }    #T_de144f74_ed75_11e9_bee2_0c96e6ec4f2frow1_col2 {\n",
       "            color:  green;\n",
       "        }    #T_de144f74_ed75_11e9_bee2_0c96e6ec4f2frow1_col3 {\n",
       "            color:  red;\n",
       "        }    #T_de144f74_ed75_11e9_bee2_0c96e6ec4f2frow1_col4 {\n",
       "            color:  green;\n",
       "        }    #T_de144f74_ed75_11e9_bee2_0c96e6ec4f2frow1_col5 {\n",
       "            color:  green;\n",
       "        }    #T_de144f74_ed75_11e9_bee2_0c96e6ec4f2frow2_col0 {\n",
       "            color:  green;\n",
       "        }    #T_de144f74_ed75_11e9_bee2_0c96e6ec4f2frow2_col1 {\n",
       "            color:  red;\n",
       "        }    #T_de144f74_ed75_11e9_bee2_0c96e6ec4f2frow2_col2 {\n",
       "            color:  red;\n",
       "        }    #T_de144f74_ed75_11e9_bee2_0c96e6ec4f2frow2_col3 {\n",
       "            color:  green;\n",
       "        }    #T_de144f74_ed75_11e9_bee2_0c96e6ec4f2frow2_col4 {\n",
       "            color:  green;\n",
       "        }    #T_de144f74_ed75_11e9_bee2_0c96e6ec4f2frow2_col5 {\n",
       "            color:  green;\n",
       "        }    #T_de144f74_ed75_11e9_bee2_0c96e6ec4f2frow3_col0 {\n",
       "            color:  green;\n",
       "        }    #T_de144f74_ed75_11e9_bee2_0c96e6ec4f2frow3_col1 {\n",
       "            color:  green;\n",
       "        }    #T_de144f74_ed75_11e9_bee2_0c96e6ec4f2frow3_col2 {\n",
       "            color:  red;\n",
       "        }    #T_de144f74_ed75_11e9_bee2_0c96e6ec4f2frow3_col3 {\n",
       "            color:  red;\n",
       "        }    #T_de144f74_ed75_11e9_bee2_0c96e6ec4f2frow3_col4 {\n",
       "            color:  red;\n",
       "        }    #T_de144f74_ed75_11e9_bee2_0c96e6ec4f2frow3_col5 {\n",
       "            color:  red;\n",
       "        }</style><table id=\"T_de144f74_ed75_11e9_bee2_0c96e6ec4f2f\" ><thead>    <tr>        <th class=\"blank level0\" ></th>        <th class=\"col_heading level0 col0\" >p</th>        <th class=\"col_heading level0 col1\" >q</th>        <th class=\"col_heading level0 col2\" >p => q</th>        <th class=\"col_heading level0 col3\" >q => p</th>        <th class=\"col_heading level0 col4\" >(p => q) and (q => p)</th>        <th class=\"col_heading level0 col5\" >p = q</th>    </tr></thead><tbody>\n",
       "                <tr>\n",
       "                        <th id=\"T_de144f74_ed75_11e9_bee2_0c96e6ec4f2flevel0_row0\" class=\"row_heading level0 row0\" >1</th>\n",
       "                        <td id=\"T_de144f74_ed75_11e9_bee2_0c96e6ec4f2frow0_col0\" class=\"data row0 col0\" >True</td>\n",
       "                        <td id=\"T_de144f74_ed75_11e9_bee2_0c96e6ec4f2frow0_col1\" class=\"data row0 col1\" >True</td>\n",
       "                        <td id=\"T_de144f74_ed75_11e9_bee2_0c96e6ec4f2frow0_col2\" class=\"data row0 col2\" >True</td>\n",
       "                        <td id=\"T_de144f74_ed75_11e9_bee2_0c96e6ec4f2frow0_col3\" class=\"data row0 col3\" >True</td>\n",
       "                        <td id=\"T_de144f74_ed75_11e9_bee2_0c96e6ec4f2frow0_col4\" class=\"data row0 col4\" >True</td>\n",
       "                        <td id=\"T_de144f74_ed75_11e9_bee2_0c96e6ec4f2frow0_col5\" class=\"data row0 col5\" >True</td>\n",
       "            </tr>\n",
       "            <tr>\n",
       "                        <th id=\"T_de144f74_ed75_11e9_bee2_0c96e6ec4f2flevel0_row1\" class=\"row_heading level0 row1\" >2</th>\n",
       "                        <td id=\"T_de144f74_ed75_11e9_bee2_0c96e6ec4f2frow1_col0\" class=\"data row1 col0\" >True</td>\n",
       "                        <td id=\"T_de144f74_ed75_11e9_bee2_0c96e6ec4f2frow1_col1\" class=\"data row1 col1\" >False</td>\n",
       "                        <td id=\"T_de144f74_ed75_11e9_bee2_0c96e6ec4f2frow1_col2\" class=\"data row1 col2\" >False</td>\n",
       "                        <td id=\"T_de144f74_ed75_11e9_bee2_0c96e6ec4f2frow1_col3\" class=\"data row1 col3\" >True</td>\n",
       "                        <td id=\"T_de144f74_ed75_11e9_bee2_0c96e6ec4f2frow1_col4\" class=\"data row1 col4\" >False</td>\n",
       "                        <td id=\"T_de144f74_ed75_11e9_bee2_0c96e6ec4f2frow1_col5\" class=\"data row1 col5\" >False</td>\n",
       "            </tr>\n",
       "            <tr>\n",
       "                        <th id=\"T_de144f74_ed75_11e9_bee2_0c96e6ec4f2flevel0_row2\" class=\"row_heading level0 row2\" >3</th>\n",
       "                        <td id=\"T_de144f74_ed75_11e9_bee2_0c96e6ec4f2frow2_col0\" class=\"data row2 col0\" >False</td>\n",
       "                        <td id=\"T_de144f74_ed75_11e9_bee2_0c96e6ec4f2frow2_col1\" class=\"data row2 col1\" >True</td>\n",
       "                        <td id=\"T_de144f74_ed75_11e9_bee2_0c96e6ec4f2frow2_col2\" class=\"data row2 col2\" >True</td>\n",
       "                        <td id=\"T_de144f74_ed75_11e9_bee2_0c96e6ec4f2frow2_col3\" class=\"data row2 col3\" >False</td>\n",
       "                        <td id=\"T_de144f74_ed75_11e9_bee2_0c96e6ec4f2frow2_col4\" class=\"data row2 col4\" >False</td>\n",
       "                        <td id=\"T_de144f74_ed75_11e9_bee2_0c96e6ec4f2frow2_col5\" class=\"data row2 col5\" >False</td>\n",
       "            </tr>\n",
       "            <tr>\n",
       "                        <th id=\"T_de144f74_ed75_11e9_bee2_0c96e6ec4f2flevel0_row3\" class=\"row_heading level0 row3\" >4</th>\n",
       "                        <td id=\"T_de144f74_ed75_11e9_bee2_0c96e6ec4f2frow3_col0\" class=\"data row3 col0\" >False</td>\n",
       "                        <td id=\"T_de144f74_ed75_11e9_bee2_0c96e6ec4f2frow3_col1\" class=\"data row3 col1\" >False</td>\n",
       "                        <td id=\"T_de144f74_ed75_11e9_bee2_0c96e6ec4f2frow3_col2\" class=\"data row3 col2\" >True</td>\n",
       "                        <td id=\"T_de144f74_ed75_11e9_bee2_0c96e6ec4f2frow3_col3\" class=\"data row3 col3\" >True</td>\n",
       "                        <td id=\"T_de144f74_ed75_11e9_bee2_0c96e6ec4f2frow3_col4\" class=\"data row3 col4\" >True</td>\n",
       "                        <td id=\"T_de144f74_ed75_11e9_bee2_0c96e6ec4f2frow3_col5\" class=\"data row3 col5\" >True</td>\n",
       "            </tr>\n",
       "    </tbody></table>"
      ],
      "text/plain": [
       "<pandas.io.formats.style.Styler at 0x7fc87ad96350>"
      ]
     },
     "execution_count": 11,
     "metadata": {},
     "output_type": "execute_result"
    }
   ],
   "source": [
    "d.asPandas().style.applymap(color_false_red)"
   ]
  },
  {
   "cell_type": "code",
   "execution_count": 12,
   "metadata": {
    "ExecuteTime": {
     "end_time": "2019-10-13T04:56:51.426960Z",
     "start_time": "2019-10-13T04:56:51.423764Z"
    }
   },
   "outputs": [],
   "source": [
    "def df_style(logic, hl_rows=[]):\n",
    "#     d = logic.asPandas().style.applymap(color_false_red)\n",
    "#     d.style.set_properties(**{'text-align': 'center'}).hide_index()\n",
    "    d = logic.asPandas().style.set_table_styles([{'selector': 'th', 'props': [('font-size', '12pt')]}]).set_properties(**{'text-align': 'center', 'font-size': '115%'}).apply(lambda x: ['background: lightyellow' if x.name in hl_rows \n",
    "                              else '' for i in x], axis=1).hide_index()\n",
    "    d = d.applymap(color_false_red)\n",
    "    return d    "
   ]
  },
  {
   "cell_type": "code",
   "execution_count": 13,
   "metadata": {
    "ExecuteTime": {
     "end_time": "2019-10-13T04:56:52.209086Z",
     "start_time": "2019-10-13T04:56:52.159135Z"
    }
   },
   "outputs": [
    {
     "data": {
      "text/html": [
       "<style  type=\"text/css\" >\n",
       "    #T_df228c5a_ed75_11e9_bee2_0c96e6ec4f2f th {\n",
       "          font-size: 12pt;\n",
       "    }    #T_df228c5a_ed75_11e9_bee2_0c96e6ec4f2frow0_col0 {\n",
       "            text-align:  center;\n",
       "            font-size:  115%;\n",
       "            : ;\n",
       "            color:  red;\n",
       "        }    #T_df228c5a_ed75_11e9_bee2_0c96e6ec4f2frow0_col1 {\n",
       "            text-align:  center;\n",
       "            font-size:  115%;\n",
       "            : ;\n",
       "            color:  red;\n",
       "        }    #T_df228c5a_ed75_11e9_bee2_0c96e6ec4f2frow0_col2 {\n",
       "            text-align:  center;\n",
       "            font-size:  115%;\n",
       "            : ;\n",
       "            color:  red;\n",
       "        }    #T_df228c5a_ed75_11e9_bee2_0c96e6ec4f2frow0_col3 {\n",
       "            text-align:  center;\n",
       "            font-size:  115%;\n",
       "            : ;\n",
       "            color:  red;\n",
       "        }    #T_df228c5a_ed75_11e9_bee2_0c96e6ec4f2frow0_col4 {\n",
       "            text-align:  center;\n",
       "            font-size:  115%;\n",
       "            : ;\n",
       "            color:  red;\n",
       "        }    #T_df228c5a_ed75_11e9_bee2_0c96e6ec4f2frow0_col5 {\n",
       "            text-align:  center;\n",
       "            font-size:  115%;\n",
       "            : ;\n",
       "            color:  red;\n",
       "        }    #T_df228c5a_ed75_11e9_bee2_0c96e6ec4f2frow1_col0 {\n",
       "            text-align:  center;\n",
       "            font-size:  115%;\n",
       "            : ;\n",
       "            color:  red;\n",
       "        }    #T_df228c5a_ed75_11e9_bee2_0c96e6ec4f2frow1_col1 {\n",
       "            text-align:  center;\n",
       "            font-size:  115%;\n",
       "            : ;\n",
       "            color:  green;\n",
       "        }    #T_df228c5a_ed75_11e9_bee2_0c96e6ec4f2frow1_col2 {\n",
       "            text-align:  center;\n",
       "            font-size:  115%;\n",
       "            : ;\n",
       "            color:  green;\n",
       "        }    #T_df228c5a_ed75_11e9_bee2_0c96e6ec4f2frow1_col3 {\n",
       "            text-align:  center;\n",
       "            font-size:  115%;\n",
       "            : ;\n",
       "            color:  red;\n",
       "        }    #T_df228c5a_ed75_11e9_bee2_0c96e6ec4f2frow1_col4 {\n",
       "            text-align:  center;\n",
       "            font-size:  115%;\n",
       "            : ;\n",
       "            color:  green;\n",
       "        }    #T_df228c5a_ed75_11e9_bee2_0c96e6ec4f2frow1_col5 {\n",
       "            text-align:  center;\n",
       "            font-size:  115%;\n",
       "            : ;\n",
       "            color:  green;\n",
       "        }    #T_df228c5a_ed75_11e9_bee2_0c96e6ec4f2frow2_col0 {\n",
       "            text-align:  center;\n",
       "            font-size:  115%;\n",
       "            : ;\n",
       "            color:  green;\n",
       "        }    #T_df228c5a_ed75_11e9_bee2_0c96e6ec4f2frow2_col1 {\n",
       "            text-align:  center;\n",
       "            font-size:  115%;\n",
       "            : ;\n",
       "            color:  red;\n",
       "        }    #T_df228c5a_ed75_11e9_bee2_0c96e6ec4f2frow2_col2 {\n",
       "            text-align:  center;\n",
       "            font-size:  115%;\n",
       "            : ;\n",
       "            color:  red;\n",
       "        }    #T_df228c5a_ed75_11e9_bee2_0c96e6ec4f2frow2_col3 {\n",
       "            text-align:  center;\n",
       "            font-size:  115%;\n",
       "            : ;\n",
       "            color:  green;\n",
       "        }    #T_df228c5a_ed75_11e9_bee2_0c96e6ec4f2frow2_col4 {\n",
       "            text-align:  center;\n",
       "            font-size:  115%;\n",
       "            : ;\n",
       "            color:  green;\n",
       "        }    #T_df228c5a_ed75_11e9_bee2_0c96e6ec4f2frow2_col5 {\n",
       "            text-align:  center;\n",
       "            font-size:  115%;\n",
       "            : ;\n",
       "            color:  green;\n",
       "        }    #T_df228c5a_ed75_11e9_bee2_0c96e6ec4f2frow3_col0 {\n",
       "            text-align:  center;\n",
       "            font-size:  115%;\n",
       "            : ;\n",
       "            color:  green;\n",
       "        }    #T_df228c5a_ed75_11e9_bee2_0c96e6ec4f2frow3_col1 {\n",
       "            text-align:  center;\n",
       "            font-size:  115%;\n",
       "            : ;\n",
       "            color:  green;\n",
       "        }    #T_df228c5a_ed75_11e9_bee2_0c96e6ec4f2frow3_col2 {\n",
       "            text-align:  center;\n",
       "            font-size:  115%;\n",
       "            : ;\n",
       "            color:  red;\n",
       "        }    #T_df228c5a_ed75_11e9_bee2_0c96e6ec4f2frow3_col3 {\n",
       "            text-align:  center;\n",
       "            font-size:  115%;\n",
       "            : ;\n",
       "            color:  red;\n",
       "        }    #T_df228c5a_ed75_11e9_bee2_0c96e6ec4f2frow3_col4 {\n",
       "            text-align:  center;\n",
       "            font-size:  115%;\n",
       "            : ;\n",
       "            color:  red;\n",
       "        }    #T_df228c5a_ed75_11e9_bee2_0c96e6ec4f2frow3_col5 {\n",
       "            text-align:  center;\n",
       "            font-size:  115%;\n",
       "            : ;\n",
       "            color:  red;\n",
       "        }</style><table id=\"T_df228c5a_ed75_11e9_bee2_0c96e6ec4f2f\" ><thead>    <tr>        <th class=\"col_heading level0 col0\" >p</th>        <th class=\"col_heading level0 col1\" >q</th>        <th class=\"col_heading level0 col2\" >p => q</th>        <th class=\"col_heading level0 col3\" >q => p</th>        <th class=\"col_heading level0 col4\" >(p => q) and (q => p)</th>        <th class=\"col_heading level0 col5\" >p = q</th>    </tr></thead><tbody>\n",
       "                <tr>\n",
       "                                <td id=\"T_df228c5a_ed75_11e9_bee2_0c96e6ec4f2frow0_col0\" class=\"data row0 col0\" >True</td>\n",
       "                        <td id=\"T_df228c5a_ed75_11e9_bee2_0c96e6ec4f2frow0_col1\" class=\"data row0 col1\" >True</td>\n",
       "                        <td id=\"T_df228c5a_ed75_11e9_bee2_0c96e6ec4f2frow0_col2\" class=\"data row0 col2\" >True</td>\n",
       "                        <td id=\"T_df228c5a_ed75_11e9_bee2_0c96e6ec4f2frow0_col3\" class=\"data row0 col3\" >True</td>\n",
       "                        <td id=\"T_df228c5a_ed75_11e9_bee2_0c96e6ec4f2frow0_col4\" class=\"data row0 col4\" >True</td>\n",
       "                        <td id=\"T_df228c5a_ed75_11e9_bee2_0c96e6ec4f2frow0_col5\" class=\"data row0 col5\" >True</td>\n",
       "            </tr>\n",
       "            <tr>\n",
       "                                <td id=\"T_df228c5a_ed75_11e9_bee2_0c96e6ec4f2frow1_col0\" class=\"data row1 col0\" >True</td>\n",
       "                        <td id=\"T_df228c5a_ed75_11e9_bee2_0c96e6ec4f2frow1_col1\" class=\"data row1 col1\" >False</td>\n",
       "                        <td id=\"T_df228c5a_ed75_11e9_bee2_0c96e6ec4f2frow1_col2\" class=\"data row1 col2\" >False</td>\n",
       "                        <td id=\"T_df228c5a_ed75_11e9_bee2_0c96e6ec4f2frow1_col3\" class=\"data row1 col3\" >True</td>\n",
       "                        <td id=\"T_df228c5a_ed75_11e9_bee2_0c96e6ec4f2frow1_col4\" class=\"data row1 col4\" >False</td>\n",
       "                        <td id=\"T_df228c5a_ed75_11e9_bee2_0c96e6ec4f2frow1_col5\" class=\"data row1 col5\" >False</td>\n",
       "            </tr>\n",
       "            <tr>\n",
       "                                <td id=\"T_df228c5a_ed75_11e9_bee2_0c96e6ec4f2frow2_col0\" class=\"data row2 col0\" >False</td>\n",
       "                        <td id=\"T_df228c5a_ed75_11e9_bee2_0c96e6ec4f2frow2_col1\" class=\"data row2 col1\" >True</td>\n",
       "                        <td id=\"T_df228c5a_ed75_11e9_bee2_0c96e6ec4f2frow2_col2\" class=\"data row2 col2\" >True</td>\n",
       "                        <td id=\"T_df228c5a_ed75_11e9_bee2_0c96e6ec4f2frow2_col3\" class=\"data row2 col3\" >False</td>\n",
       "                        <td id=\"T_df228c5a_ed75_11e9_bee2_0c96e6ec4f2frow2_col4\" class=\"data row2 col4\" >False</td>\n",
       "                        <td id=\"T_df228c5a_ed75_11e9_bee2_0c96e6ec4f2frow2_col5\" class=\"data row2 col5\" >False</td>\n",
       "            </tr>\n",
       "            <tr>\n",
       "                                <td id=\"T_df228c5a_ed75_11e9_bee2_0c96e6ec4f2frow3_col0\" class=\"data row3 col0\" >False</td>\n",
       "                        <td id=\"T_df228c5a_ed75_11e9_bee2_0c96e6ec4f2frow3_col1\" class=\"data row3 col1\" >False</td>\n",
       "                        <td id=\"T_df228c5a_ed75_11e9_bee2_0c96e6ec4f2frow3_col2\" class=\"data row3 col2\" >True</td>\n",
       "                        <td id=\"T_df228c5a_ed75_11e9_bee2_0c96e6ec4f2frow3_col3\" class=\"data row3 col3\" >True</td>\n",
       "                        <td id=\"T_df228c5a_ed75_11e9_bee2_0c96e6ec4f2frow3_col4\" class=\"data row3 col4\" >True</td>\n",
       "                        <td id=\"T_df228c5a_ed75_11e9_bee2_0c96e6ec4f2frow3_col5\" class=\"data row3 col5\" >True</td>\n",
       "            </tr>\n",
       "    </tbody></table>"
      ],
      "text/plain": [
       "<pandas.io.formats.style.Styler at 0x7fc89fac1250>"
      ]
     },
     "execution_count": 13,
     "metadata": {},
     "output_type": "execute_result"
    }
   ],
   "source": [
    "df_style(d)"
   ]
  },
  {
   "cell_type": "code",
   "execution_count": 14,
   "metadata": {
    "ExecuteTime": {
     "end_time": "2019-10-13T04:57:15.163796Z",
     "start_time": "2019-10-13T04:57:15.128288Z"
    }
   },
   "outputs": [
    {
     "data": {
      "text/html": [
       "<style  type=\"text/css\" >\n",
       "    #T_ecd14116_ed75_11e9_bee2_0c96e6ec4f2f th {\n",
       "          font-size: 12pt;\n",
       "    }    #T_ecd14116_ed75_11e9_bee2_0c96e6ec4f2frow0_col0 {\n",
       "            text-align:  center;\n",
       "            font-size:  115%;\n",
       "            : ;\n",
       "            color:  red;\n",
       "        }    #T_ecd14116_ed75_11e9_bee2_0c96e6ec4f2frow0_col1 {\n",
       "            text-align:  center;\n",
       "            font-size:  115%;\n",
       "            : ;\n",
       "            color:  red;\n",
       "        }    #T_ecd14116_ed75_11e9_bee2_0c96e6ec4f2frow0_col2 {\n",
       "            text-align:  center;\n",
       "            font-size:  115%;\n",
       "            : ;\n",
       "            color:  red;\n",
       "        }    #T_ecd14116_ed75_11e9_bee2_0c96e6ec4f2frow0_col3 {\n",
       "            text-align:  center;\n",
       "            font-size:  115%;\n",
       "            : ;\n",
       "            color:  red;\n",
       "        }    #T_ecd14116_ed75_11e9_bee2_0c96e6ec4f2frow0_col4 {\n",
       "            text-align:  center;\n",
       "            font-size:  115%;\n",
       "            : ;\n",
       "            color:  red;\n",
       "        }    #T_ecd14116_ed75_11e9_bee2_0c96e6ec4f2frow0_col5 {\n",
       "            text-align:  center;\n",
       "            font-size:  115%;\n",
       "            : ;\n",
       "            color:  red;\n",
       "        }    #T_ecd14116_ed75_11e9_bee2_0c96e6ec4f2frow1_col0 {\n",
       "            text-align:  center;\n",
       "            font-size:  115%;\n",
       "            background:  lightyellow;\n",
       "            color:  red;\n",
       "        }    #T_ecd14116_ed75_11e9_bee2_0c96e6ec4f2frow1_col1 {\n",
       "            text-align:  center;\n",
       "            font-size:  115%;\n",
       "            background:  lightyellow;\n",
       "            color:  green;\n",
       "        }    #T_ecd14116_ed75_11e9_bee2_0c96e6ec4f2frow1_col2 {\n",
       "            text-align:  center;\n",
       "            font-size:  115%;\n",
       "            background:  lightyellow;\n",
       "            color:  green;\n",
       "        }    #T_ecd14116_ed75_11e9_bee2_0c96e6ec4f2frow1_col3 {\n",
       "            text-align:  center;\n",
       "            font-size:  115%;\n",
       "            background:  lightyellow;\n",
       "            color:  red;\n",
       "        }    #T_ecd14116_ed75_11e9_bee2_0c96e6ec4f2frow1_col4 {\n",
       "            text-align:  center;\n",
       "            font-size:  115%;\n",
       "            background:  lightyellow;\n",
       "            color:  green;\n",
       "        }    #T_ecd14116_ed75_11e9_bee2_0c96e6ec4f2frow1_col5 {\n",
       "            text-align:  center;\n",
       "            font-size:  115%;\n",
       "            background:  lightyellow;\n",
       "            color:  green;\n",
       "        }    #T_ecd14116_ed75_11e9_bee2_0c96e6ec4f2frow2_col0 {\n",
       "            text-align:  center;\n",
       "            font-size:  115%;\n",
       "            : ;\n",
       "            color:  green;\n",
       "        }    #T_ecd14116_ed75_11e9_bee2_0c96e6ec4f2frow2_col1 {\n",
       "            text-align:  center;\n",
       "            font-size:  115%;\n",
       "            : ;\n",
       "            color:  red;\n",
       "        }    #T_ecd14116_ed75_11e9_bee2_0c96e6ec4f2frow2_col2 {\n",
       "            text-align:  center;\n",
       "            font-size:  115%;\n",
       "            : ;\n",
       "            color:  red;\n",
       "        }    #T_ecd14116_ed75_11e9_bee2_0c96e6ec4f2frow2_col3 {\n",
       "            text-align:  center;\n",
       "            font-size:  115%;\n",
       "            : ;\n",
       "            color:  green;\n",
       "        }    #T_ecd14116_ed75_11e9_bee2_0c96e6ec4f2frow2_col4 {\n",
       "            text-align:  center;\n",
       "            font-size:  115%;\n",
       "            : ;\n",
       "            color:  green;\n",
       "        }    #T_ecd14116_ed75_11e9_bee2_0c96e6ec4f2frow2_col5 {\n",
       "            text-align:  center;\n",
       "            font-size:  115%;\n",
       "            : ;\n",
       "            color:  green;\n",
       "        }    #T_ecd14116_ed75_11e9_bee2_0c96e6ec4f2frow3_col0 {\n",
       "            text-align:  center;\n",
       "            font-size:  115%;\n",
       "            : ;\n",
       "            color:  green;\n",
       "        }    #T_ecd14116_ed75_11e9_bee2_0c96e6ec4f2frow3_col1 {\n",
       "            text-align:  center;\n",
       "            font-size:  115%;\n",
       "            : ;\n",
       "            color:  green;\n",
       "        }    #T_ecd14116_ed75_11e9_bee2_0c96e6ec4f2frow3_col2 {\n",
       "            text-align:  center;\n",
       "            font-size:  115%;\n",
       "            : ;\n",
       "            color:  red;\n",
       "        }    #T_ecd14116_ed75_11e9_bee2_0c96e6ec4f2frow3_col3 {\n",
       "            text-align:  center;\n",
       "            font-size:  115%;\n",
       "            : ;\n",
       "            color:  red;\n",
       "        }    #T_ecd14116_ed75_11e9_bee2_0c96e6ec4f2frow3_col4 {\n",
       "            text-align:  center;\n",
       "            font-size:  115%;\n",
       "            : ;\n",
       "            color:  red;\n",
       "        }    #T_ecd14116_ed75_11e9_bee2_0c96e6ec4f2frow3_col5 {\n",
       "            text-align:  center;\n",
       "            font-size:  115%;\n",
       "            : ;\n",
       "            color:  red;\n",
       "        }</style><table id=\"T_ecd14116_ed75_11e9_bee2_0c96e6ec4f2f\" ><thead>    <tr>        <th class=\"col_heading level0 col0\" >p</th>        <th class=\"col_heading level0 col1\" >q</th>        <th class=\"col_heading level0 col2\" >p => q</th>        <th class=\"col_heading level0 col3\" >q => p</th>        <th class=\"col_heading level0 col4\" >(p => q) and (q => p)</th>        <th class=\"col_heading level0 col5\" >p = q</th>    </tr></thead><tbody>\n",
       "                <tr>\n",
       "                                <td id=\"T_ecd14116_ed75_11e9_bee2_0c96e6ec4f2frow0_col0\" class=\"data row0 col0\" >True</td>\n",
       "                        <td id=\"T_ecd14116_ed75_11e9_bee2_0c96e6ec4f2frow0_col1\" class=\"data row0 col1\" >True</td>\n",
       "                        <td id=\"T_ecd14116_ed75_11e9_bee2_0c96e6ec4f2frow0_col2\" class=\"data row0 col2\" >True</td>\n",
       "                        <td id=\"T_ecd14116_ed75_11e9_bee2_0c96e6ec4f2frow0_col3\" class=\"data row0 col3\" >True</td>\n",
       "                        <td id=\"T_ecd14116_ed75_11e9_bee2_0c96e6ec4f2frow0_col4\" class=\"data row0 col4\" >True</td>\n",
       "                        <td id=\"T_ecd14116_ed75_11e9_bee2_0c96e6ec4f2frow0_col5\" class=\"data row0 col5\" >True</td>\n",
       "            </tr>\n",
       "            <tr>\n",
       "                                <td id=\"T_ecd14116_ed75_11e9_bee2_0c96e6ec4f2frow1_col0\" class=\"data row1 col0\" >True</td>\n",
       "                        <td id=\"T_ecd14116_ed75_11e9_bee2_0c96e6ec4f2frow1_col1\" class=\"data row1 col1\" >False</td>\n",
       "                        <td id=\"T_ecd14116_ed75_11e9_bee2_0c96e6ec4f2frow1_col2\" class=\"data row1 col2\" >False</td>\n",
       "                        <td id=\"T_ecd14116_ed75_11e9_bee2_0c96e6ec4f2frow1_col3\" class=\"data row1 col3\" >True</td>\n",
       "                        <td id=\"T_ecd14116_ed75_11e9_bee2_0c96e6ec4f2frow1_col4\" class=\"data row1 col4\" >False</td>\n",
       "                        <td id=\"T_ecd14116_ed75_11e9_bee2_0c96e6ec4f2frow1_col5\" class=\"data row1 col5\" >False</td>\n",
       "            </tr>\n",
       "            <tr>\n",
       "                                <td id=\"T_ecd14116_ed75_11e9_bee2_0c96e6ec4f2frow2_col0\" class=\"data row2 col0\" >False</td>\n",
       "                        <td id=\"T_ecd14116_ed75_11e9_bee2_0c96e6ec4f2frow2_col1\" class=\"data row2 col1\" >True</td>\n",
       "                        <td id=\"T_ecd14116_ed75_11e9_bee2_0c96e6ec4f2frow2_col2\" class=\"data row2 col2\" >True</td>\n",
       "                        <td id=\"T_ecd14116_ed75_11e9_bee2_0c96e6ec4f2frow2_col3\" class=\"data row2 col3\" >False</td>\n",
       "                        <td id=\"T_ecd14116_ed75_11e9_bee2_0c96e6ec4f2frow2_col4\" class=\"data row2 col4\" >False</td>\n",
       "                        <td id=\"T_ecd14116_ed75_11e9_bee2_0c96e6ec4f2frow2_col5\" class=\"data row2 col5\" >False</td>\n",
       "            </tr>\n",
       "            <tr>\n",
       "                                <td id=\"T_ecd14116_ed75_11e9_bee2_0c96e6ec4f2frow3_col0\" class=\"data row3 col0\" >False</td>\n",
       "                        <td id=\"T_ecd14116_ed75_11e9_bee2_0c96e6ec4f2frow3_col1\" class=\"data row3 col1\" >False</td>\n",
       "                        <td id=\"T_ecd14116_ed75_11e9_bee2_0c96e6ec4f2frow3_col2\" class=\"data row3 col2\" >True</td>\n",
       "                        <td id=\"T_ecd14116_ed75_11e9_bee2_0c96e6ec4f2frow3_col3\" class=\"data row3 col3\" >True</td>\n",
       "                        <td id=\"T_ecd14116_ed75_11e9_bee2_0c96e6ec4f2frow3_col4\" class=\"data row3 col4\" >True</td>\n",
       "                        <td id=\"T_ecd14116_ed75_11e9_bee2_0c96e6ec4f2frow3_col5\" class=\"data row3 col5\" >True</td>\n",
       "            </tr>\n",
       "    </tbody></table>"
      ],
      "text/plain": [
       "<pandas.io.formats.style.Styler at 0x7fc89fad0e90>"
      ]
     },
     "execution_count": 14,
     "metadata": {},
     "output_type": "execute_result"
    }
   ],
   "source": [
    "df_style(d, hl_rows=[2])"
   ]
  },
  {
   "cell_type": "code",
   "execution_count": 15,
   "metadata": {
    "ExecuteTime": {
     "end_time": "2019-10-13T04:57:16.863145Z",
     "start_time": "2019-10-13T04:57:16.849144Z"
    }
   },
   "outputs": [
    {
     "data": {
      "text/plain": [
       "p                        False\n",
       "q                        False\n",
       "p => q                   False\n",
       "q => p                   False\n",
       "(p => q) and (q => p)    False\n",
       "p = q                    False\n",
       "dtype: bool"
      ]
     },
     "execution_count": 15,
     "metadata": {},
     "output_type": "execute_result"
    }
   ],
   "source": [
    "d.asPandas().all()"
   ]
  },
  {
   "cell_type": "code",
   "execution_count": 16,
   "metadata": {
    "ExecuteTime": {
     "end_time": "2019-10-13T04:57:17.527121Z",
     "start_time": "2019-10-13T04:57:17.512307Z"
    }
   },
   "outputs": [
    {
     "data": {
      "text/plain": [
       "False"
      ]
     },
     "execution_count": 16,
     "metadata": {},
     "output_type": "execute_result"
    }
   ],
   "source": [
    "d.asPandas().iloc[:,-1].all()"
   ]
  },
  {
   "cell_type": "code",
   "execution_count": 17,
   "metadata": {
    "ExecuteTime": {
     "end_time": "2019-10-13T04:57:21.742761Z",
     "start_time": "2019-10-13T04:57:21.728479Z"
    }
   },
   "outputs": [
    {
     "data": {
      "text/plain": [
       "True"
      ]
     },
     "execution_count": 17,
     "metadata": {},
     "output_type": "execute_result"
    }
   ],
   "source": [
    "not d.asPandas().iloc[:,-1].all()"
   ]
  },
  {
   "cell_type": "code",
   "execution_count": 18,
   "metadata": {
    "ExecuteTime": {
     "end_time": "2019-10-13T04:57:23.734702Z",
     "start_time": "2019-10-13T04:57:23.713688Z"
    }
   },
   "outputs": [
    {
     "data": {
      "text/plain": [
       "2"
      ]
     },
     "execution_count": 18,
     "metadata": {},
     "output_type": "execute_result"
    }
   ],
   "source": [
    "sum(d.asPandas().iloc[:,-1])"
   ]
  },
  {
   "cell_type": "code",
   "execution_count": 19,
   "metadata": {
    "ExecuteTime": {
     "end_time": "2019-10-13T04:57:25.846811Z",
     "start_time": "2019-10-13T04:57:25.833177Z"
    }
   },
   "outputs": [
    {
     "data": {
      "text/plain": [
       "'Contingency'"
      ]
     },
     "execution_count": 19,
     "metadata": {},
     "output_type": "execute_result"
    }
   ],
   "source": [
    "d.valuation()"
   ]
  },
  {
   "cell_type": "code",
   "execution_count": 20,
   "metadata": {
    "ExecuteTime": {
     "end_time": "2019-10-13T04:57:28.748052Z",
     "start_time": "2019-10-13T04:57:28.745663Z"
    }
   },
   "outputs": [],
   "source": [
    "taut = truths.Truths(['p', 'q'], ['(p and q) => (p or q)'])"
   ]
  },
  {
   "cell_type": "code",
   "execution_count": 21,
   "metadata": {
    "ExecuteTime": {
     "end_time": "2019-10-13T04:57:29.411329Z",
     "start_time": "2019-10-13T04:57:29.408994Z"
    }
   },
   "outputs": [],
   "source": [
    "cont = truths.Truths(['p', 'q', 'r'], ['((p and ~q) or ~r) and ((~p or q) and r)'])"
   ]
  },
  {
   "cell_type": "code",
   "execution_count": 22,
   "metadata": {
    "ExecuteTime": {
     "end_time": "2019-10-13T04:57:30.176011Z",
     "start_time": "2019-10-13T04:57:30.161503Z"
    }
   },
   "outputs": [
    {
     "data": {
      "text/html": [
       "<div>\n",
       "<style scoped>\n",
       "    .dataframe tbody tr th:only-of-type {\n",
       "        vertical-align: middle;\n",
       "    }\n",
       "\n",
       "    .dataframe tbody tr th {\n",
       "        vertical-align: top;\n",
       "    }\n",
       "\n",
       "    .dataframe thead th {\n",
       "        text-align: right;\n",
       "    }\n",
       "</style>\n",
       "<table border=\"1\" class=\"dataframe\">\n",
       "  <thead>\n",
       "    <tr style=\"text-align: right;\">\n",
       "      <th></th>\n",
       "      <th>p</th>\n",
       "      <th>q</th>\n",
       "      <th>(p and q) =&gt; (p or q)</th>\n",
       "    </tr>\n",
       "  </thead>\n",
       "  <tbody>\n",
       "    <tr>\n",
       "      <td>1</td>\n",
       "      <td>1</td>\n",
       "      <td>1</td>\n",
       "      <td>1</td>\n",
       "    </tr>\n",
       "    <tr>\n",
       "      <td>2</td>\n",
       "      <td>1</td>\n",
       "      <td>0</td>\n",
       "      <td>1</td>\n",
       "    </tr>\n",
       "    <tr>\n",
       "      <td>3</td>\n",
       "      <td>0</td>\n",
       "      <td>1</td>\n",
       "      <td>1</td>\n",
       "    </tr>\n",
       "    <tr>\n",
       "      <td>4</td>\n",
       "      <td>0</td>\n",
       "      <td>0</td>\n",
       "      <td>1</td>\n",
       "    </tr>\n",
       "  </tbody>\n",
       "</table>\n",
       "</div>"
      ],
      "text/plain": [
       "   p  q (p and q) => (p or q)\n",
       "1  1  1                     1\n",
       "2  1  0                     1\n",
       "3  0  1                     1\n",
       "4  0  0                     1"
      ]
     },
     "execution_count": 22,
     "metadata": {},
     "output_type": "execute_result"
    }
   ],
   "source": [
    "taut.asPandas()"
   ]
  },
  {
   "cell_type": "code",
   "execution_count": 23,
   "metadata": {
    "ExecuteTime": {
     "end_time": "2019-10-13T04:57:30.900702Z",
     "start_time": "2019-10-13T04:57:30.889044Z"
    }
   },
   "outputs": [
    {
     "data": {
      "text/plain": [
       "'Tautology'"
      ]
     },
     "execution_count": 23,
     "metadata": {},
     "output_type": "execute_result"
    }
   ],
   "source": [
    "taut.valuation()"
   ]
  },
  {
   "cell_type": "code",
   "execution_count": 24,
   "metadata": {
    "ExecuteTime": {
     "end_time": "2019-10-13T04:57:33.339758Z",
     "start_time": "2019-10-13T04:57:33.313715Z"
    }
   },
   "outputs": [
    {
     "data": {
      "text/html": [
       "<div>\n",
       "<style scoped>\n",
       "    .dataframe tbody tr th:only-of-type {\n",
       "        vertical-align: middle;\n",
       "    }\n",
       "\n",
       "    .dataframe tbody tr th {\n",
       "        vertical-align: top;\n",
       "    }\n",
       "\n",
       "    .dataframe thead th {\n",
       "        text-align: right;\n",
       "    }\n",
       "</style>\n",
       "<table border=\"1\" class=\"dataframe\">\n",
       "  <thead>\n",
       "    <tr style=\"text-align: right;\">\n",
       "      <th></th>\n",
       "      <th>p</th>\n",
       "      <th>q</th>\n",
       "      <th>r</th>\n",
       "      <th>((p and ~q) or ~r) and ((~p or q) and r)</th>\n",
       "    </tr>\n",
       "  </thead>\n",
       "  <tbody>\n",
       "    <tr>\n",
       "      <td>1</td>\n",
       "      <td>1</td>\n",
       "      <td>1</td>\n",
       "      <td>1</td>\n",
       "      <td>0</td>\n",
       "    </tr>\n",
       "    <tr>\n",
       "      <td>2</td>\n",
       "      <td>1</td>\n",
       "      <td>1</td>\n",
       "      <td>0</td>\n",
       "      <td>0</td>\n",
       "    </tr>\n",
       "    <tr>\n",
       "      <td>3</td>\n",
       "      <td>1</td>\n",
       "      <td>0</td>\n",
       "      <td>1</td>\n",
       "      <td>0</td>\n",
       "    </tr>\n",
       "    <tr>\n",
       "      <td>4</td>\n",
       "      <td>1</td>\n",
       "      <td>0</td>\n",
       "      <td>0</td>\n",
       "      <td>0</td>\n",
       "    </tr>\n",
       "    <tr>\n",
       "      <td>5</td>\n",
       "      <td>0</td>\n",
       "      <td>1</td>\n",
       "      <td>1</td>\n",
       "      <td>0</td>\n",
       "    </tr>\n",
       "    <tr>\n",
       "      <td>6</td>\n",
       "      <td>0</td>\n",
       "      <td>1</td>\n",
       "      <td>0</td>\n",
       "      <td>0</td>\n",
       "    </tr>\n",
       "    <tr>\n",
       "      <td>7</td>\n",
       "      <td>0</td>\n",
       "      <td>0</td>\n",
       "      <td>1</td>\n",
       "      <td>0</td>\n",
       "    </tr>\n",
       "    <tr>\n",
       "      <td>8</td>\n",
       "      <td>0</td>\n",
       "      <td>0</td>\n",
       "      <td>0</td>\n",
       "      <td>0</td>\n",
       "    </tr>\n",
       "  </tbody>\n",
       "</table>\n",
       "</div>"
      ],
      "text/plain": [
       "   p  q  r ((p and ~q) or ~r) and ((~p or q) and r)\n",
       "1  1  1  1                                        0\n",
       "2  1  1  0                                        0\n",
       "3  1  0  1                                        0\n",
       "4  1  0  0                                        0\n",
       "5  0  1  1                                        0\n",
       "6  0  1  0                                        0\n",
       "7  0  0  1                                        0\n",
       "8  0  0  0                                        0"
      ]
     },
     "execution_count": 24,
     "metadata": {},
     "output_type": "execute_result"
    }
   ],
   "source": [
    "cont.asPandas()"
   ]
  },
  {
   "cell_type": "code",
   "execution_count": 25,
   "metadata": {
    "ExecuteTime": {
     "end_time": "2019-10-13T04:57:34.558898Z",
     "start_time": "2019-10-13T04:57:34.537373Z"
    }
   },
   "outputs": [
    {
     "data": {
      "text/plain": [
       "'Contradiction'"
      ]
     },
     "execution_count": 25,
     "metadata": {},
     "output_type": "execute_result"
    }
   ],
   "source": [
    "cont.valuation()"
   ]
  },
  {
   "cell_type": "code",
   "execution_count": null,
   "metadata": {},
   "outputs": [],
   "source": []
  }
 ],
 "metadata": {
  "hide_input": false,
  "kernelspec": {
   "display_name": "Python [conda env:truths]",
   "language": "python",
   "name": "conda-env-truths-py"
  },
  "language_info": {
   "codemirror_mode": {
    "name": "ipython",
    "version": 3
   },
   "file_extension": ".py",
   "mimetype": "text/x-python",
   "name": "python",
   "nbconvert_exporter": "python",
   "pygments_lexer": "ipython3",
   "version": "3.7.4"
  },
  "toc": {
   "base_numbering": 1,
   "nav_menu": {},
   "number_sections": true,
   "sideBar": true,
   "skip_h1_title": false,
   "title_cell": "Table of Contents",
   "title_sidebar": "Contents",
   "toc_cell": false,
   "toc_position": {},
   "toc_section_display": true,
   "toc_window_display": false
  },
  "varInspector": {
   "cols": {
    "lenName": 16,
    "lenType": 16,
    "lenVar": 40
   },
   "kernels_config": {
    "python": {
     "delete_cmd_postfix": "",
     "delete_cmd_prefix": "del ",
     "library": "var_list.py",
     "varRefreshCmd": "print(var_dic_list())"
    },
    "r": {
     "delete_cmd_postfix": ") ",
     "delete_cmd_prefix": "rm(",
     "library": "var_list.r",
     "varRefreshCmd": "cat(var_dic_list()) "
    }
   },
   "types_to_exclude": [
    "module",
    "function",
    "builtin_function_or_method",
    "instance",
    "_Feature"
   ],
   "window_display": false
  }
 },
 "nbformat": 4,
 "nbformat_minor": 2
}
