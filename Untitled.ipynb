{
 "cells": [
  {
   "cell_type": "code",
   "execution_count": 1,
   "metadata": {
    "ExecuteTime": {
     "end_time": "2019-10-13T02:22:55.513423Z",
     "start_time": "2019-10-13T02:22:55.350338Z"
    }
   },
   "outputs": [],
   "source": [
    "import truths"
   ]
  },
  {
   "cell_type": "code",
   "execution_count": 2,
   "metadata": {
    "ExecuteTime": {
     "end_time": "2019-10-13T02:22:56.431737Z",
     "start_time": "2019-10-13T02:22:56.408934Z"
    }
   },
   "outputs": [
    {
     "name": "stdout",
     "output_type": "stream",
     "text": [
      "+-----+-----+-----+\n",
      "|  a  |  b  |  x  |\n",
      "|-----+-----+-----|\n",
      "|  1  |  1  |  1  |\n",
      "|  1  |  1  |  0  |\n",
      "|  1  |  0  |  1  |\n",
      "|  1  |  0  |  0  |\n",
      "|  0  |  1  |  1  |\n",
      "|  0  |  1  |  0  |\n",
      "|  0  |  0  |  1  |\n",
      "|  0  |  0  |  0  |\n",
      "+-----+-----+-----+\n"
     ]
    }
   ],
   "source": [
    "print(truths.Truths(['a', 'b', 'x']))"
   ]
  },
  {
   "cell_type": "code",
   "execution_count": 3,
   "metadata": {
    "ExecuteTime": {
     "end_time": "2019-10-13T02:23:08.422687Z",
     "start_time": "2019-10-13T02:23:08.403908Z"
    }
   },
   "outputs": [
    {
     "name": "stdout",
     "output_type": "stream",
     "text": [
      "+-----+-----+----------+---------------+\n",
      "|  a  |  b  |  a => b  |  a implies b  |\n",
      "|-----+-----+----------+---------------|\n",
      "|  1  |  1  |    1     |       1       |\n",
      "|  1  |  0  |    0     |       0       |\n",
      "|  0  |  1  |    1     |       1       |\n",
      "|  0  |  0  |    1     |       1       |\n",
      "+-----+-----+----------+---------------+\n"
     ]
    }
   ],
   "source": [
    "print(truths.Truths(['a', 'b'], ['a => b', 'a implies b']))"
   ]
  },
  {
   "cell_type": "code",
   "execution_count": 4,
   "metadata": {
    "ExecuteTime": {
     "end_time": "2019-10-13T02:23:16.297340Z",
     "start_time": "2019-10-13T02:23:16.278164Z"
    }
   },
   "outputs": [
    {
     "name": "stdout",
     "output_type": "stream",
     "text": [
      "+-----+-----+-------------------+\n",
      "|  p  |  q  |  (p and ~q) => q  |\n",
      "|-----+-----+-------------------|\n",
      "|  1  |  1  |         1         |\n",
      "|  1  |  0  |         1         |\n",
      "|  0  |  1  |         1         |\n",
      "|  0  |  0  |         1         |\n",
      "+-----+-----+-------------------+\n"
     ]
    }
   ],
   "source": [
    "print(truths.Truths(['p', 'q'], ['(p and ~q) => q']))"
   ]
  },
  {
   "cell_type": "code",
   "execution_count": 5,
   "metadata": {
    "ExecuteTime": {
     "end_time": "2019-10-13T02:23:17.675005Z",
     "start_time": "2019-10-13T02:23:17.654700Z"
    }
   },
   "outputs": [
    {
     "name": "stdout",
     "output_type": "stream",
     "text": [
      "+-----+-----+---------------------+\n",
      "|  p  |  q  |  (p and (~q)) => q  |\n",
      "|-----+-----+---------------------|\n",
      "|  1  |  1  |          1          |\n",
      "|  1  |  0  |          0          |\n",
      "|  0  |  1  |          1          |\n",
      "|  0  |  0  |          1          |\n",
      "+-----+-----+---------------------+\n"
     ]
    }
   ],
   "source": [
    "print(truths.Truths(['p', 'q'], ['(p and (~q)) => q']))"
   ]
  },
  {
   "cell_type": "code",
   "execution_count": 6,
   "metadata": {
    "ExecuteTime": {
     "end_time": "2019-10-13T02:23:23.287576Z",
     "start_time": "2019-10-13T02:23:23.229888Z"
    }
   },
   "outputs": [
    {
     "ename": "KeyError",
     "evalue": "True",
     "output_type": "error",
     "traceback": [
      "\u001b[0;31m---------------------------------------------------------------------------\u001b[0m",
      "\u001b[0;31mKeyError\u001b[0m                                  Traceback (most recent call last)",
      "\u001b[0;32m<ipython-input-6-29be606f2819>\u001b[0m in \u001b[0;36m<module>\u001b[0;34m\u001b[0m\n\u001b[0;32m----> 1\u001b[0;31m \u001b[0mprint\u001b[0m\u001b[0;34m(\u001b[0m\u001b[0mtruths\u001b[0m\u001b[0;34m.\u001b[0m\u001b[0mTruths\u001b[0m\u001b[0;34m(\u001b[0m\u001b[0;34m[\u001b[0m\u001b[0;34m'p'\u001b[0m\u001b[0;34m,\u001b[0m \u001b[0;34m'q'\u001b[0m\u001b[0;34m]\u001b[0m\u001b[0;34m,\u001b[0m \u001b[0;34m[\u001b[0m\u001b[0;34m'(~q and p) => q'\u001b[0m\u001b[0;34m]\u001b[0m\u001b[0;34m)\u001b[0m\u001b[0;34m)\u001b[0m\u001b[0;34m\u001b[0m\u001b[0;34m\u001b[0m\u001b[0m\n\u001b[0m",
      "\u001b[0;32m~/Dropbox/technology/python/projects/forks/truth-table-generator/truths/truths.py\u001b[0m in \u001b[0;36m__str__\u001b[0;34m(self)\u001b[0m\n\u001b[1;32m    189\u001b[0m \u001b[0;34m\u001b[0m\u001b[0m\n\u001b[1;32m    190\u001b[0m     \u001b[0;32mdef\u001b[0m \u001b[0m__str__\u001b[0m\u001b[0;34m(\u001b[0m\u001b[0mself\u001b[0m\u001b[0;34m)\u001b[0m\u001b[0;34m:\u001b[0m\u001b[0;34m\u001b[0m\u001b[0;34m\u001b[0m\u001b[0m\n\u001b[0;32m--> 191\u001b[0;31m         \u001b[0mt\u001b[0m \u001b[0;34m=\u001b[0m \u001b[0mTruths\u001b[0m\u001b[0;34m.\u001b[0m\u001b[0masTabulate\u001b[0m\u001b[0;34m(\u001b[0m\u001b[0mself\u001b[0m\u001b[0;34m,\u001b[0m \u001b[0mindex\u001b[0m\u001b[0;34m=\u001b[0m\u001b[0;32mFalse\u001b[0m\u001b[0;34m)\u001b[0m\u001b[0;34m\u001b[0m\u001b[0;34m\u001b[0m\u001b[0m\n\u001b[0m\u001b[1;32m    192\u001b[0m         \u001b[0;32mreturn\u001b[0m \u001b[0mstr\u001b[0m\u001b[0;34m(\u001b[0m\u001b[0mt\u001b[0m\u001b[0;34m)\u001b[0m\u001b[0;34m\u001b[0m\u001b[0;34m\u001b[0m\u001b[0m\n",
      "\u001b[0;32m~/Dropbox/technology/python/projects/forks/truth-table-generator/truths/truths.py\u001b[0m in \u001b[0;36masTabulate\u001b[0;34m(self, index, table_format, align)\u001b[0m\n\u001b[1;32m    180\u001b[0m \u001b[0;34m\u001b[0m\u001b[0m\n\u001b[1;32m    181\u001b[0m     \u001b[0;32mdef\u001b[0m \u001b[0masTabulate\u001b[0m\u001b[0;34m(\u001b[0m\u001b[0mself\u001b[0m\u001b[0;34m,\u001b[0m \u001b[0mindex\u001b[0m\u001b[0;34m=\u001b[0m\u001b[0;32mTrue\u001b[0m\u001b[0;34m,\u001b[0m \u001b[0mtable_format\u001b[0m\u001b[0;34m=\u001b[0m\u001b[0;34m'psql'\u001b[0m\u001b[0;34m,\u001b[0m \u001b[0malign\u001b[0m\u001b[0;34m=\u001b[0m\u001b[0;34m'center'\u001b[0m\u001b[0;34m)\u001b[0m\u001b[0;34m:\u001b[0m\u001b[0;34m\u001b[0m\u001b[0;34m\u001b[0m\u001b[0m\n\u001b[0;32m--> 182\u001b[0;31m         t = tabulate(Truths.asPandas(self),\n\u001b[0m\u001b[1;32m    183\u001b[0m                      \u001b[0mheaders\u001b[0m\u001b[0;34m=\u001b[0m\u001b[0;34m'keys'\u001b[0m\u001b[0;34m,\u001b[0m\u001b[0;34m\u001b[0m\u001b[0;34m\u001b[0m\u001b[0m\n\u001b[1;32m    184\u001b[0m                      \u001b[0mtablefmt\u001b[0m\u001b[0;34m=\u001b[0m\u001b[0mtable_format\u001b[0m\u001b[0;34m,\u001b[0m\u001b[0;34m\u001b[0m\u001b[0;34m\u001b[0m\u001b[0m\n",
      "\u001b[0;32m~/Dropbox/technology/python/projects/forks/truth-table-generator/truths/truths.py\u001b[0m in \u001b[0;36masPandas\u001b[0;34m(self)\u001b[0m\n\u001b[1;32m    175\u001b[0m         \u001b[0mdf\u001b[0m \u001b[0;34m=\u001b[0m \u001b[0mpd\u001b[0m\u001b[0;34m.\u001b[0m\u001b[0mDataFrame\u001b[0m\u001b[0;34m(\u001b[0m\u001b[0mcolumns\u001b[0m\u001b[0;34m=\u001b[0m\u001b[0mdf_columns\u001b[0m\u001b[0;34m)\u001b[0m\u001b[0;34m\u001b[0m\u001b[0;34m\u001b[0m\u001b[0m\n\u001b[1;32m    176\u001b[0m         \u001b[0;32mfor\u001b[0m \u001b[0mconditions_set\u001b[0m \u001b[0;32min\u001b[0m \u001b[0mself\u001b[0m\u001b[0;34m.\u001b[0m\u001b[0mbase_conditions\u001b[0m\u001b[0;34m:\u001b[0m\u001b[0;34m\u001b[0m\u001b[0;34m\u001b[0m\u001b[0m\n\u001b[0;32m--> 177\u001b[0;31m             \u001b[0mdf\u001b[0m\u001b[0;34m.\u001b[0m\u001b[0mloc\u001b[0m\u001b[0;34m[\u001b[0m\u001b[0mlen\u001b[0m\u001b[0;34m(\u001b[0m\u001b[0mdf\u001b[0m\u001b[0;34m)\u001b[0m\u001b[0;34m]\u001b[0m \u001b[0;34m=\u001b[0m \u001b[0mself\u001b[0m\u001b[0;34m.\u001b[0m\u001b[0mcalculate\u001b[0m\u001b[0;34m(\u001b[0m\u001b[0;34m*\u001b[0m\u001b[0mconditions_set\u001b[0m\u001b[0;34m)\u001b[0m\u001b[0;34m\u001b[0m\u001b[0;34m\u001b[0m\u001b[0m\n\u001b[0m\u001b[1;32m    178\u001b[0m         \u001b[0mdf\u001b[0m\u001b[0;34m.\u001b[0m\u001b[0mindex\u001b[0m \u001b[0;34m=\u001b[0m \u001b[0mnp\u001b[0m\u001b[0;34m.\u001b[0m\u001b[0marange\u001b[0m\u001b[0;34m(\u001b[0m\u001b[0;36m1\u001b[0m\u001b[0;34m,\u001b[0m \u001b[0mlen\u001b[0m\u001b[0;34m(\u001b[0m\u001b[0mdf\u001b[0m\u001b[0;34m)\u001b[0m \u001b[0;34m+\u001b[0m \u001b[0;36m1\u001b[0m\u001b[0;34m)\u001b[0m  \u001b[0;31m# index starting in one\u001b[0m\u001b[0;34m\u001b[0m\u001b[0;34m\u001b[0m\u001b[0m\n\u001b[1;32m    179\u001b[0m         \u001b[0;32mreturn\u001b[0m \u001b[0mdf\u001b[0m\u001b[0;34m\u001b[0m\u001b[0;34m\u001b[0m\u001b[0m\n",
      "\u001b[0;32m~/Dropbox/technology/python/projects/forks/truth-table-generator/truths/truths.py\u001b[0m in \u001b[0;36mcalculate\u001b[0;34m(self, *args)\u001b[0m\n\u001b[1;32m    156\u001b[0m             \u001b[0minterpreted\u001b[0m \u001b[0;34m=\u001b[0m \u001b[0mgroup_operations\u001b[0m\u001b[0;34m(\u001b[0m\u001b[0minterpreted\u001b[0m\u001b[0;34m)\u001b[0m\u001b[0;34m\u001b[0m\u001b[0;34m\u001b[0m\u001b[0m\n\u001b[1;32m    157\u001b[0m             \u001b[0;31m# evaluate the phrase\u001b[0m\u001b[0;34m\u001b[0m\u001b[0;34m\u001b[0m\u001b[0;34m\u001b[0m\u001b[0m\n\u001b[0;32m--> 158\u001b[0;31m             \u001b[0meval_phrases\u001b[0m\u001b[0;34m.\u001b[0m\u001b[0mappend\u001b[0m\u001b[0;34m(\u001b[0m\u001b[0msolve_phrase\u001b[0m\u001b[0;34m(\u001b[0m\u001b[0minterpreted\u001b[0m\u001b[0;34m)\u001b[0m\u001b[0;34m)\u001b[0m\u001b[0;34m\u001b[0m\u001b[0;34m\u001b[0m\u001b[0m\n\u001b[0m\u001b[1;32m    159\u001b[0m \u001b[0;34m\u001b[0m\u001b[0m\n\u001b[1;32m    160\u001b[0m         \u001b[0;31m# add the bases and evaluated phrases to create a single row\u001b[0m\u001b[0;34m\u001b[0m\u001b[0;34m\u001b[0m\u001b[0;34m\u001b[0m\u001b[0m\n",
      "\u001b[0;32m~/Dropbox/technology/python/projects/forks/truth-table-generator/truths/truths.py\u001b[0m in \u001b[0;36msolve_phrase\u001b[0;34m(p)\u001b[0m\n\u001b[1;32m     80\u001b[0m         \u001b[0;31m# double operand operation\u001b[0m\u001b[0;34m\u001b[0m\u001b[0;34m\u001b[0m\u001b[0;34m\u001b[0m\u001b[0m\n\u001b[1;32m     81\u001b[0m         \u001b[0;32melse\u001b[0m\u001b[0;34m:\u001b[0m\u001b[0;34m\u001b[0m\u001b[0;34m\u001b[0m\u001b[0m\n\u001b[0;32m---> 82\u001b[0;31m             \u001b[0;32mreturn\u001b[0m \u001b[0moperations\u001b[0m\u001b[0;34m[\u001b[0m\u001b[0mp\u001b[0m\u001b[0;34m[\u001b[0m\u001b[0;36m1\u001b[0m\u001b[0;34m]\u001b[0m\u001b[0;34m]\u001b[0m\u001b[0;34m(\u001b[0m\u001b[0msolve_phrase\u001b[0m\u001b[0;34m(\u001b[0m\u001b[0mp\u001b[0m\u001b[0;34m[\u001b[0m\u001b[0;36m0\u001b[0m\u001b[0;34m]\u001b[0m\u001b[0;34m)\u001b[0m\u001b[0;34m,\u001b[0m \u001b[0msolve_phrase\u001b[0m\u001b[0;34m(\u001b[0m\u001b[0;34m[\u001b[0m\u001b[0mp\u001b[0m\u001b[0;34m[\u001b[0m\u001b[0;36m2\u001b[0m\u001b[0;34m]\u001b[0m\u001b[0;34m]\u001b[0m\u001b[0;34m)\u001b[0m\u001b[0;34m)\u001b[0m\u001b[0;34m\u001b[0m\u001b[0;34m\u001b[0m\u001b[0m\n\u001b[0m\u001b[1;32m     83\u001b[0m \u001b[0;34m\u001b[0m\u001b[0m\n\u001b[1;32m     84\u001b[0m \u001b[0;34m\u001b[0m\u001b[0m\n",
      "\u001b[0;32m~/Dropbox/technology/python/projects/forks/truth-table-generator/truths/truths.py\u001b[0m in \u001b[0;36msolve_phrase\u001b[0;34m(p)\u001b[0m\n\u001b[1;32m     80\u001b[0m         \u001b[0;31m# double operand operation\u001b[0m\u001b[0;34m\u001b[0m\u001b[0;34m\u001b[0m\u001b[0;34m\u001b[0m\u001b[0m\n\u001b[1;32m     81\u001b[0m         \u001b[0;32melse\u001b[0m\u001b[0;34m:\u001b[0m\u001b[0;34m\u001b[0m\u001b[0;34m\u001b[0m\u001b[0m\n\u001b[0;32m---> 82\u001b[0;31m             \u001b[0;32mreturn\u001b[0m \u001b[0moperations\u001b[0m\u001b[0;34m[\u001b[0m\u001b[0mp\u001b[0m\u001b[0;34m[\u001b[0m\u001b[0;36m1\u001b[0m\u001b[0;34m]\u001b[0m\u001b[0;34m]\u001b[0m\u001b[0;34m(\u001b[0m\u001b[0msolve_phrase\u001b[0m\u001b[0;34m(\u001b[0m\u001b[0mp\u001b[0m\u001b[0;34m[\u001b[0m\u001b[0;36m0\u001b[0m\u001b[0;34m]\u001b[0m\u001b[0;34m)\u001b[0m\u001b[0;34m,\u001b[0m \u001b[0msolve_phrase\u001b[0m\u001b[0;34m(\u001b[0m\u001b[0;34m[\u001b[0m\u001b[0mp\u001b[0m\u001b[0;34m[\u001b[0m\u001b[0;36m2\u001b[0m\u001b[0;34m]\u001b[0m\u001b[0;34m]\u001b[0m\u001b[0;34m)\u001b[0m\u001b[0;34m)\u001b[0m\u001b[0;34m\u001b[0m\u001b[0;34m\u001b[0m\u001b[0m\n\u001b[0m\u001b[1;32m     83\u001b[0m \u001b[0;34m\u001b[0m\u001b[0m\n\u001b[1;32m     84\u001b[0m \u001b[0;34m\u001b[0m\u001b[0m\n",
      "\u001b[0;31mKeyError\u001b[0m: True"
     ]
    }
   ],
   "source": [
    "print(truths.Truths(['p', 'q'], ['(~q and p) => q']))"
   ]
  },
  {
   "cell_type": "code",
   "execution_count": 7,
   "metadata": {
    "ExecuteTime": {
     "end_time": "2019-10-13T02:23:34.861825Z",
     "start_time": "2019-10-13T02:23:34.829896Z"
    }
   },
   "outputs": [
    {
     "name": "stdout",
     "output_type": "stream",
     "text": [
      "+-----+-----+------------------+-----------------+-------------------------+-------------------------------+\n",
      "|  p  |  q  |  (p and q) => p  |  p => (p or q)  |  (p and (p => q)) => q  |  ((p => q) and (~q)) => (~p)  |\n",
      "|-----+-----+------------------+-----------------+-------------------------+-------------------------------|\n",
      "|  1  |  1  |        1         |        1        |            1            |               1               |\n",
      "|  1  |  0  |        1         |        1        |            1            |               1               |\n",
      "|  0  |  1  |        1         |        1        |            1            |               1               |\n",
      "|  0  |  0  |        1         |        1        |            1            |               1               |\n",
      "+-----+-----+------------------+-----------------+-------------------------+-------------------------------+\n"
     ]
    }
   ],
   "source": [
    "print(truths.Truths(['p', 'q'], ['(p and q) => p', 'p => (p or q)',\n",
    "                                 '(p and (p => q)) => q',\n",
    "                                '((p => q) and (~q)) => (~p)']))"
   ]
  },
  {
   "cell_type": "code",
   "execution_count": 8,
   "metadata": {
    "ExecuteTime": {
     "end_time": "2019-10-13T02:23:38.461842Z",
     "start_time": "2019-10-13T02:23:38.412908Z"
    }
   },
   "outputs": [
    {
     "name": "stdout",
     "output_type": "stream",
     "text": [
      "+-----+-----+----------+----------+-------------------------+---------+\n",
      "|  p  |  q  |  p => q  |  q => p  |  (p => q) and (q => p)  |  p = q  |\n",
      "|-----+-----+----------+----------+-------------------------+---------|\n",
      "|  1  |  1  |    1     |    1     |            1            |    1    |\n",
      "|  1  |  0  |    0     |    1     |            0            |    0    |\n",
      "|  0  |  1  |    1     |    0     |            0            |    0    |\n",
      "|  0  |  0  |    1     |    1     |            1            |    1    |\n",
      "+-----+-----+----------+----------+-------------------------+---------+\n"
     ]
    }
   ],
   "source": [
    "print(truths.Truths(['p', 'q'], ['p => q', 'q => p', '(p => q) and (q => p)', 'p = q']))"
   ]
  },
  {
   "cell_type": "code",
   "execution_count": 9,
   "metadata": {
    "ExecuteTime": {
     "end_time": "2019-10-13T02:23:42.592587Z",
     "start_time": "2019-10-13T02:23:42.589748Z"
    }
   },
   "outputs": [],
   "source": [
    "d = truths.Truths(['p', 'q'], ['p => q', 'q => p', '(p => q) and (q => p)', 'p = q'])"
   ]
  },
  {
   "cell_type": "code",
   "execution_count": 10,
   "metadata": {
    "ExecuteTime": {
     "end_time": "2019-10-13T02:23:43.713742Z",
     "start_time": "2019-10-13T02:23:43.691075Z"
    }
   },
   "outputs": [
    {
     "data": {
      "text/html": [
       "<div>\n",
       "<style scoped>\n",
       "    .dataframe tbody tr th:only-of-type {\n",
       "        vertical-align: middle;\n",
       "    }\n",
       "\n",
       "    .dataframe tbody tr th {\n",
       "        vertical-align: top;\n",
       "    }\n",
       "\n",
       "    .dataframe thead th {\n",
       "        text-align: right;\n",
       "    }\n",
       "</style>\n",
       "<table border=\"1\" class=\"dataframe\">\n",
       "  <thead>\n",
       "    <tr style=\"text-align: right;\">\n",
       "      <th></th>\n",
       "      <th>p</th>\n",
       "      <th>q</th>\n",
       "      <th>p =&gt; q</th>\n",
       "      <th>q =&gt; p</th>\n",
       "      <th>(p =&gt; q) and (q =&gt; p)</th>\n",
       "      <th>p = q</th>\n",
       "    </tr>\n",
       "  </thead>\n",
       "  <tbody>\n",
       "    <tr>\n",
       "      <td>1</td>\n",
       "      <td>1</td>\n",
       "      <td>1</td>\n",
       "      <td>1</td>\n",
       "      <td>1</td>\n",
       "      <td>1</td>\n",
       "      <td>1</td>\n",
       "    </tr>\n",
       "    <tr>\n",
       "      <td>2</td>\n",
       "      <td>1</td>\n",
       "      <td>0</td>\n",
       "      <td>0</td>\n",
       "      <td>1</td>\n",
       "      <td>0</td>\n",
       "      <td>0</td>\n",
       "    </tr>\n",
       "    <tr>\n",
       "      <td>3</td>\n",
       "      <td>0</td>\n",
       "      <td>1</td>\n",
       "      <td>1</td>\n",
       "      <td>0</td>\n",
       "      <td>0</td>\n",
       "      <td>0</td>\n",
       "    </tr>\n",
       "    <tr>\n",
       "      <td>4</td>\n",
       "      <td>0</td>\n",
       "      <td>0</td>\n",
       "      <td>1</td>\n",
       "      <td>1</td>\n",
       "      <td>1</td>\n",
       "      <td>1</td>\n",
       "    </tr>\n",
       "  </tbody>\n",
       "</table>\n",
       "</div>"
      ],
      "text/plain": [
       "   p  q p => q q => p (p => q) and (q => p) p = q\n",
       "1  1  1      1      1                     1     1\n",
       "2  1  0      0      1                     0     0\n",
       "3  0  1      1      0                     0     0\n",
       "4  0  0      1      1                     1     1"
      ]
     },
     "execution_count": 10,
     "metadata": {},
     "output_type": "execute_result"
    }
   ],
   "source": [
    "d.asPandas()"
   ]
  },
  {
   "cell_type": "code",
   "execution_count": 11,
   "metadata": {
    "ExecuteTime": {
     "end_time": "2019-10-13T02:23:44.580303Z",
     "start_time": "2019-10-13T02:23:44.501286Z"
    }
   },
   "outputs": [
    {
     "data": {
      "text/html": [
       "<style  type=\"text/css\" >\n",
       "</style><table id=\"T_7ae1b3fc_ed60_11e9_bee2_0c96e6ec4f2f\" ><thead>    <tr>        <th class=\"col_heading level0 col0\" >p</th>        <th class=\"col_heading level0 col1\" >q</th>        <th class=\"col_heading level0 col2\" >p => q</th>        <th class=\"col_heading level0 col3\" >q => p</th>        <th class=\"col_heading level0 col4\" >(p => q) and (q => p)</th>        <th class=\"col_heading level0 col5\" >p = q</th>    </tr></thead><tbody>\n",
       "                <tr>\n",
       "                                <td id=\"T_7ae1b3fc_ed60_11e9_bee2_0c96e6ec4f2frow0_col0\" class=\"data row0 col0\" >1</td>\n",
       "                        <td id=\"T_7ae1b3fc_ed60_11e9_bee2_0c96e6ec4f2frow0_col1\" class=\"data row0 col1\" >1</td>\n",
       "                        <td id=\"T_7ae1b3fc_ed60_11e9_bee2_0c96e6ec4f2frow0_col2\" class=\"data row0 col2\" >1</td>\n",
       "                        <td id=\"T_7ae1b3fc_ed60_11e9_bee2_0c96e6ec4f2frow0_col3\" class=\"data row0 col3\" >1</td>\n",
       "                        <td id=\"T_7ae1b3fc_ed60_11e9_bee2_0c96e6ec4f2frow0_col4\" class=\"data row0 col4\" >1</td>\n",
       "                        <td id=\"T_7ae1b3fc_ed60_11e9_bee2_0c96e6ec4f2frow0_col5\" class=\"data row0 col5\" >1</td>\n",
       "            </tr>\n",
       "            <tr>\n",
       "                                <td id=\"T_7ae1b3fc_ed60_11e9_bee2_0c96e6ec4f2frow1_col0\" class=\"data row1 col0\" >1</td>\n",
       "                        <td id=\"T_7ae1b3fc_ed60_11e9_bee2_0c96e6ec4f2frow1_col1\" class=\"data row1 col1\" >0</td>\n",
       "                        <td id=\"T_7ae1b3fc_ed60_11e9_bee2_0c96e6ec4f2frow1_col2\" class=\"data row1 col2\" >0</td>\n",
       "                        <td id=\"T_7ae1b3fc_ed60_11e9_bee2_0c96e6ec4f2frow1_col3\" class=\"data row1 col3\" >1</td>\n",
       "                        <td id=\"T_7ae1b3fc_ed60_11e9_bee2_0c96e6ec4f2frow1_col4\" class=\"data row1 col4\" >0</td>\n",
       "                        <td id=\"T_7ae1b3fc_ed60_11e9_bee2_0c96e6ec4f2frow1_col5\" class=\"data row1 col5\" >0</td>\n",
       "            </tr>\n",
       "            <tr>\n",
       "                                <td id=\"T_7ae1b3fc_ed60_11e9_bee2_0c96e6ec4f2frow2_col0\" class=\"data row2 col0\" >0</td>\n",
       "                        <td id=\"T_7ae1b3fc_ed60_11e9_bee2_0c96e6ec4f2frow2_col1\" class=\"data row2 col1\" >1</td>\n",
       "                        <td id=\"T_7ae1b3fc_ed60_11e9_bee2_0c96e6ec4f2frow2_col2\" class=\"data row2 col2\" >1</td>\n",
       "                        <td id=\"T_7ae1b3fc_ed60_11e9_bee2_0c96e6ec4f2frow2_col3\" class=\"data row2 col3\" >0</td>\n",
       "                        <td id=\"T_7ae1b3fc_ed60_11e9_bee2_0c96e6ec4f2frow2_col4\" class=\"data row2 col4\" >0</td>\n",
       "                        <td id=\"T_7ae1b3fc_ed60_11e9_bee2_0c96e6ec4f2frow2_col5\" class=\"data row2 col5\" >0</td>\n",
       "            </tr>\n",
       "            <tr>\n",
       "                                <td id=\"T_7ae1b3fc_ed60_11e9_bee2_0c96e6ec4f2frow3_col0\" class=\"data row3 col0\" >0</td>\n",
       "                        <td id=\"T_7ae1b3fc_ed60_11e9_bee2_0c96e6ec4f2frow3_col1\" class=\"data row3 col1\" >0</td>\n",
       "                        <td id=\"T_7ae1b3fc_ed60_11e9_bee2_0c96e6ec4f2frow3_col2\" class=\"data row3 col2\" >1</td>\n",
       "                        <td id=\"T_7ae1b3fc_ed60_11e9_bee2_0c96e6ec4f2frow3_col3\" class=\"data row3 col3\" >1</td>\n",
       "                        <td id=\"T_7ae1b3fc_ed60_11e9_bee2_0c96e6ec4f2frow3_col4\" class=\"data row3 col4\" >1</td>\n",
       "                        <td id=\"T_7ae1b3fc_ed60_11e9_bee2_0c96e6ec4f2frow3_col5\" class=\"data row3 col5\" >1</td>\n",
       "            </tr>\n",
       "    </tbody></table>"
      ],
      "text/plain": [
       "<pandas.io.formats.style.Styler at 0x7f1ea088c150>"
      ]
     },
     "execution_count": 11,
     "metadata": {},
     "output_type": "execute_result"
    }
   ],
   "source": [
    "d.asPandas().style.hide_index()"
   ]
  },
  {
   "cell_type": "code",
   "execution_count": 12,
   "metadata": {
    "ExecuteTime": {
     "end_time": "2019-10-13T02:23:48.057671Z",
     "start_time": "2019-10-13T02:23:48.055254Z"
    }
   },
   "outputs": [],
   "source": [
    "t = truths.Truths(['p', 'q'], ['p => q', 'q => p', '(p => q) and (q => p)', 'p = q'])"
   ]
  },
  {
   "cell_type": "code",
   "execution_count": 13,
   "metadata": {
    "ExecuteTime": {
     "end_time": "2019-10-13T02:23:50.527633Z",
     "start_time": "2019-10-13T02:23:50.520777Z"
    }
   },
   "outputs": [
    {
     "name": "stdout",
     "output_type": "stream",
     "text": [
      "+---+---+--------+--------+-----------------------+-------+\n",
      "| p | q | p => q | q => p | (p => q) and (q => p) | p = q |\n",
      "+---+---+--------+--------+-----------------------+-------+\n",
      "| 1 | 1 |   1    |   1    |           1           |   1   |\n",
      "| 1 | 0 |   0    |   1    |           0           |   0   |\n",
      "| 0 | 1 |   1    |   0    |           0           |   0   |\n",
      "| 0 | 0 |   1    |   1    |           1           |   1   |\n",
      "+---+---+--------+--------+-----------------------+-------+\n"
     ]
    }
   ],
   "source": [
    "print(t.asPrettyTable())"
   ]
  },
  {
   "cell_type": "code",
   "execution_count": 14,
   "metadata": {
    "ExecuteTime": {
     "end_time": "2019-10-13T02:23:52.928532Z",
     "start_time": "2019-10-13T02:23:52.902637Z"
    }
   },
   "outputs": [
    {
     "name": "stdout",
     "output_type": "stream",
     "text": [
      "+----+-----+-----+----------+----------+-------------------------+---------+\n",
      "|    |  p  |  q  |  p => q  |  q => p  |  (p => q) and (q => p)  |  p = q  |\n",
      "|----+-----+-----+----------+----------+-------------------------+---------|\n",
      "| 1  |  1  |  1  |    1     |    1     |            1            |    1    |\n",
      "| 2  |  1  |  0  |    0     |    1     |            0            |    0    |\n",
      "| 3  |  0  |  1  |    1     |    0     |            0            |    0    |\n",
      "| 4  |  0  |  0  |    1     |    1     |            1            |    1    |\n",
      "+----+-----+-----+----------+----------+-------------------------+---------+\n"
     ]
    }
   ],
   "source": [
    "print(t.asTabulate())"
   ]
  },
  {
   "cell_type": "code",
   "execution_count": 5,
   "metadata": {
    "ExecuteTime": {
     "end_time": "2019-10-13T02:15:36.135339Z",
     "start_time": "2019-10-13T02:15:36.111281Z"
    }
   },
   "outputs": [
    {
     "name": "stdout",
     "output_type": "stream",
     "text": [
      "\\begin{tabular}{cccccc}\n",
      "\\hline\n",
      "  p  &  q  &  p =\\ensuremath{>} q  &  q =\\ensuremath{>} p  &  (p =\\ensuremath{>} q) and (q =\\ensuremath{>} p)  &  p = q  \\\\\n",
      "\\hline\n",
      "  1  &  1  &    1     &    1     &            1            &    1    \\\\\n",
      "  1  &  0  &    0     &    1     &            0            &    0    \\\\\n",
      "  0  &  1  &    1     &    0     &            0            &    0    \\\\\n",
      "  0  &  0  &    1     &    1     &            1            &    1    \\\\\n",
      "\\hline\n",
      "\\end{tabular}\n"
     ]
    }
   ],
   "source": [
    "print(t.asTabulate(index=False, table_format='latex'))"
   ]
  },
  {
   "cell_type": "code",
   "execution_count": 6,
   "metadata": {
    "ExecuteTime": {
     "end_time": "2019-10-13T02:15:36.799608Z",
     "start_time": "2019-10-13T02:15:36.494823Z"
    }
   },
   "outputs": [
    {
     "name": "stdout",
     "output_type": "stream",
     "text": [
      "\\begin{tabular}{ccccccc}\n",
      "\\hline\n",
      "    &  p  &  q  &  p => q  &  q => p  &  (p => q) and (q => p)  &  p = q  \\\\\n",
      "\\hline\n",
      " 1  &  1  &  1  &    1     &    1     &            1            &    1    \\\\\n",
      " 2  &  1  &  0  &    0     &    1     &            0            &    0    \\\\\n",
      " 3  &  0  &  1  &    1     &    0     &            0            &    0    \\\\\n",
      " 4  &  0  &  0  &    1     &    1     &            1            &    1    \\\\\n",
      "\\hline\n",
      "\\end{tabular}\n"
     ]
    }
   ],
   "source": [
    "print(t.asTabulate(index=True, table_format='latex_raw'))"
   ]
  },
  {
   "cell_type": "code",
   "execution_count": 7,
   "metadata": {
    "ExecuteTime": {
     "end_time": "2019-10-13T02:15:37.663852Z",
     "start_time": "2019-10-13T02:15:37.638876Z"
    }
   },
   "outputs": [
    {
     "name": "stdout",
     "output_type": "stream",
     "text": [
      "\\begin{tabular}{cccccc}\n",
      "\\toprule\n",
      "  p  &  q  &  p =\\ensuremath{>} q  &  q =\\ensuremath{>} p  &  (p =\\ensuremath{>} q) and (q =\\ensuremath{>} p)  &  p = q  \\\\\n",
      "\\midrule\n",
      "  1  &  1  &    1     &    1     &            1            &    1    \\\\\n",
      "  1  &  0  &    0     &    1     &            0            &    0    \\\\\n",
      "  0  &  1  &    1     &    0     &            0            &    0    \\\\\n",
      "  0  &  0  &    1     &    1     &            1            &    1    \\\\\n",
      "\\bottomrule\n",
      "\\end{tabular}\n"
     ]
    }
   ],
   "source": [
    "print(t.asTabulate(index=False, table_format='latex_booktabs'))"
   ]
  },
  {
   "cell_type": "code",
   "execution_count": 8,
   "metadata": {
    "ExecuteTime": {
     "end_time": "2019-10-13T02:15:40.078752Z",
     "start_time": "2019-10-13T02:15:40.076146Z"
    }
   },
   "outputs": [],
   "source": [
    "t = truths.Truths(['p', 'q'], ['p => q', 'q => p', '(p => q) and (q => p)', 'p = q'], ints=False)"
   ]
  },
  {
   "cell_type": "code",
   "execution_count": 9,
   "metadata": {
    "ExecuteTime": {
     "end_time": "2019-10-13T02:15:41.499836Z",
     "start_time": "2019-10-13T02:15:41.475442Z"
    }
   },
   "outputs": [
    {
     "name": "stdout",
     "output_type": "stream",
     "text": [
      "+----+-------+-------+----------+----------+-------------------------+---------+\n",
      "|    |   p   |   q   |  p => q  |  q => p  |  (p => q) and (q => p)  |  p = q  |\n",
      "|----+-------+-------+----------+----------+-------------------------+---------|\n",
      "| 1  | True  | True  |   True   |   True   |          True           |  True   |\n",
      "| 2  | True  | False |  False   |   True   |          False          |  False  |\n",
      "| 3  | False | True  |   True   |  False   |          False          |  False  |\n",
      "| 4  | False | False |   True   |   True   |          True           |  True   |\n",
      "+----+-------+-------+----------+----------+-------------------------+---------+\n"
     ]
    }
   ],
   "source": [
    "print(t.asTabulate())"
   ]
  },
  {
   "cell_type": "code",
   "execution_count": 10,
   "metadata": {
    "ExecuteTime": {
     "end_time": "2019-10-13T02:15:43.341528Z",
     "start_time": "2019-10-13T02:15:43.338983Z"
    }
   },
   "outputs": [],
   "source": [
    "d = truths.Truths(['p', 'q'], ['p => q', 'q => p', '(p => q) and (q => p)', 'p = q'])"
   ]
  },
  {
   "cell_type": "code",
   "execution_count": 11,
   "metadata": {
    "ExecuteTime": {
     "end_time": "2019-10-13T02:15:43.979790Z",
     "start_time": "2019-10-13T02:15:43.946413Z"
    }
   },
   "outputs": [
    {
     "data": {
      "text/html": [
       "<div>\n",
       "<style scoped>\n",
       "    .dataframe tbody tr th:only-of-type {\n",
       "        vertical-align: middle;\n",
       "    }\n",
       "\n",
       "    .dataframe tbody tr th {\n",
       "        vertical-align: top;\n",
       "    }\n",
       "\n",
       "    .dataframe thead th {\n",
       "        text-align: right;\n",
       "    }\n",
       "</style>\n",
       "<table border=\"1\" class=\"dataframe\">\n",
       "  <thead>\n",
       "    <tr style=\"text-align: right;\">\n",
       "      <th></th>\n",
       "      <th>p</th>\n",
       "      <th>q</th>\n",
       "      <th>p =&gt; q</th>\n",
       "      <th>q =&gt; p</th>\n",
       "      <th>(p =&gt; q) and (q =&gt; p)</th>\n",
       "      <th>p = q</th>\n",
       "    </tr>\n",
       "  </thead>\n",
       "  <tbody>\n",
       "    <tr>\n",
       "      <td>1</td>\n",
       "      <td>1</td>\n",
       "      <td>1</td>\n",
       "      <td>1</td>\n",
       "      <td>1</td>\n",
       "      <td>1</td>\n",
       "      <td>1</td>\n",
       "    </tr>\n",
       "    <tr>\n",
       "      <td>2</td>\n",
       "      <td>1</td>\n",
       "      <td>0</td>\n",
       "      <td>0</td>\n",
       "      <td>1</td>\n",
       "      <td>0</td>\n",
       "      <td>0</td>\n",
       "    </tr>\n",
       "    <tr>\n",
       "      <td>3</td>\n",
       "      <td>0</td>\n",
       "      <td>1</td>\n",
       "      <td>1</td>\n",
       "      <td>0</td>\n",
       "      <td>0</td>\n",
       "      <td>0</td>\n",
       "    </tr>\n",
       "    <tr>\n",
       "      <td>4</td>\n",
       "      <td>0</td>\n",
       "      <td>0</td>\n",
       "      <td>1</td>\n",
       "      <td>1</td>\n",
       "      <td>1</td>\n",
       "      <td>1</td>\n",
       "    </tr>\n",
       "  </tbody>\n",
       "</table>\n",
       "</div>"
      ],
      "text/plain": [
       "   p  q p => q q => p (p => q) and (q => p) p = q\n",
       "1  1  1      1      1                     1     1\n",
       "2  1  0      0      1                     0     0\n",
       "3  0  1      1      0                     0     0\n",
       "4  0  0      1      1                     1     1"
      ]
     },
     "execution_count": 11,
     "metadata": {},
     "output_type": "execute_result"
    }
   ],
   "source": [
    "d.asPandas()"
   ]
  },
  {
   "cell_type": "code",
   "execution_count": 12,
   "metadata": {
    "ExecuteTime": {
     "end_time": "2019-10-13T02:15:46.261791Z",
     "start_time": "2019-10-13T02:15:46.178161Z"
    }
   },
   "outputs": [
    {
     "data": {
      "text/html": [
       "<style  type=\"text/css\" >\n",
       "    #T_5dc809d4_ed5f_11e9_bee2_0c96e6ec4f2frow0_col0 {\n",
       "            text-align:  center;\n",
       "        }    #T_5dc809d4_ed5f_11e9_bee2_0c96e6ec4f2frow0_col1 {\n",
       "            text-align:  center;\n",
       "        }    #T_5dc809d4_ed5f_11e9_bee2_0c96e6ec4f2frow0_col2 {\n",
       "            text-align:  center;\n",
       "        }    #T_5dc809d4_ed5f_11e9_bee2_0c96e6ec4f2frow0_col3 {\n",
       "            text-align:  center;\n",
       "        }    #T_5dc809d4_ed5f_11e9_bee2_0c96e6ec4f2frow0_col4 {\n",
       "            text-align:  center;\n",
       "        }    #T_5dc809d4_ed5f_11e9_bee2_0c96e6ec4f2frow0_col5 {\n",
       "            text-align:  center;\n",
       "        }    #T_5dc809d4_ed5f_11e9_bee2_0c96e6ec4f2frow1_col0 {\n",
       "            text-align:  center;\n",
       "        }    #T_5dc809d4_ed5f_11e9_bee2_0c96e6ec4f2frow1_col1 {\n",
       "            text-align:  center;\n",
       "        }    #T_5dc809d4_ed5f_11e9_bee2_0c96e6ec4f2frow1_col2 {\n",
       "            text-align:  center;\n",
       "        }    #T_5dc809d4_ed5f_11e9_bee2_0c96e6ec4f2frow1_col3 {\n",
       "            text-align:  center;\n",
       "        }    #T_5dc809d4_ed5f_11e9_bee2_0c96e6ec4f2frow1_col4 {\n",
       "            text-align:  center;\n",
       "        }    #T_5dc809d4_ed5f_11e9_bee2_0c96e6ec4f2frow1_col5 {\n",
       "            text-align:  center;\n",
       "        }    #T_5dc809d4_ed5f_11e9_bee2_0c96e6ec4f2frow2_col0 {\n",
       "            text-align:  center;\n",
       "        }    #T_5dc809d4_ed5f_11e9_bee2_0c96e6ec4f2frow2_col1 {\n",
       "            text-align:  center;\n",
       "        }    #T_5dc809d4_ed5f_11e9_bee2_0c96e6ec4f2frow2_col2 {\n",
       "            text-align:  center;\n",
       "        }    #T_5dc809d4_ed5f_11e9_bee2_0c96e6ec4f2frow2_col3 {\n",
       "            text-align:  center;\n",
       "        }    #T_5dc809d4_ed5f_11e9_bee2_0c96e6ec4f2frow2_col4 {\n",
       "            text-align:  center;\n",
       "        }    #T_5dc809d4_ed5f_11e9_bee2_0c96e6ec4f2frow2_col5 {\n",
       "            text-align:  center;\n",
       "        }    #T_5dc809d4_ed5f_11e9_bee2_0c96e6ec4f2frow3_col0 {\n",
       "            text-align:  center;\n",
       "        }    #T_5dc809d4_ed5f_11e9_bee2_0c96e6ec4f2frow3_col1 {\n",
       "            text-align:  center;\n",
       "        }    #T_5dc809d4_ed5f_11e9_bee2_0c96e6ec4f2frow3_col2 {\n",
       "            text-align:  center;\n",
       "        }    #T_5dc809d4_ed5f_11e9_bee2_0c96e6ec4f2frow3_col3 {\n",
       "            text-align:  center;\n",
       "        }    #T_5dc809d4_ed5f_11e9_bee2_0c96e6ec4f2frow3_col4 {\n",
       "            text-align:  center;\n",
       "        }    #T_5dc809d4_ed5f_11e9_bee2_0c96e6ec4f2frow3_col5 {\n",
       "            text-align:  center;\n",
       "        }</style><table id=\"T_5dc809d4_ed5f_11e9_bee2_0c96e6ec4f2f\" ><thead>    <tr>        <th class=\"blank level0\" ></th>        <th class=\"col_heading level0 col0\" >p</th>        <th class=\"col_heading level0 col1\" >q</th>        <th class=\"col_heading level0 col2\" >p => q</th>        <th class=\"col_heading level0 col3\" >q => p</th>        <th class=\"col_heading level0 col4\" >(p => q) and (q => p)</th>        <th class=\"col_heading level0 col5\" >p = q</th>    </tr></thead><tbody>\n",
       "                <tr>\n",
       "                        <th id=\"T_5dc809d4_ed5f_11e9_bee2_0c96e6ec4f2flevel0_row0\" class=\"row_heading level0 row0\" >1</th>\n",
       "                        <td id=\"T_5dc809d4_ed5f_11e9_bee2_0c96e6ec4f2frow0_col0\" class=\"data row0 col0\" >1</td>\n",
       "                        <td id=\"T_5dc809d4_ed5f_11e9_bee2_0c96e6ec4f2frow0_col1\" class=\"data row0 col1\" >1</td>\n",
       "                        <td id=\"T_5dc809d4_ed5f_11e9_bee2_0c96e6ec4f2frow0_col2\" class=\"data row0 col2\" >1</td>\n",
       "                        <td id=\"T_5dc809d4_ed5f_11e9_bee2_0c96e6ec4f2frow0_col3\" class=\"data row0 col3\" >1</td>\n",
       "                        <td id=\"T_5dc809d4_ed5f_11e9_bee2_0c96e6ec4f2frow0_col4\" class=\"data row0 col4\" >1</td>\n",
       "                        <td id=\"T_5dc809d4_ed5f_11e9_bee2_0c96e6ec4f2frow0_col5\" class=\"data row0 col5\" >1</td>\n",
       "            </tr>\n",
       "            <tr>\n",
       "                        <th id=\"T_5dc809d4_ed5f_11e9_bee2_0c96e6ec4f2flevel0_row1\" class=\"row_heading level0 row1\" >2</th>\n",
       "                        <td id=\"T_5dc809d4_ed5f_11e9_bee2_0c96e6ec4f2frow1_col0\" class=\"data row1 col0\" >1</td>\n",
       "                        <td id=\"T_5dc809d4_ed5f_11e9_bee2_0c96e6ec4f2frow1_col1\" class=\"data row1 col1\" >0</td>\n",
       "                        <td id=\"T_5dc809d4_ed5f_11e9_bee2_0c96e6ec4f2frow1_col2\" class=\"data row1 col2\" >0</td>\n",
       "                        <td id=\"T_5dc809d4_ed5f_11e9_bee2_0c96e6ec4f2frow1_col3\" class=\"data row1 col3\" >1</td>\n",
       "                        <td id=\"T_5dc809d4_ed5f_11e9_bee2_0c96e6ec4f2frow1_col4\" class=\"data row1 col4\" >0</td>\n",
       "                        <td id=\"T_5dc809d4_ed5f_11e9_bee2_0c96e6ec4f2frow1_col5\" class=\"data row1 col5\" >0</td>\n",
       "            </tr>\n",
       "            <tr>\n",
       "                        <th id=\"T_5dc809d4_ed5f_11e9_bee2_0c96e6ec4f2flevel0_row2\" class=\"row_heading level0 row2\" >3</th>\n",
       "                        <td id=\"T_5dc809d4_ed5f_11e9_bee2_0c96e6ec4f2frow2_col0\" class=\"data row2 col0\" >0</td>\n",
       "                        <td id=\"T_5dc809d4_ed5f_11e9_bee2_0c96e6ec4f2frow2_col1\" class=\"data row2 col1\" >1</td>\n",
       "                        <td id=\"T_5dc809d4_ed5f_11e9_bee2_0c96e6ec4f2frow2_col2\" class=\"data row2 col2\" >1</td>\n",
       "                        <td id=\"T_5dc809d4_ed5f_11e9_bee2_0c96e6ec4f2frow2_col3\" class=\"data row2 col3\" >0</td>\n",
       "                        <td id=\"T_5dc809d4_ed5f_11e9_bee2_0c96e6ec4f2frow2_col4\" class=\"data row2 col4\" >0</td>\n",
       "                        <td id=\"T_5dc809d4_ed5f_11e9_bee2_0c96e6ec4f2frow2_col5\" class=\"data row2 col5\" >0</td>\n",
       "            </tr>\n",
       "            <tr>\n",
       "                        <th id=\"T_5dc809d4_ed5f_11e9_bee2_0c96e6ec4f2flevel0_row3\" class=\"row_heading level0 row3\" >4</th>\n",
       "                        <td id=\"T_5dc809d4_ed5f_11e9_bee2_0c96e6ec4f2frow3_col0\" class=\"data row3 col0\" >0</td>\n",
       "                        <td id=\"T_5dc809d4_ed5f_11e9_bee2_0c96e6ec4f2frow3_col1\" class=\"data row3 col1\" >0</td>\n",
       "                        <td id=\"T_5dc809d4_ed5f_11e9_bee2_0c96e6ec4f2frow3_col2\" class=\"data row3 col2\" >1</td>\n",
       "                        <td id=\"T_5dc809d4_ed5f_11e9_bee2_0c96e6ec4f2frow3_col3\" class=\"data row3 col3\" >1</td>\n",
       "                        <td id=\"T_5dc809d4_ed5f_11e9_bee2_0c96e6ec4f2frow3_col4\" class=\"data row3 col4\" >1</td>\n",
       "                        <td id=\"T_5dc809d4_ed5f_11e9_bee2_0c96e6ec4f2frow3_col5\" class=\"data row3 col5\" >1</td>\n",
       "            </tr>\n",
       "    </tbody></table>"
      ],
      "text/plain": [
       "<pandas.io.formats.style.Styler at 0x7fb640d38cd0>"
      ]
     },
     "execution_count": 12,
     "metadata": {},
     "output_type": "execute_result"
    }
   ],
   "source": [
    "d.asPandas().style.set_properties(**{'text-align': 'center'})"
   ]
  },
  {
   "cell_type": "code",
   "execution_count": 13,
   "metadata": {
    "ExecuteTime": {
     "end_time": "2019-10-13T02:15:49.899483Z",
     "start_time": "2019-10-13T02:15:49.875733Z"
    }
   },
   "outputs": [
    {
     "data": {
      "text/html": [
       "<style  type=\"text/css\" >\n",
       "    #T_5ff32f18_ed5f_11e9_bee2_0c96e6ec4f2frow0_col0 {\n",
       "            text-align:  center;\n",
       "        }    #T_5ff32f18_ed5f_11e9_bee2_0c96e6ec4f2frow0_col1 {\n",
       "            text-align:  center;\n",
       "        }    #T_5ff32f18_ed5f_11e9_bee2_0c96e6ec4f2frow0_col2 {\n",
       "            text-align:  center;\n",
       "        }    #T_5ff32f18_ed5f_11e9_bee2_0c96e6ec4f2frow0_col3 {\n",
       "            text-align:  center;\n",
       "        }    #T_5ff32f18_ed5f_11e9_bee2_0c96e6ec4f2frow0_col4 {\n",
       "            text-align:  center;\n",
       "        }    #T_5ff32f18_ed5f_11e9_bee2_0c96e6ec4f2frow0_col5 {\n",
       "            text-align:  center;\n",
       "        }    #T_5ff32f18_ed5f_11e9_bee2_0c96e6ec4f2frow1_col0 {\n",
       "            text-align:  center;\n",
       "        }    #T_5ff32f18_ed5f_11e9_bee2_0c96e6ec4f2frow1_col1 {\n",
       "            text-align:  center;\n",
       "        }    #T_5ff32f18_ed5f_11e9_bee2_0c96e6ec4f2frow1_col2 {\n",
       "            text-align:  center;\n",
       "        }    #T_5ff32f18_ed5f_11e9_bee2_0c96e6ec4f2frow1_col3 {\n",
       "            text-align:  center;\n",
       "        }    #T_5ff32f18_ed5f_11e9_bee2_0c96e6ec4f2frow1_col4 {\n",
       "            text-align:  center;\n",
       "        }    #T_5ff32f18_ed5f_11e9_bee2_0c96e6ec4f2frow1_col5 {\n",
       "            text-align:  center;\n",
       "        }    #T_5ff32f18_ed5f_11e9_bee2_0c96e6ec4f2frow2_col0 {\n",
       "            text-align:  center;\n",
       "        }    #T_5ff32f18_ed5f_11e9_bee2_0c96e6ec4f2frow2_col1 {\n",
       "            text-align:  center;\n",
       "        }    #T_5ff32f18_ed5f_11e9_bee2_0c96e6ec4f2frow2_col2 {\n",
       "            text-align:  center;\n",
       "        }    #T_5ff32f18_ed5f_11e9_bee2_0c96e6ec4f2frow2_col3 {\n",
       "            text-align:  center;\n",
       "        }    #T_5ff32f18_ed5f_11e9_bee2_0c96e6ec4f2frow2_col4 {\n",
       "            text-align:  center;\n",
       "        }    #T_5ff32f18_ed5f_11e9_bee2_0c96e6ec4f2frow2_col5 {\n",
       "            text-align:  center;\n",
       "        }    #T_5ff32f18_ed5f_11e9_bee2_0c96e6ec4f2frow3_col0 {\n",
       "            text-align:  center;\n",
       "        }    #T_5ff32f18_ed5f_11e9_bee2_0c96e6ec4f2frow3_col1 {\n",
       "            text-align:  center;\n",
       "        }    #T_5ff32f18_ed5f_11e9_bee2_0c96e6ec4f2frow3_col2 {\n",
       "            text-align:  center;\n",
       "        }    #T_5ff32f18_ed5f_11e9_bee2_0c96e6ec4f2frow3_col3 {\n",
       "            text-align:  center;\n",
       "        }    #T_5ff32f18_ed5f_11e9_bee2_0c96e6ec4f2frow3_col4 {\n",
       "            text-align:  center;\n",
       "        }    #T_5ff32f18_ed5f_11e9_bee2_0c96e6ec4f2frow3_col5 {\n",
       "            text-align:  center;\n",
       "        }</style><table id=\"T_5ff32f18_ed5f_11e9_bee2_0c96e6ec4f2f\" ><thead>    <tr>        <th class=\"col_heading level0 col0\" >p</th>        <th class=\"col_heading level0 col1\" >q</th>        <th class=\"col_heading level0 col2\" >p => q</th>        <th class=\"col_heading level0 col3\" >q => p</th>        <th class=\"col_heading level0 col4\" >(p => q) and (q => p)</th>        <th class=\"col_heading level0 col5\" >p = q</th>    </tr></thead><tbody>\n",
       "                <tr>\n",
       "                                <td id=\"T_5ff32f18_ed5f_11e9_bee2_0c96e6ec4f2frow0_col0\" class=\"data row0 col0\" >1</td>\n",
       "                        <td id=\"T_5ff32f18_ed5f_11e9_bee2_0c96e6ec4f2frow0_col1\" class=\"data row0 col1\" >1</td>\n",
       "                        <td id=\"T_5ff32f18_ed5f_11e9_bee2_0c96e6ec4f2frow0_col2\" class=\"data row0 col2\" >1</td>\n",
       "                        <td id=\"T_5ff32f18_ed5f_11e9_bee2_0c96e6ec4f2frow0_col3\" class=\"data row0 col3\" >1</td>\n",
       "                        <td id=\"T_5ff32f18_ed5f_11e9_bee2_0c96e6ec4f2frow0_col4\" class=\"data row0 col4\" >1</td>\n",
       "                        <td id=\"T_5ff32f18_ed5f_11e9_bee2_0c96e6ec4f2frow0_col5\" class=\"data row0 col5\" >1</td>\n",
       "            </tr>\n",
       "            <tr>\n",
       "                                <td id=\"T_5ff32f18_ed5f_11e9_bee2_0c96e6ec4f2frow1_col0\" class=\"data row1 col0\" >1</td>\n",
       "                        <td id=\"T_5ff32f18_ed5f_11e9_bee2_0c96e6ec4f2frow1_col1\" class=\"data row1 col1\" >0</td>\n",
       "                        <td id=\"T_5ff32f18_ed5f_11e9_bee2_0c96e6ec4f2frow1_col2\" class=\"data row1 col2\" >0</td>\n",
       "                        <td id=\"T_5ff32f18_ed5f_11e9_bee2_0c96e6ec4f2frow1_col3\" class=\"data row1 col3\" >1</td>\n",
       "                        <td id=\"T_5ff32f18_ed5f_11e9_bee2_0c96e6ec4f2frow1_col4\" class=\"data row1 col4\" >0</td>\n",
       "                        <td id=\"T_5ff32f18_ed5f_11e9_bee2_0c96e6ec4f2frow1_col5\" class=\"data row1 col5\" >0</td>\n",
       "            </tr>\n",
       "            <tr>\n",
       "                                <td id=\"T_5ff32f18_ed5f_11e9_bee2_0c96e6ec4f2frow2_col0\" class=\"data row2 col0\" >0</td>\n",
       "                        <td id=\"T_5ff32f18_ed5f_11e9_bee2_0c96e6ec4f2frow2_col1\" class=\"data row2 col1\" >1</td>\n",
       "                        <td id=\"T_5ff32f18_ed5f_11e9_bee2_0c96e6ec4f2frow2_col2\" class=\"data row2 col2\" >1</td>\n",
       "                        <td id=\"T_5ff32f18_ed5f_11e9_bee2_0c96e6ec4f2frow2_col3\" class=\"data row2 col3\" >0</td>\n",
       "                        <td id=\"T_5ff32f18_ed5f_11e9_bee2_0c96e6ec4f2frow2_col4\" class=\"data row2 col4\" >0</td>\n",
       "                        <td id=\"T_5ff32f18_ed5f_11e9_bee2_0c96e6ec4f2frow2_col5\" class=\"data row2 col5\" >0</td>\n",
       "            </tr>\n",
       "            <tr>\n",
       "                                <td id=\"T_5ff32f18_ed5f_11e9_bee2_0c96e6ec4f2frow3_col0\" class=\"data row3 col0\" >0</td>\n",
       "                        <td id=\"T_5ff32f18_ed5f_11e9_bee2_0c96e6ec4f2frow3_col1\" class=\"data row3 col1\" >0</td>\n",
       "                        <td id=\"T_5ff32f18_ed5f_11e9_bee2_0c96e6ec4f2frow3_col2\" class=\"data row3 col2\" >1</td>\n",
       "                        <td id=\"T_5ff32f18_ed5f_11e9_bee2_0c96e6ec4f2frow3_col3\" class=\"data row3 col3\" >1</td>\n",
       "                        <td id=\"T_5ff32f18_ed5f_11e9_bee2_0c96e6ec4f2frow3_col4\" class=\"data row3 col4\" >1</td>\n",
       "                        <td id=\"T_5ff32f18_ed5f_11e9_bee2_0c96e6ec4f2frow3_col5\" class=\"data row3 col5\" >1</td>\n",
       "            </tr>\n",
       "    </tbody></table>"
      ],
      "text/plain": [
       "<pandas.io.formats.style.Styler at 0x7fb669721710>"
      ]
     },
     "execution_count": 13,
     "metadata": {},
     "output_type": "execute_result"
    }
   ],
   "source": [
    "d.asPandas().style.set_properties(**{'text-align': 'center'}).hide_index()"
   ]
  },
  {
   "cell_type": "code",
   "execution_count": 14,
   "metadata": {
    "ExecuteTime": {
     "end_time": "2019-10-13T02:20:09.776277Z",
     "start_time": "2019-10-13T02:20:09.772836Z"
    }
   },
   "outputs": [
    {
     "name": "stdout",
     "output_type": "stream",
     "text": [
      "+---+---+---+\n",
      "| a | b | x |\n",
      "+---+---+---+\n",
      "| 1 | 1 | 1 |\n",
      "| 1 | 1 | 0 |\n",
      "| 1 | 0 | 1 |\n",
      "| 1 | 0 | 0 |\n",
      "| 0 | 1 | 1 |\n",
      "| 0 | 1 | 0 |\n",
      "| 0 | 0 | 1 |\n",
      "| 0 | 0 | 0 |\n",
      "+---+---+---+\n"
     ]
    }
   ],
   "source": [
    "print(truths.Truths(['a', 'b', 'x']))"
   ]
  },
  {
   "cell_type": "code",
   "execution_count": 17,
   "metadata": {
    "ExecuteTime": {
     "end_time": "2019-10-13T02:29:43.067234Z",
     "start_time": "2019-10-13T02:29:43.063948Z"
    }
   },
   "outputs": [
    {
     "data": {
      "text/plain": [
       "['DataRow',\n",
       " 'Iterable',\n",
       " 'LATEX_ESCAPE_RULES',\n",
       " 'Line',\n",
       " 'MIN_PADDING',\n",
       " 'PRESERVE_WHITESPACE',\n",
       " 'TableFormat',\n",
       " 'WIDE_CHARS_MODE',\n",
       " '_DEFAULT_FLOATFMT',\n",
       " '_DEFAULT_MISSINGVAL',\n",
       " '__all__',\n",
       " '__builtins__',\n",
       " '__cached__',\n",
       " '__doc__',\n",
       " '__file__',\n",
       " '__loader__',\n",
       " '__name__',\n",
       " '__package__',\n",
       " '__spec__',\n",
       " '__version__',\n",
       " '_afterpoint',\n",
       " '_align_column',\n",
       " '_align_column_choose_padfn',\n",
       " '_align_header',\n",
       " '_append_basic_row',\n",
       " '_append_line',\n",
       " '_append_multiline_row',\n",
       " '_binary_type',\n",
       " '_bool',\n",
       " '_bool_type',\n",
       " '_build_line',\n",
       " '_build_row',\n",
       " '_build_simple_row',\n",
       " '_choose_width_fn',\n",
       " '_column_type',\n",
       " '_expand_numparse',\n",
       " '_float_type',\n",
       " '_format',\n",
       " '_format_table',\n",
       " '_html_begin_table_without_header',\n",
       " '_html_row_with_attrs',\n",
       " '_int_type',\n",
       " '_invisible_codes',\n",
       " '_invisible_codes_bytes',\n",
       " '_is_file',\n",
       " '_is_multiline',\n",
       " '_isbool',\n",
       " '_isconvertible',\n",
       " '_isint',\n",
       " '_isnumber',\n",
       " '_latex_line_begin_tabular',\n",
       " '_latex_row',\n",
       " '_long_type',\n",
       " '_main',\n",
       " '_mediawiki_row_with_attrs',\n",
       " '_moin_row_with_attrs',\n",
       " '_more_generic',\n",
       " '_multiline_codes',\n",
       " '_multiline_codes_bytes',\n",
       " '_multiline_width',\n",
       " '_none_type',\n",
       " '_normalize_tabular_data',\n",
       " '_pad_row',\n",
       " '_padboth',\n",
       " '_padleft',\n",
       " '_padnone',\n",
       " '_padright',\n",
       " '_pipe_line_with_colons',\n",
       " '_pipe_segment_with_colons',\n",
       " '_pprint_file',\n",
       " '_prepend_row_index',\n",
       " '_rst_escape_first_column',\n",
       " '_strip_invisible',\n",
       " '_table_formats',\n",
       " '_text_type',\n",
       " '_textile_row_with_attrs',\n",
       " '_type',\n",
       " '_visible_width',\n",
       " 'basestring',\n",
       " 'io',\n",
       " 'izip_longest',\n",
       " 'math',\n",
       " 'multiline_formats',\n",
       " 'namedtuple',\n",
       " 'partial',\n",
       " 'print_function',\n",
       " 'python_version_tuple',\n",
       " 're',\n",
       " 'reduce',\n",
       " 'simple_separated_format',\n",
       " 'tabulate',\n",
       " 'tabulate_formats',\n",
       " 'unicode_literals',\n",
       " 'wcwidth']"
      ]
     },
     "execution_count": 17,
     "metadata": {},
     "output_type": "execute_result"
    }
   ],
   "source": [
    "import tabulate\n",
    "dir(tabulate)"
   ]
  },
  {
   "cell_type": "code",
   "execution_count": null,
   "metadata": {},
   "outputs": [],
   "source": []
  }
 ],
 "metadata": {
  "hide_input": false,
  "kernelspec": {
   "display_name": "Python [conda env:truths]",
   "language": "python",
   "name": "conda-env-truths-py"
  },
  "language_info": {
   "codemirror_mode": {
    "name": "ipython",
    "version": 3
   },
   "file_extension": ".py",
   "mimetype": "text/x-python",
   "name": "python",
   "nbconvert_exporter": "python",
   "pygments_lexer": "ipython3",
   "version": "3.7.4"
  },
  "toc": {
   "base_numbering": 1,
   "nav_menu": {},
   "number_sections": true,
   "sideBar": true,
   "skip_h1_title": false,
   "title_cell": "Table of Contents",
   "title_sidebar": "Contents",
   "toc_cell": false,
   "toc_position": {},
   "toc_section_display": true,
   "toc_window_display": false
  },
  "varInspector": {
   "cols": {
    "lenName": 16,
    "lenType": 16,
    "lenVar": 40
   },
   "kernels_config": {
    "python": {
     "delete_cmd_postfix": "",
     "delete_cmd_prefix": "del ",
     "library": "var_list.py",
     "varRefreshCmd": "print(var_dic_list())"
    },
    "r": {
     "delete_cmd_postfix": ") ",
     "delete_cmd_prefix": "rm(",
     "library": "var_list.r",
     "varRefreshCmd": "cat(var_dic_list()) "
    }
   },
   "types_to_exclude": [
    "module",
    "function",
    "builtin_function_or_method",
    "instance",
    "_Feature"
   ],
   "window_display": false
  }
 },
 "nbformat": 4,
 "nbformat_minor": 2
}
